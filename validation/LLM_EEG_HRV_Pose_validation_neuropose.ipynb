{
 "cells": [
  {
   "cell_type": "markdown",
   "metadata": {
    "id": "dKcAHJeFtcF3"
   },
   "source": [
    "# Anomalies Extraction Functions"
   ]
  },
  {
   "cell_type": "code",
   "execution_count": null,
   "metadata": {
    "id": "7bMgHMriT7KL"
   },
   "outputs": [],
   "source": [
    "def eeg_band_anomaly_detector(eeg_df,\n",
    "                                    sampling_rate=256,\n",
    "                                    window_sec=2,\n",
    "                                    alpha_thresh=0.2,\n",
    "                                    beta_thresh=0.15,\n",
    "                                    z_thresh=-2.0):\n",
    "    from scipy.signal import welch\n",
    "    from scipy.stats import zscore\n",
    "    import numpy as np\n",
    "\n",
    "    if 'Timestamp' not in eeg_df.columns:\n",
    "        raise ValueError(\"Expected 'Timestamp' column in EEG data.\")\n",
    "\n",
    "    eeg_channels = eeg_df.select_dtypes(include=['number']).columns.difference(['Timestamp'])\n",
    "    window_size = int(sampling_rate * window_sec)\n",
    "    total_samples = len(eeg_df)\n",
    "    num_windows = total_samples // window_size\n",
    "\n",
    "    band_powers = {ch: {'theta': [], 'alpha': [], 'beta': []} for ch in eeg_channels}\n",
    "    window_times = []\n",
    "\n",
    "    for w in range(num_windows):\n",
    "        start = w * window_size\n",
    "        end = start + window_size\n",
    "        seg = eeg_df.iloc[start:end]\n",
    "        if len(seg) < window_size:\n",
    "            continue\n",
    "\n",
    "        window_times.append(seg['Timestamp'].mean())\n",
    "        for ch in eeg_channels:\n",
    "            freqs, psd = welch(seg[ch], fs=sampling_rate, nperseg=window_size)\n",
    "            theta = np.trapezoid(psd[(freqs >= 4) & (freqs < 8)], freqs[(freqs >= 4) & (freqs < 8)])\n",
    "            alpha = np.trapezoid(psd[(freqs >= 8) & (freqs < 12)], freqs[(freqs >= 8) & (freqs < 12)])\n",
    "            beta = np.trapezoid(psd[(freqs >= 13) & (freqs < 30)], freqs[(freqs >= 13) & (freqs < 30)])\n",
    "\n",
    "            band_powers[ch]['theta'].append(theta)\n",
    "            band_powers[ch]['alpha'].append(alpha)\n",
    "            band_powers[ch]['beta'].append(beta)\n",
    "\n",
    "    anomalies = []\n",
    "\n",
    "    # Local band ratio suppression\n",
    "    alpha_ratios, beta_ratios = [], []\n",
    "    for ch in eeg_channels:\n",
    "        for i, t in enumerate(window_times):\n",
    "            th = band_powers[ch]['theta'][i]\n",
    "            al = band_powers[ch]['alpha'][i]\n",
    "            be = band_powers[ch]['beta'][i]\n",
    "            total = th + al + be\n",
    "            if total == 0:\n",
    "                continue\n",
    "            alpha_ratio = al / total\n",
    "            beta_ratio = be / total\n",
    "            alpha_ratios.append(alpha_ratio)\n",
    "            beta_ratios.append(beta_ratio)\n",
    "\n",
    "            if alpha_ratio < alpha_thresh:\n",
    "                anomalies.append(f\"Low alpha ratio in {ch} at {t:.2f}s (ratio = {alpha_ratio:.2f})\")\n",
    "            if beta_ratio < beta_thresh:\n",
    "                anomalies.append(f\"Low beta ratio in {ch} at {t:.2f}s (ratio = {beta_ratio:.2f})\")\n",
    "\n",
    "    # Debug output: band ratio distributions\n",
    "    print(\"Alpha ratio percentiles:\", np.percentile(alpha_ratios, [5, 25, 50, 75, 95]))\n",
    "    print(\"Beta ratio percentiles :\", np.percentile(beta_ratios, [5, 25, 50, 75, 95]))\n",
    "\n",
    "    # Global z-score check\n",
    "    for band in ['alpha', 'beta']:\n",
    "        means = [np.mean(band_powers[ch][band]) for ch in eeg_channels]\n",
    "        zs = zscore(means)\n",
    "        for ch, z in zip(eeg_channels, zs):\n",
    "            if z < z_thresh:\n",
    "                label = \"Suppressed Alpha\" if band == \"alpha\" else \"Suppressed Beta\"\n",
    "                anomalies.append(f\"{label} globally in {ch} (z = {z:.2f})\")\n",
    "\n",
    "    return anomalies or [\"No significant EEG band anomalies detected.\"]"
   ]
  },
  {
   "cell_type": "code",
   "execution_count": null,
   "metadata": {
    "id": "2gSu-AkBT-xo"
   },
   "outputs": [],
   "source": [
    "def detect_hrv_suppression(hrv_df, suppression_threshold=30):\n",
    "    \"\"\"\n",
    "    Detects HRV suppression based on SDNN (standard deviation of NN intervals).\n",
    "    Expects an 'HRV' column containing RR intervals in ms.\n",
    "    \"\"\"\n",
    "    if 'HRV' not in hrv_df.columns:\n",
    "        raise ValueError(\"Expected 'HRV' column with RR intervals in milliseconds.\")\n",
    "\n",
    "    sdnn = np.std(hrv_df['HRV'])\n",
    "\n",
    "    print(f\"\\n[HRV] SDNN = {sdnn:.2f} ms — {'Suppressed' if sdnn < suppression_threshold else 'Normal'}\")\n",
    "\n",
    "    if sdnn < suppression_threshold:\n",
    "        return f\"HRV suppression detected (SDNN = {sdnn:.2f} ms, below {suppression_threshold} ms threshold).\"\n",
    "    else:\n",
    "        return f\"No significant HRV suppression detected (SDNN = {sdnn:.2f} ms).\""
   ]
  },
  {
   "cell_type": "code",
   "execution_count": null,
   "metadata": {
    "id": "Q8AhtPdz_CNW"
   },
   "outputs": [],
   "source": [
    "def generate_position_based_pose_summary(pose_file):\n",
    "    \"\"\"\n",
    "    Updated summary generator for your current dataset using left-side joints.\n",
    "    \"\"\"\n",
    "    try:\n",
    "        df = pd.read_csv(pose_file)\n",
    "        filename = os.path.basename(pose_file)\n",
    "        label = \"MCI\" if \"MCI\" in filename else \"Healthy\"\n",
    "\n",
    "        # Use LEFT joints for motion analysis\n",
    "        joint_map = {\n",
    "            \"hip\": \"Left Hip\",\n",
    "            \"knee\": \"Left Knee\",\n",
    "            \"ankle\": \"Left Ankle\"\n",
    "        }\n",
    "\n",
    "        dt = 1 / 30  # 30 FPS\n",
    "        features = {\n",
    "            \"subject_id\": filename.replace(\".csv\", \"\"),\n",
    "            \"label\": label\n",
    "        }\n",
    "\n",
    "        for key, col in joint_map.items():\n",
    "            if col not in df.columns:\n",
    "                print(f\"⚠️ Missing joint: {col}\")\n",
    "                features[f\"{key}_mean\"] = 0\n",
    "                features[f\"{key}_std\"] = 0\n",
    "                features[f\"{key}_range\"] = 0\n",
    "                features[f\"{key}_acc_std\"] = 0\n",
    "                features[f\"{key}_jerk\"] = 0\n",
    "                continue\n",
    "\n",
    "            x = df[col].values\n",
    "            velocity = np.gradient(x, dt)\n",
    "            acceleration = np.gradient(velocity, dt)\n",
    "            jerk = np.gradient(acceleration, dt)\n",
    "\n",
    "            features[f\"{key}_mean\"] = np.mean(x)\n",
    "            features[f\"{key}_std\"] = np.std(x)\n",
    "            features[f\"{key}_range\"] = np.ptp(x)\n",
    "            features[f\"{key}_acc_std\"] = np.std(acceleration)\n",
    "            features[f\"{key}_jerk\"] = np.mean(np.abs(jerk))\n",
    "\n",
    "        # Add cadence if both ankles and timestamps are available\n",
    "        if all(col in df.columns for col in [\"Left Ankle\", \"Right Ankle\", \"Timestamp\"]):\n",
    "            left = df[\"Left Ankle\"].values\n",
    "            right = df[\"Right Ankle\"].values\n",
    "            timestamps = df[\"Timestamp\"].values\n",
    "\n",
    "            if timestamps[-1] > 1000:\n",
    "                timestamps = timestamps / 1000\n",
    "\n",
    "            duration = timestamps[-1] - timestamps[0]\n",
    "            step_length = np.abs(np.diff(left) - np.diff(right))\n",
    "            stride_length = np.abs(np.diff(left[::2]))\n",
    "            peaks, _ = find_peaks(-left, distance=20)\n",
    "            cadence = (len(peaks) / duration) * 60 if duration > 0 else 0\n",
    "\n",
    "            features[\"step_length_mean\"] = np.mean(step_length)\n",
    "            features[\"stride_length_mean\"] = np.mean(stride_length)\n",
    "            features[\"cadence\"] = cadence\n",
    "\n",
    "        return features\n",
    "\n",
    "    except Exception as e:\n",
    "        print(f\"Error in generate_position_based_pose_summary for {pose_file}: {e}\")\n",
    "        return {\"subject_id\": os.path.basename(pose_file).replace(\".csv\", \"\"), \"label\": \"Unknown\", \"error\": str(e)}\n"
   ]
  },
  {
   "cell_type": "code",
   "execution_count": null,
   "metadata": {
    "id": "Gphp8VrQS5El"
   },
   "outputs": [],
   "source": [
    "def generate_combined_summary(eeg_df, hrv_df, pose_summary):\n",
    "    from scipy.signal import welch\n",
    "    from scipy.stats import zscore\n",
    "    import numpy as np\n",
    "\n",
    "    # --- EEG SUMMARY ---\n",
    "    eeg_channels = eeg_df.select_dtypes(include=['number']).columns.difference(['Timestamp'])\n",
    "    window_size = 512\n",
    "    band_powers = {ch: {'theta': [], 'alpha': [], 'beta': []} for ch in eeg_channels}\n",
    "    for w in range(len(eeg_df) // window_size):\n",
    "        seg = eeg_df.iloc[w * window_size:(w + 1) * window_size]\n",
    "        for ch in eeg_channels:\n",
    "            freqs, psd = welch(seg[ch], fs=256, nperseg=window_size)\n",
    "            for band, lo, hi in [('theta', 4, 8), ('alpha', 8, 12), ('beta', 13, 30)]:\n",
    "                power = np.trapezoid(psd[(freqs >= lo) & (freqs < hi)], freqs[(freqs >= lo) & (freqs < hi)])\n",
    "                band_powers[ch][band].append(power)\n",
    "\n",
    "    means = {band: np.mean([np.mean(band_powers[ch][band]) for ch in eeg_channels])\n",
    "             for band in ['theta', 'alpha', 'beta']}\n",
    "    ta_ratio = means['theta'] / (means['alpha'] + 1e-6)\n",
    "    tb_ratio = means['theta'] / (means['beta'] + 1e-6)\n",
    "\n",
    "    eeg_summary = []\n",
    "    if means['alpha'] < 1.0:\n",
    "        eeg_summary.append(\"Alpha power is globally reduced.\")\n",
    "    else:\n",
    "        eeg_summary.append(\"Alpha power is within healthy range.\")\n",
    "    if means['theta'] > 0.3:\n",
    "        eeg_summary.append(\"Theta activity is elevated.\")\n",
    "    else:\n",
    "        eeg_summary.append(\"Theta levels are normal.\")\n",
    "    eeg_summary.append(f\"Theta/Alpha ratio: {ta_ratio:.2f}\")\n",
    "    eeg_summary.append(f\"Theta/Beta ratio: {tb_ratio:.2f}\")\n",
    "\n",
    "    # --- HRV SUMMARY ---\n",
    "    if 'HRV' in hrv_df.columns:\n",
    "        sdnn = np.std(hrv_df['HRV'])\n",
    "        if sdnn < 30:\n",
    "            hrv_summary = f\"HRV suppression detected (SDNN = {sdnn:.2f} ms).\"\n",
    "        else:\n",
    "            hrv_summary = f\"HRV appears normal (SDNN = {sdnn:.2f} ms).\"\n",
    "    else:\n",
    "        hrv_summary = \"HRV data missing.\"\n",
    "\n",
    "    # --- Pose SUMMARY ---\n",
    "    pose_lines = []\n",
    "    for k, v in pose_summary.items():\n",
    "        if isinstance(v, float):\n",
    "            pose_lines.append(f\"{k.replace('_', ' ')} = {v:.2f}\")\n",
    "    pose_str = \"; \".join(pose_lines)\n",
    "\n",
    "    # --- Final Combined Summary ---\n",
    "    return (\n",
    "        \"EEG Summary:\\n\" + \"\\n\".join(eeg_summary) + \"\\n\\n\"\n",
    "        \"HRV Summary:\\n\" + hrv_summary + \"\\n\\n\"\n",
    "        \"Pose Summary:\\n\" + pose_str\n",
    "    )"
   ]
  },
  {
   "cell_type": "markdown",
   "metadata": {
    "id": "VTXPRAGGtkDJ"
   },
   "source": [
    "# LLM Setup"
   ]
  },
  {
   "cell_type": "code",
   "execution_count": null,
   "metadata": {
    "id": "4FqFAG_nbN82"
   },
   "outputs": [],
   "source": [
    "from openai import OpenAI\n",
    "from google.colab import userdata\n",
    "\n",
    "client = OpenAI(api_key=userdata.get('OPENAI_API_KEY'))\n",
    "\n",
    "def call_llm_api(prompt):\n",
    "    response = client.chat.completions.create(\n",
    "        model=\"gpt-4o\",\n",
    "        messages=[\n",
    "            {\"role\": \"system\", \"content\": \"You are a clinical assistant analyzing EEG, HRV and pose patterns for MCI detection.\"},\n",
    "            {\"role\": \"user\", \"content\": prompt}\n",
    "        ],\n",
    "        max_tokens=700,\n",
    "        temperature=0.0\n",
    "    )\n",
    "    return response.choices[0].message.content\n"
   ]
  },
  {
   "cell_type": "code",
   "execution_count": null,
   "metadata": {
    "id": "wdPNQyouHxap"
   },
   "outputs": [],
   "source": [
    "import re\n",
    "\n",
    "def parse_llm_output_flexible(text):\n",
    "    text = str(text).lower()\n",
    "\n",
    "    match = re.search(r\"conclusion:\\s*(mci|control|needs clinical review)\", text)\n",
    "    if match:\n",
    "        raw = match.group(1).strip()\n",
    "        if raw == \"mci\":\n",
    "            return \"MCI\"\n",
    "        elif raw == \"control\":\n",
    "            return \"Healthy\"\n",
    "        elif raw == \"needs clinical review\":\n",
    "            return \"review\"\n",
    "    elif \"conclusion: yes\" in text:\n",
    "        return \"MCI\"\n",
    "    elif \"conclusion: no\" in text:\n",
    "        return \"Healthy\"\n",
    "    else:\n",
    "        return \"review\""
   ]
  },
  {
   "cell_type": "code",
   "execution_count": null,
   "metadata": {
    "id": "AgqogbRaFk_5"
   },
   "outputs": [],
   "source": [
    "def build_llm_prompt_from_combined_summary(combined_summary_text):\n",
    "    prompt_parts = []\n",
    "\n",
    "    # MCI-Centric Unified Ontology\n",
    "    prompt_parts.append(\"\"\"\n",
    "Multimodal Ontology Reference:\n",
    "Mild Cognitive Impairment (MCI) may manifest through a combination of cognitive and subtle motor irregularities. Interpret the subject's condition based on the following:\n",
    "\n",
    "- EEG markers:\n",
    "  - Increased Theta power and decreased Alpha power, especially in frontal and parietal regions, are commonly associated with MCI.\n",
    "  - Suppressed Beta activity may indicate cognitive slowing.\n",
    "\n",
    "- HRV markers:\n",
    "  - Reduced heart rate variability (e.g., SDNN < 30 ms) is linked to decreased autonomic regulation and cognitive decline.\n",
    "\n",
    "- Gait (pose-derived) markers:\n",
    "  - Healthy gait patterns exhibit wide joint movement ranges, smooth transitions, and consistent acceleration.\n",
    "  - MCI-related gait changes may include reduced range of motion, higher jerk (abrupt changes in motion), and greater acceleration variability across joints, even without overt motor disability.\n",
    "\n",
    "Diagnostic Guidance:\n",
    "- Classify as **MCI** if EEG and/or HRV features indicate cognitive dysfunction, especially when supported by mild motor irregularities.\n",
    "- Classify as **Control** if all modalities are within normal patterns.\n",
    "- Classify as **Needs clinical review** if findings are weak, borderline, or inconsistent.\n",
    "\n",
    "Use all three modalities in combination to support a holistic evaluation.\n",
    "\"\"\")\n",
    "\n",
    "    # Combined Summary\n",
    "    prompt_parts.append(\"Multimodal Summary:\\n\" + combined_summary_text.strip())\n",
    "\n",
    "    # Final Instructions\n",
    "    prompt_parts.append(\"\"\"\n",
    "Task:\n",
    "Based on the EEG, HRV, and Gait summaries provided above, assess the subject's cognitive-motor status.\n",
    "\n",
    "Respond using the following format:\n",
    "Conclusion: [MCI / Control / Needs clinical review]\n",
    "Explanation: [Concise reasoning using any or all modalities]\n",
    "\"\"\")\n",
    "\n",
    "    return \"\\n\\n\".join(prompt_parts)"
   ]
  },
  {
   "cell_type": "markdown",
   "metadata": {
    "id": "YFdR0NC_tnKE"
   },
   "source": [
    "# Classification"
   ]
  },
  {
   "cell_type": "code",
   "execution_count": null,
   "metadata": {
    "id": "DXGLlyxpaInp"
   },
   "outputs": [],
   "source": [
    "import re\n",
    "\n",
    "def categorize_llm_response(text):\n",
    "    match = re.search(r\"Conclusion:\\s*(MCI|Control|Needs clinical review)\", text, re.IGNORECASE)\n",
    "    if match:\n",
    "        raw = match.group(1).strip().lower()\n",
    "        if raw == \"control\":\n",
    "            return {\"decision\": \"Healthy\", \"confidence\": \"high\"}\n",
    "        elif raw == \"mci\":\n",
    "            return {\"decision\": \"MCI\", \"confidence\": \"high\"}\n",
    "        elif raw == \"needs clinical review\":\n",
    "            return {\"decision\": \"Needs clinical review\", \"confidence\": \"high\"}\n",
    "    elif \"inconclusive\" in text.lower():\n",
    "        return {\"decision\": \"inconclusive\", \"confidence\": \"low\"}\n",
    "    else:\n",
    "        return {\"decision\": \"error\", \"confidence\": \"low\"}"
   ]
  },
  {
   "cell_type": "code",
   "execution_count": null,
   "metadata": {
    "id": "SZ19Y0S7Lojn"
   },
   "outputs": [],
   "source": [
    "import os\n",
    "import re\n",
    "import pandas as pd\n",
    "from tqdm import tqdm\n",
    "\n",
    "# === 🔧 Configuration === #\n",
    "ROOT_PATH = \"data/mci_dataset_neuropose_small\"\n",
    "CONDITIONS = [\"Healthy\", \"MCI\"]"
   ]
  },
  {
   "cell_type": "code",
   "execution_count": null,
   "metadata": {
    "colab": {
     "base_uri": "https://localhost:8080/"
    },
    "id": "UBt4bkMIZuf8",
    "outputId": "a4e3f210-6f35-4eba-86aa-5e41169c298d"
   },
   "outputs": [
    {
     "name": "stderr",
     "output_type": "stream",
     "text": [
      "\rRunning tri-modal LLM prompts:   0%|          | 0/50 [00:00<?, ?it/s]"
     ]
    },
    {
     "name": "stdout",
     "output_type": "stream",
     "text": [
      "📂 Pose file detected: /content/drive/MyDrive/NeuroSyncAI/mci_dataset_neuropose_small/Healthy/walking_pose_Baseline Resting_Healthy_trial1_20250503_152243_533488.csv\n",
      "📝 Pose summary preview: {'subject_id': 'walking_pose_Baseline Resting_Healthy_trial1_20250503_152243_533488', 'label': 'Healthy', 'hip_mean': np.float64(-0.03472180311374615), 'hip_std': np.float64(23.34835355841175), 'hip_range': np.float64(73.23035765477182), 'hip_acc_std': np.float64(1551.959094288468), 'hip_jerk': np.float64(19944.985292592693), 'knee_mean': np.float64(0.04762436895421162), 'knee_std': np.float64(33.45055422055054), 'knee_range': np.float64(104.61475784971148), 'knee_acc_std': np.float64(2060.3965817999247), 'knee_jerk': np.float64(22235.563137166584), 'ankle_mean': np.float64(0.030015293320749963), 'ankle_std': np.float64(36.68446111752379), 'ankle_range': np.float64(112.33016792817068), 'ankle_acc_std': np.float64(2206.5540207748154), 'ankle_jerk': np.float64(22175.12638969144), 'step_length_mean': np.float64(16.681965978025655), 'stride_length_mean': np.float64(16.45765850589547), 'cadence': np.float64(72.0)}\n",
      "📂 Pose file detected: /content/drive/MyDrive/NeuroSyncAI/mci_dataset_neuropose_small/Healthy/walking_pose_Baseline Resting_Healthy_trial1_20250503_155604_484160.csv\n",
      "📝 Pose summary preview: {'subject_id': 'walking_pose_Baseline Resting_Healthy_trial1_20250503_155604_484160', 'label': 'Healthy', 'hip_mean': np.float64(0.03376135606492), 'hip_std': np.float64(23.367335434936994), 'hip_range': np.float64(75.24945701967604), 'hip_acc_std': np.float64(1559.7857428465252), 'hip_jerk': np.float64(20217.099161106937), 'knee_mean': np.float64(-0.020829976845669305), 'knee_std': np.float64(33.37539178423554), 'knee_range': np.float64(101.81098795258615), 'knee_acc_std': np.float64(2053.846159958859), 'knee_jerk': np.float64(22099.202853714007), 'ankle_mean': np.float64(-0.019362898744260535), 'ankle_std': np.float64(36.73647694904106), 'ankle_range': np.float64(112.72976387529286), 'ankle_acc_std': np.float64(2211.507599534866), 'ankle_jerk': np.float64(22270.71294235874), 'step_length_mean': np.float64(16.6925461358212), 'stride_length_mean': np.float64(16.5173956341844), 'cadence': np.float64(72.0)}\n"
     ]
    },
    {
     "name": "stderr",
     "output_type": "stream",
     "text": [
      "\rRunning tri-modal LLM prompts:   2%|▏         | 1/50 [00:04<03:26,  4.21s/it]"
     ]
    },
    {
     "name": "stdout",
     "output_type": "stream",
     "text": [
      "📂 Pose file detected: /content/drive/MyDrive/NeuroSyncAI/mci_dataset_neuropose_small/Healthy/walking_pose_Baseline Resting_Healthy_trial2_20250503_152243_442845.csv\n",
      "📝 Pose summary preview: {'subject_id': 'walking_pose_Baseline Resting_Healthy_trial2_20250503_152243_442845', 'label': 'Healthy', 'hip_mean': np.float64(0.050663208379413155), 'hip_std': np.float64(24.60142726433198), 'hip_range': np.float64(79.15257920661503), 'hip_acc_std': np.float64(1657.4324289543847), 'hip_jerk': np.float64(21468.72987619111), 'knee_mean': np.float64(0.0813140956120707), 'knee_std': np.float64(35.14340952095266), 'knee_range': np.float64(107.37957276484829), 'knee_acc_std': np.float64(2150.701900894702), 'knee_jerk': np.float64(22566.624170069223), 'ankle_mean': np.float64(0.009478194147311205), 'ankle_std': np.float64(38.57115336764621), 'ankle_range': np.float64(120.44671189594334), 'ankle_acc_std': np.float64(2335.1286254244988), 'ankle_jerk': np.float64(23836.7559597437), 'step_length_mean': np.float64(17.533202557250444), 'stride_length_mean': np.float64(17.38795220250806), 'cadence': np.float64(72.0)}\n",
      "📂 Pose file detected: /content/drive/MyDrive/NeuroSyncAI/mci_dataset_neuropose_small/Healthy/walking_pose_Baseline Resting_Healthy_trial2_20250503_155601_336815.csv\n",
      "📝 Pose summary preview: {'subject_id': 'walking_pose_Baseline Resting_Healthy_trial2_20250503_155601_336815', 'label': 'Healthy', 'hip_mean': np.float64(0.06847739352823666), 'hip_std': np.float64(24.61745189288705), 'hip_range': np.float64(82.17455404355272), 'hip_acc_std': np.float64(1631.9112470772263), 'hip_jerk': np.float64(21001.0386100464), 'knee_mean': np.float64(0.0043578977859002775), 'knee_std': np.float64(35.14950773999131), 'knee_range': np.float64(111.35139036140606), 'knee_acc_std': np.float64(2159.301242163136), 'knee_jerk': np.float64(22870.773594584698), 'ankle_mean': np.float64(-0.008443001832854367), 'ankle_std': np.float64(38.63962941977654), 'ankle_range': np.float64(118.26373757868677), 'ankle_acc_std': np.float64(2329.222590695549), 'ankle_jerk': np.float64(23100.373119059503), 'step_length_mean': np.float64(17.530240369041806), 'stride_length_mean': np.float64(17.381544192694474), 'cadence': np.float64(72.0)}\n"
     ]
    },
    {
     "name": "stderr",
     "output_type": "stream",
     "text": [
      "\rRunning tri-modal LLM prompts:   4%|▍         | 2/50 [00:07<02:43,  3.40s/it]"
     ]
    },
    {
     "name": "stdout",
     "output_type": "stream",
     "text": [
      "📂 Pose file detected: /content/drive/MyDrive/NeuroSyncAI/mci_dataset_neuropose_small/Healthy/walking_pose_Baseline Resting_Healthy_trial7_20250503_155707_775411.csv\n",
      "📝 Pose summary preview: {'subject_id': 'walking_pose_Baseline Resting_Healthy_trial7_20250503_155707_775411', 'label': 'Healthy', 'hip_mean': np.float64(0.0069690562096387), 'hip_std': np.float64(25.967753689256977), 'hip_range': np.float64(80.86729870879049), 'hip_acc_std': np.float64(1674.286553182766), 'hip_jerk': np.float64(20426.374431753706), 'knee_mean': np.float64(0.010531298879348323), 'knee_std': np.float64(37.00611244634695), 'knee_range': np.float64(113.46859379503239), 'knee_acc_std': np.float64(2221.23629654081), 'knee_jerk': np.float64(22033.373821787412), 'ankle_mean': np.float64(-0.02539850436176469), 'ankle_std': np.float64(40.699728621617815), 'ankle_range': np.float64(122.25893320153921), 'ankle_acc_std': np.float64(2411.447494326785), 'ankle_jerk': np.float64(22719.39453469795), 'step_length_mean': np.float64(18.47733476260835), 'stride_length_mean': np.float64(18.28154075455754), 'cadence': np.float64(72.0)}\n"
     ]
    },
    {
     "name": "stderr",
     "output_type": "stream",
     "text": [
      "\rRunning tri-modal LLM prompts:   6%|▌         | 3/50 [00:12<03:26,  4.39s/it]"
     ]
    },
    {
     "name": "stdout",
     "output_type": "stream",
     "text": [
      "📂 Pose file detected: /content/drive/MyDrive/NeuroSyncAI/mci_dataset_neuropose_small/Healthy/walking_pose_Baseline Resting_Healthy_trial15_20250503_155740_054658.csv\n",
      "📝 Pose summary preview: {'subject_id': 'walking_pose_Baseline Resting_Healthy_trial15_20250503_155740_054658', 'label': 'Healthy', 'hip_mean': np.float64(0.01645541345933726), 'hip_std': np.float64(24.549108284002724), 'hip_range': np.float64(78.40971081112846), 'hip_acc_std': np.float64(1639.1439595980667), 'hip_jerk': np.float64(21415.97244673177), 'knee_mean': np.float64(0.02203359105397796), 'knee_std': np.float64(35.089339068564655), 'knee_range': np.float64(114.35902251844814), 'knee_acc_std': np.float64(2150.449180761186), 'knee_jerk': np.float64(22870.292461860972), 'ankle_mean': np.float64(0.03597291968096746), 'ankle_std': np.float64(38.606425692017055), 'ankle_range': np.float64(119.39666106408686), 'ankle_acc_std': np.float64(2340.4194362482276), 'ankle_jerk': np.float64(23886.519433388108), 'step_length_mean': np.float64(17.547479061631883), 'stride_length_mean': np.float64(17.346211389603692), 'cadence': np.float64(72.0)}\n"
     ]
    },
    {
     "name": "stderr",
     "output_type": "stream",
     "text": [
      "\rRunning tri-modal LLM prompts:   8%|▊         | 4/50 [00:16<03:06,  4.05s/it]"
     ]
    },
    {
     "name": "stdout",
     "output_type": "stream",
     "text": [
      "📂 Pose file detected: /content/drive/MyDrive/NeuroSyncAI/mci_dataset_neuropose_small/Healthy/walking_pose_Baseline Resting_Healthy_trial14_20250503_155738_936890.csv\n",
      "📝 Pose summary preview: {'subject_id': 'walking_pose_Baseline Resting_Healthy_trial14_20250503_155738_936890', 'label': 'Healthy', 'hip_mean': np.float64(0.0372210834758165), 'hip_std': np.float64(22.94470139615946), 'hip_range': np.float64(72.76737316075514), 'hip_acc_std': np.float64(1540.595330872142), 'hip_jerk': np.float64(20481.310967954338), 'knee_mean': np.float64(-0.0032048258579361368), 'knee_std': np.float64(32.7973784088889), 'knee_range': np.float64(99.67417500612268), 'knee_acc_std': np.float64(2019.493924202662), 'knee_jerk': np.float64(21952.150861761165), 'ankle_mean': np.float64(0.051645164161891556), 'ankle_std': np.float64(36.07667269142141), 'ankle_range': np.float64(112.19354688394444), 'ankle_acc_std': np.float64(2183.5571799989757), 'ankle_jerk': np.float64(22298.019798934318), 'step_length_mean': np.float64(16.380962519976652), 'stride_length_mean': np.float64(16.19362133631363), 'cadence': np.float64(72.0)}\n"
     ]
    },
    {
     "name": "stderr",
     "output_type": "stream",
     "text": [
      "\rRunning tri-modal LLM prompts:  10%|█         | 5/50 [00:18<02:42,  3.60s/it]"
     ]
    },
    {
     "name": "stdout",
     "output_type": "stream",
     "text": [
      "📂 Pose file detected: /content/drive/MyDrive/NeuroSyncAI/mci_dataset_neuropose_small/Healthy/walking_pose_Baseline Resting_Healthy_trial11_20250503_155725_534685.csv\n",
      "📝 Pose summary preview: {'subject_id': 'walking_pose_Baseline Resting_Healthy_trial11_20250503_155725_534685', 'label': 'Healthy', 'hip_mean': np.float64(0.014504917666541451), 'hip_std': np.float64(26.925021013899112), 'hip_range': np.float64(87.92385875756287), 'hip_acc_std': np.float64(1716.5705753647255), 'hip_jerk': np.float64(20290.903208366293), 'knee_mean': np.float64(0.03738792476674269), 'knee_std': np.float64(38.39509455565894), 'knee_range': np.float64(116.00838868836385), 'knee_acc_std': np.float64(2305.082621137583), 'knee_jerk': np.float64(22919.951819856495), 'ankle_mean': np.float64(0.05931342290172932), 'ankle_std': np.float64(42.24191441333241), 'ankle_range': np.float64(130.75542855458934), 'ankle_acc_std': np.float64(2507.603429210616), 'ankle_jerk': np.float64(23877.075293215075), 'step_length_mean': np.float64(19.17473071228974), 'stride_length_mean': np.float64(18.956280531467367), 'cadence': np.float64(72.0)}\n"
     ]
    },
    {
     "name": "stderr",
     "output_type": "stream",
     "text": [
      "\rRunning tri-modal LLM prompts:  12%|█▏        | 6/50 [00:22<02:39,  3.62s/it]"
     ]
    },
    {
     "name": "stdout",
     "output_type": "stream",
     "text": [
      "📂 Pose file detected: /content/drive/MyDrive/NeuroSyncAI/mci_dataset_neuropose_small/Healthy/walking_pose_Baseline Resting_Healthy_trial6_20250503_155707_390155.csv\n",
      "📝 Pose summary preview: {'subject_id': 'walking_pose_Baseline Resting_Healthy_trial6_20250503_155707_390155', 'label': 'Healthy', 'hip_mean': np.float64(0.0011709963458525665), 'hip_std': np.float64(27.23903862124044), 'hip_range': np.float64(88.05554906299895), 'hip_acc_std': np.float64(1756.3421717634099), 'hip_jerk': np.float64(21279.687896202315), 'knee_mean': np.float64(0.030205608543374333), 'knee_std': np.float64(38.90630713929848), 'knee_range': np.float64(118.6267364863582), 'knee_acc_std': np.float64(2328.4991562396217), 'knee_jerk': np.float64(22947.03026692029), 'ankle_mean': np.float64(-0.042541909505557036), 'ankle_std': np.float64(42.79008902173259), 'ankle_range': np.float64(128.25721205242678), 'ankle_acc_std': np.float64(2538.5052973141305), 'ankle_jerk': np.float64(23916.99633417708), 'step_length_mean': np.float64(19.40004486459607), 'stride_length_mean': np.float64(19.175534057294172), 'cadence': np.float64(72.0)}\n"
     ]
    },
    {
     "name": "stderr",
     "output_type": "stream",
     "text": [
      "\rRunning tri-modal LLM prompts:  14%|█▍        | 7/50 [00:25<02:29,  3.48s/it]"
     ]
    },
    {
     "name": "stdout",
     "output_type": "stream",
     "text": [
      "📂 Pose file detected: /content/drive/MyDrive/NeuroSyncAI/mci_dataset_neuropose_small/Healthy/walking_pose_Baseline Resting_Healthy_trial13_20250503_155738_100706.csv\n",
      "📝 Pose summary preview: {'subject_id': 'walking_pose_Baseline Resting_Healthy_trial13_20250503_155738_100706', 'label': 'Healthy', 'hip_mean': np.float64(0.013420936650325715), 'hip_std': np.float64(24.31222320592013), 'hip_range': np.float64(81.34089242229138), 'hip_acc_std': np.float64(1605.1663567855417), 'hip_jerk': np.float64(20345.703384705135), 'knee_mean': np.float64(-0.0019200362439598074), 'knee_std': np.float64(34.663123466959505), 'knee_range': np.float64(107.84229253687005), 'knee_acc_std': np.float64(2114.719775571356), 'knee_jerk': np.float64(22223.817464338783), 'ankle_mean': np.float64(0.039737215801106465), 'ankle_std': np.float64(38.10612239985355), 'ankle_range': np.float64(117.8962643565301), 'ankle_acc_std': np.float64(2304.918562121175), 'ankle_jerk': np.float64(23580.448401282778), 'step_length_mean': np.float64(17.288008893708234), 'stride_length_mean': np.float64(17.073379110169906), 'cadence': np.float64(72.0)}\n"
     ]
    },
    {
     "name": "stderr",
     "output_type": "stream",
     "text": [
      "\rRunning tri-modal LLM prompts:  16%|█▌        | 8/50 [00:30<02:37,  3.74s/it]"
     ]
    },
    {
     "name": "stdout",
     "output_type": "stream",
     "text": [
      "📂 Pose file detected: /content/drive/MyDrive/NeuroSyncAI/mci_dataset_neuropose_small/Healthy/walking_pose_Baseline Resting_Healthy_trial9_20250503_155723_078096.csv\n",
      "📝 Pose summary preview: {'subject_id': 'walking_pose_Baseline Resting_Healthy_trial9_20250503_155723_078096', 'label': 'Healthy', 'hip_mean': np.float64(0.002529842509151818), 'hip_std': np.float64(24.720440109820853), 'hip_range': np.float64(77.07871026421246), 'hip_acc_std': np.float64(1619.8959002509475), 'hip_jerk': np.float64(20404.883810009676), 'knee_mean': np.float64(-0.008802962196720282), 'knee_std': np.float64(35.32946792581919), 'knee_range': np.float64(107.38585072091927), 'knee_acc_std': np.float64(2139.9762059471836), 'knee_jerk': np.float64(21816.620592523086), 'ankle_mean': np.float64(0.011978931151892485), 'ankle_std': np.float64(38.863820653530354), 'ankle_range': np.float64(118.77957737217753), 'ankle_acc_std': np.float64(2331.485164548786), 'ankle_jerk': np.float64(23208.58168115872), 'step_length_mean': np.float64(17.611201035732883), 'stride_length_mean': np.float64(17.413411240992595), 'cadence': np.float64(72.0)}\n"
     ]
    },
    {
     "name": "stderr",
     "output_type": "stream",
     "text": [
      "\rRunning tri-modal LLM prompts:  18%|█▊        | 9/50 [00:33<02:25,  3.54s/it]"
     ]
    },
    {
     "name": "stdout",
     "output_type": "stream",
     "text": [
      "📂 Pose file detected: /content/drive/MyDrive/NeuroSyncAI/mci_dataset_neuropose_small/Healthy/walking_pose_Baseline Resting_Healthy_trial8_20250503_155707_456757.csv\n",
      "📝 Pose summary preview: {'subject_id': 'walking_pose_Baseline Resting_Healthy_trial8_20250503_155707_456757', 'label': 'Healthy', 'hip_mean': np.float64(0.01918121475089899), 'hip_std': np.float64(24.383836789417135), 'hip_range': np.float64(76.89566060939175), 'hip_acc_std': np.float64(1603.060456707901), 'hip_jerk': np.float64(20244.195041790572), 'knee_mean': np.float64(0.0115854304190803), 'knee_std': np.float64(34.75831685224135), 'knee_range': np.float64(108.03541687212154), 'knee_acc_std': np.float64(2115.38944276142), 'knee_jerk': np.float64(21944.231454995133), 'ankle_mean': np.float64(0.07680410071758846), 'ankle_std': np.float64(38.29213955131678), 'ankle_range': np.float64(116.84595743179054), 'ankle_acc_std': np.float64(2302.7753511027195), 'ankle_jerk': np.float64(22831.923410162057), 'step_length_mean': np.float64(17.412232091436312), 'stride_length_mean': np.float64(17.195248664421758), 'cadence': np.float64(72.0)}\n"
     ]
    },
    {
     "name": "stderr",
     "output_type": "stream",
     "text": [
      "\rRunning tri-modal LLM prompts:  20%|██        | 10/50 [00:35<02:12,  3.31s/it]"
     ]
    },
    {
     "name": "stdout",
     "output_type": "stream",
     "text": [
      "📂 Pose file detected: /content/drive/MyDrive/NeuroSyncAI/mci_dataset_neuropose_small/Healthy/walking_pose_Baseline Resting_Healthy_trial3_20250503_155603_902102.csv\n",
      "📝 Pose summary preview: {'subject_id': 'walking_pose_Baseline Resting_Healthy_trial3_20250503_155603_902102', 'label': 'Healthy', 'hip_mean': np.float64(-0.02311993365657413), 'hip_std': np.float64(24.79549879488084), 'hip_range': np.float64(81.11090757627514), 'hip_acc_std': np.float64(1631.2354880325734), 'hip_jerk': np.float64(20742.692756475604), 'knee_mean': np.float64(0.02490161585118481), 'knee_std': np.float64(35.4258672580977), 'knee_range': np.float64(111.3207806737111), 'knee_acc_std': np.float64(2157.6760860376103), 'knee_jerk': np.float64(22538.95965793854), 'ankle_mean': np.float64(0.012137333196569552), 'ankle_std': np.float64(38.93635012771094), 'ankle_range': np.float64(118.33628073761328), 'ankle_acc_std': np.float64(2345.7034693175688), 'ankle_jerk': np.float64(23443.36378002532), 'step_length_mean': np.float64(17.693516329165973), 'stride_length_mean': np.float64(17.46139127193958), 'cadence': np.float64(72.0)}\n"
     ]
    },
    {
     "name": "stderr",
     "output_type": "stream",
     "text": [
      "\rRunning tri-modal LLM prompts:  22%|██▏       | 11/50 [00:39<02:08,  3.30s/it]"
     ]
    },
    {
     "name": "stdout",
     "output_type": "stream",
     "text": [
      "📂 Pose file detected: /content/drive/MyDrive/NeuroSyncAI/mci_dataset_neuropose_small/Healthy/walking_pose_Baseline Resting_Healthy_trial5_20250503_155705_914606.csv\n",
      "📝 Pose summary preview: {'subject_id': 'walking_pose_Baseline Resting_Healthy_trial5_20250503_155705_914606', 'label': 'Healthy', 'hip_mean': np.float64(-0.07738424470984313), 'hip_std': np.float64(23.029597998574562), 'hip_range': np.float64(72.66442508787715), 'hip_acc_std': np.float64(1540.2602935938226), 'hip_jerk': np.float64(20312.25450275109), 'knee_mean': np.float64(0.054168523381564804), 'knee_std': np.float64(32.84620087573205), 'knee_range': np.float64(101.42082575137424), 'knee_acc_std': np.float64(2005.9728426832314), 'knee_jerk': np.float64(21332.312653126988), 'ankle_mean': np.float64(0.021098958395421436), 'ankle_std': np.float64(36.14308957990346), 'ankle_range': np.float64(111.87560269072176), 'ankle_acc_std': np.float64(2186.4030140411023), 'ankle_jerk': np.float64(22370.363492091896), 'step_length_mean': np.float64(16.47432542461928), 'stride_length_mean': np.float64(16.276043180560933), 'cadence': np.float64(72.0)}\n"
     ]
    },
    {
     "name": "stderr",
     "output_type": "stream",
     "text": [
      "\rRunning tri-modal LLM prompts:  24%|██▍       | 12/50 [00:42<02:01,  3.20s/it]"
     ]
    },
    {
     "name": "stdout",
     "output_type": "stream",
     "text": [
      "📂 Pose file detected: /content/drive/MyDrive/NeuroSyncAI/mci_dataset_neuropose_small/Healthy/walking_pose_Baseline Resting_Healthy_trial12_20250503_155725_379397.csv\n",
      "📝 Pose summary preview: {'subject_id': 'walking_pose_Baseline Resting_Healthy_trial12_20250503_155725_379397', 'label': 'Healthy', 'hip_mean': np.float64(-0.05096885651971228), 'hip_std': np.float64(24.246462031097344), 'hip_range': np.float64(84.05021721266738), 'hip_acc_std': np.float64(1644.031660138125), 'hip_jerk': np.float64(21628.10976233186), 'knee_mean': np.float64(7.383539054532189e-05), 'knee_std': np.float64(34.55306962781547), 'knee_range': np.float64(107.9733930559627), 'knee_acc_std': np.float64(2127.652237453107), 'knee_jerk': np.float64(22673.26915649611), 'ankle_mean': np.float64(0.03739490462296699), 'ankle_std': np.float64(38.10939200110902), 'ankle_range': np.float64(120.85868807328004), 'ankle_acc_std': np.float64(2324.2747096425187), 'ankle_jerk': np.float64(24003.95938275157), 'step_length_mean': np.float64(17.285021173078363), 'stride_length_mean': np.float64(17.08218436732674), 'cadence': np.float64(72.0)}\n"
     ]
    },
    {
     "name": "stderr",
     "output_type": "stream",
     "text": [
      "\rRunning tri-modal LLM prompts:  26%|██▌       | 13/50 [00:49<02:40,  4.33s/it]"
     ]
    },
    {
     "name": "stdout",
     "output_type": "stream",
     "text": [
      "📂 Pose file detected: /content/drive/MyDrive/NeuroSyncAI/mci_dataset_neuropose_small/Healthy/walking_pose_Baseline Resting_Healthy_trial4_20250503_155604_817553.csv\n",
      "📝 Pose summary preview: {'subject_id': 'walking_pose_Baseline Resting_Healthy_trial4_20250503_155604_817553', 'label': 'Healthy', 'hip_mean': np.float64(0.02523514008227693), 'hip_std': np.float64(25.012464832984264), 'hip_range': np.float64(82.20681716323563), 'hip_acc_std': np.float64(1656.012965591577), 'hip_jerk': np.float64(21195.68091637074), 'knee_mean': np.float64(0.03747060342053615), 'knee_std': np.float64(35.63854006997915), 'knee_range': np.float64(109.45832586594958), 'knee_acc_std': np.float64(2163.3046958927694), 'knee_jerk': np.float64(22347.83333900397), 'ankle_mean': np.float64(0.023753152083002813), 'ankle_std': np.float64(39.19882028738233), 'ankle_range': np.float64(125.05404965318165), 'ankle_acc_std': np.float64(2362.2523318337003), 'ankle_jerk': np.float64(23815.087667219308), 'step_length_mean': np.float64(17.81771346971023), 'stride_length_mean': np.float64(17.62132333871387), 'cadence': np.float64(72.0)}\n"
     ]
    },
    {
     "name": "stderr",
     "output_type": "stream",
     "text": [
      "\rRunning tri-modal LLM prompts:  28%|██▊       | 14/50 [00:51<02:19,  3.87s/it]"
     ]
    },
    {
     "name": "stdout",
     "output_type": "stream",
     "text": [
      "📂 Pose file detected: /content/drive/MyDrive/NeuroSyncAI/mci_dataset_neuropose_small/Healthy/walking_pose_Baseline Resting_Healthy_trial10_20250503_155725_089908.csv\n",
      "📝 Pose summary preview: {'subject_id': 'walking_pose_Baseline Resting_Healthy_trial10_20250503_155725_089908', 'label': 'Healthy', 'hip_mean': np.float64(0.04020719127600414), 'hip_std': np.float64(25.808973048108086), 'hip_range': np.float64(83.41928759037575), 'hip_acc_std': np.float64(1689.189760064622), 'hip_jerk': np.float64(21190.687933407185), 'knee_mean': np.float64(0.027543733065917134), 'knee_std': np.float64(36.8709973365057), 'knee_range': np.float64(114.04302786933147), 'knee_acc_std': np.float64(2236.6481225309053), 'knee_jerk': np.float64(22959.733250948026), 'ankle_mean': np.float64(-0.0028240590051961177), 'ankle_std': np.float64(40.553675495471495), 'ankle_range': np.float64(127.95482306312445), 'ankle_acc_std': np.float64(2440.425760222144), 'ankle_jerk': np.float64(24216.103055947733), 'step_length_mean': np.float64(18.40688202808272), 'stride_length_mean': np.float64(18.215199916217678), 'cadence': np.float64(72.0)}\n"
     ]
    },
    {
     "name": "stderr",
     "output_type": "stream",
     "text": [
      "\rRunning tri-modal LLM prompts:  30%|███       | 15/50 [00:55<02:07,  3.64s/it]"
     ]
    },
    {
     "name": "stdout",
     "output_type": "stream",
     "text": [
      "📂 Pose file detected: /content/drive/MyDrive/NeuroSyncAI/mci_dataset_neuropose_small/Healthy/walking_pose_Baseline Resting_Healthy_trial22_20250503_155809_874580.csv\n",
      "📝 Pose summary preview: {'subject_id': 'walking_pose_Baseline Resting_Healthy_trial22_20250503_155809_874580', 'label': 'Healthy', 'hip_mean': np.float64(0.01947404990585426), 'hip_std': np.float64(26.020033374235013), 'hip_range': np.float64(83.16324880367665), 'hip_acc_std': np.float64(1694.5016930740185), 'hip_jerk': np.float64(20980.428690481054), 'knee_mean': np.float64(-0.017347792761669877), 'knee_std': np.float64(37.08783026823977), 'knee_range': np.float64(114.36845891641869), 'knee_acc_std': np.float64(2253.0820946916365), 'knee_jerk': np.float64(23222.39388595764), 'ankle_mean': np.float64(-0.041257543379251034), 'ankle_std': np.float64(40.78923733946547), 'ankle_range': np.float64(124.25437134660547), 'ankle_acc_std': np.float64(2441.969821623308), 'ankle_jerk': np.float64(23986.530736342622), 'step_length_mean': np.float64(18.49793545027094), 'stride_length_mean': np.float64(18.28722628461938), 'cadence': np.float64(72.0)}\n"
     ]
    },
    {
     "name": "stderr",
     "output_type": "stream",
     "text": [
      "\rRunning tri-modal LLM prompts:  32%|███▏      | 16/50 [01:00<02:27,  4.32s/it]"
     ]
    },
    {
     "name": "stdout",
     "output_type": "stream",
     "text": [
      "📂 Pose file detected: /content/drive/MyDrive/NeuroSyncAI/mci_dataset_neuropose_small/Healthy/walking_pose_Baseline Resting_Healthy_trial25_20250503_155820_838650.csv\n",
      "📝 Pose summary preview: {'subject_id': 'walking_pose_Baseline Resting_Healthy_trial25_20250503_155820_838650', 'label': 'Healthy', 'hip_mean': np.float64(-0.0112693557119038), 'hip_std': np.float64(24.25023509437594), 'hip_range': np.float64(77.13645526485647), 'hip_acc_std': np.float64(1594.3431084166814), 'hip_jerk': np.float64(20179.182557573786), 'knee_mean': np.float64(0.023418003500702674), 'knee_std': np.float64(34.61965178626923), 'knee_range': np.float64(105.48051170322739), 'knee_acc_std': np.float64(2104.092071043238), 'knee_jerk': np.float64(22032.490961604664), 'ankle_mean': np.float64(0.04115216258010016), 'ankle_std': np.float64(38.15033468177698), 'ankle_range': np.float64(116.41667627967811), 'ankle_acc_std': np.float64(2289.0871971192123), 'ankle_jerk': np.float64(22732.601466145945), 'step_length_mean': np.float64(17.33039420671809), 'stride_length_mean': np.float64(17.123926324423813), 'cadence': np.float64(72.0)}\n"
     ]
    },
    {
     "name": "stderr",
     "output_type": "stream",
     "text": [
      "\rRunning tri-modal LLM prompts:  34%|███▍      | 17/50 [01:04<02:13,  4.04s/it]"
     ]
    },
    {
     "name": "stdout",
     "output_type": "stream",
     "text": [
      "📂 Pose file detected: /content/drive/MyDrive/NeuroSyncAI/mci_dataset_neuropose_small/Healthy/walking_pose_Baseline Resting_Healthy_trial18_20250503_155755_027716.csv\n",
      "📝 Pose summary preview: {'subject_id': 'walking_pose_Baseline Resting_Healthy_trial18_20250503_155755_027716', 'label': 'Healthy', 'hip_mean': np.float64(0.004056734981615683), 'hip_std': np.float64(23.39401911676904), 'hip_range': np.float64(76.28543935012863), 'hip_acc_std': np.float64(1573.3608045497585), 'hip_jerk': np.float64(20740.23961898658), 'knee_mean': np.float64(0.029764413148988356), 'knee_std': np.float64(33.38484943483788), 'knee_range': np.float64(102.9121653758324), 'knee_acc_std': np.float64(2058.502631806079), 'knee_jerk': np.float64(22221.45426104533), 'ankle_mean': np.float64(-0.005807203469462373), 'ankle_std': np.float64(36.73549392061767), 'ankle_range': np.float64(114.16959092496938), 'ankle_acc_std': np.float64(2227.9253614285376), 'ankle_jerk': np.float64(23162.68593200065), 'step_length_mean': np.float64(16.698224791988988), 'stride_length_mean': np.float64(16.533496341387725), 'cadence': np.float64(72.0)}\n"
     ]
    },
    {
     "name": "stderr",
     "output_type": "stream",
     "text": [
      "\rRunning tri-modal LLM prompts:  36%|███▌      | 18/50 [01:08<02:13,  4.16s/it]"
     ]
    },
    {
     "name": "stdout",
     "output_type": "stream",
     "text": [
      "📂 Pose file detected: /content/drive/MyDrive/NeuroSyncAI/mci_dataset_neuropose_small/Healthy/walking_pose_Baseline Resting_Healthy_trial16_20250503_155740_162179.csv\n",
      "📝 Pose summary preview: {'subject_id': 'walking_pose_Baseline Resting_Healthy_trial16_20250503_155740_162179', 'label': 'Healthy', 'hip_mean': np.float64(0.04298065930476312), 'hip_std': np.float64(22.893352946849053), 'hip_range': np.float64(74.11888501375739), 'hip_acc_std': np.float64(1556.285244441858), 'hip_jerk': np.float64(20851.85424974348), 'knee_mean': np.float64(0.005973628128663727), 'knee_std': np.float64(32.68727323140513), 'knee_range': np.float64(101.42053340734923), 'knee_acc_std': np.float64(2020.3350710162097), 'knee_jerk': np.float64(22299.56308257243), 'ankle_mean': np.float64(0.012316156596260244), 'ankle_std': np.float64(35.9565531411578), 'ankle_range': np.float64(111.099988656026), 'ankle_acc_std': np.float64(2197.7586033876855), 'ankle_jerk': np.float64(23145.82470603869), 'step_length_mean': np.float64(16.318061167612868), 'stride_length_mean': np.float64(16.132398223908694), 'cadence': np.float64(72.0)}\n"
     ]
    },
    {
     "name": "stderr",
     "output_type": "stream",
     "text": [
      "\rRunning tri-modal LLM prompts:  38%|███▊      | 19/50 [01:13<02:11,  4.24s/it]"
     ]
    },
    {
     "name": "stdout",
     "output_type": "stream",
     "text": [
      "📂 Pose file detected: /content/drive/MyDrive/NeuroSyncAI/mci_dataset_neuropose_small/Healthy/walking_pose_Baseline Resting_Healthy_trial24_20250503_155811_970111.csv\n",
      "📝 Pose summary preview: {'subject_id': 'walking_pose_Baseline Resting_Healthy_trial24_20250503_155811_970111', 'label': 'Healthy', 'hip_mean': np.float64(0.04717931888037995), 'hip_std': np.float64(24.391623864219024), 'hip_range': np.float64(80.91208772634306), 'hip_acc_std': np.float64(1621.5319640750606), 'hip_jerk': np.float64(20772.83300454363), 'knee_mean': np.float64(0.0028166350668687398), 'knee_std': np.float64(34.8324868564754), 'knee_range': np.float64(110.74893579305774), 'knee_acc_std': np.float64(2141.4766675876313), 'knee_jerk': np.float64(22981.717673453713), 'ankle_mean': np.float64(0.062123144807346174), 'ankle_std': np.float64(38.305257689032224), 'ankle_range': np.float64(121.65123412475788), 'ankle_acc_std': np.float64(2317.096051574887), 'ankle_jerk': np.float64(23437.346425344407), 'step_length_mean': np.float64(17.418452028175487), 'stride_length_mean': np.float64(17.267298369054334), 'cadence': np.float64(72.0)}\n"
     ]
    },
    {
     "name": "stderr",
     "output_type": "stream",
     "text": [
      "\rRunning tri-modal LLM prompts:  40%|████      | 20/50 [01:16<01:59,  3.98s/it]"
     ]
    },
    {
     "name": "stdout",
     "output_type": "stream",
     "text": [
      "📂 Pose file detected: /content/drive/MyDrive/NeuroSyncAI/mci_dataset_neuropose_small/Healthy/walking_pose_Baseline Resting_Healthy_trial23_20250503_155811_526865.csv\n",
      "📝 Pose summary preview: {'subject_id': 'walking_pose_Baseline Resting_Healthy_trial23_20250503_155811_526865', 'label': 'Healthy', 'hip_mean': np.float64(-0.042931020947497636), 'hip_std': np.float64(25.44252377822325), 'hip_range': np.float64(79.43068162900849), 'hip_acc_std': np.float64(1645.3269439958235), 'hip_jerk': np.float64(20130.522638132425), 'knee_mean': np.float64(0.054302171566812434), 'knee_std': np.float64(36.34933966872435), 'knee_range': np.float64(110.61944021548426), 'knee_acc_std': np.float64(2197.644448249272), 'knee_jerk': np.float64(22587.493419135717), 'ankle_mean': np.float64(0.05907721500898664), 'ankle_std': np.float64(39.988919149381424), 'ankle_range': np.float64(121.74482473944889), 'ankle_acc_std': np.float64(2384.5966491310865), 'ankle_jerk': np.float64(23217.211094420454), 'step_length_mean': np.float64(18.171900700840947), 'stride_length_mean': np.float64(17.93857307722293), 'cadence': np.float64(72.0)}\n"
     ]
    },
    {
     "name": "stderr",
     "output_type": "stream",
     "text": [
      "\rRunning tri-modal LLM prompts:  42%|████▏     | 21/50 [01:19<01:48,  3.75s/it]"
     ]
    },
    {
     "name": "stdout",
     "output_type": "stream",
     "text": [
      "📂 Pose file detected: /content/drive/MyDrive/NeuroSyncAI/mci_dataset_neuropose_small/Healthy/walking_pose_Baseline Resting_Healthy_trial20_20250503_155756_636877.csv\n",
      "📝 Pose summary preview: {'subject_id': 'walking_pose_Baseline Resting_Healthy_trial20_20250503_155756_636877', 'label': 'Healthy', 'hip_mean': np.float64(0.0032173861640784076), 'hip_std': np.float64(25.53619514316403), 'hip_range': np.float64(83.2664609905126), 'hip_acc_std': np.float64(1661.7824747935354), 'hip_jerk': np.float64(20343.081145691456), 'knee_mean': np.float64(-0.0009661345658035161), 'knee_std': np.float64(36.44780369269073), 'knee_range': np.float64(115.33130191496437), 'knee_acc_std': np.float64(2224.0950422088786), 'knee_jerk': np.float64(23257.462606450103), 'ankle_mean': np.float64(0.03505117625539237), 'ankle_std': np.float64(40.069294575767834), 'ankle_range': np.float64(123.83109167272002), 'ankle_acc_std': np.float64(2398.4798243344317), 'ankle_jerk': np.float64(23611.911056158515), 'step_length_mean': np.float64(18.189063722285834), 'stride_length_mean': np.float64(17.989809429726503), 'cadence': np.float64(72.0)}\n"
     ]
    },
    {
     "name": "stderr",
     "output_type": "stream",
     "text": [
      "\rRunning tri-modal LLM prompts:  44%|████▍     | 22/50 [01:23<01:40,  3.58s/it]"
     ]
    },
    {
     "name": "stdout",
     "output_type": "stream",
     "text": [
      "📂 Pose file detected: /content/drive/MyDrive/NeuroSyncAI/mci_dataset_neuropose_small/Healthy/walking_pose_Baseline Resting_Healthy_trial21_20250503_155808_102308.csv\n",
      "📝 Pose summary preview: {'subject_id': 'walking_pose_Baseline Resting_Healthy_trial21_20250503_155808_102308', 'label': 'Healthy', 'hip_mean': np.float64(0.010623564112308389), 'hip_std': np.float64(24.952473285397733), 'hip_range': np.float64(83.80666052593318), 'hip_acc_std': np.float64(1649.4795109885974), 'hip_jerk': np.float64(20896.41128755644), 'knee_mean': np.float64(0.053726066765909346), 'knee_std': np.float64(35.591723108102514), 'knee_range': np.float64(113.77548747674305), 'knee_acc_std': np.float64(2174.904522202888), 'knee_jerk': np.float64(23107.186357039776), 'ankle_mean': np.float64(-0.003988244787435428), 'ankle_std': np.float64(39.13435110200385), 'ankle_range': np.float64(118.34041272582994), 'ankle_acc_std': np.float64(2351.6545968694195), 'ankle_jerk': np.float64(23170.084308554226), 'step_length_mean': np.float64(17.754687713687776), 'stride_length_mean': np.float64(17.553114870496195), 'cadence': np.float64(72.0)}\n"
     ]
    },
    {
     "name": "stderr",
     "output_type": "stream",
     "text": [
      "\rRunning tri-modal LLM prompts:  46%|████▌     | 23/50 [01:26<01:37,  3.63s/it]"
     ]
    },
    {
     "name": "stdout",
     "output_type": "stream",
     "text": [
      "📂 Pose file detected: /content/drive/MyDrive/NeuroSyncAI/mci_dataset_neuropose_small/Healthy/walking_pose_Baseline Resting_Healthy_trial17_20250503_155754_428124.csv\n",
      "📝 Pose summary preview: {'subject_id': 'walking_pose_Baseline Resting_Healthy_trial17_20250503_155754_428124', 'label': 'Healthy', 'hip_mean': np.float64(-0.00252838779889957), 'hip_std': np.float64(25.084855012124727), 'hip_range': np.float64(79.95920920366221), 'hip_acc_std': np.float64(1647.3604462431013), 'hip_jerk': np.float64(20635.64256799596), 'knee_mean': np.float64(-0.04774518856206449), 'knee_std': np.float64(35.77748189281287), 'knee_range': np.float64(110.8767734767892), 'knee_acc_std': np.float64(2166.598769674805), 'knee_jerk': np.float64(22223.080044011185), 'ankle_mean': np.float64(-0.00015849693224165802), 'ankle_std': np.float64(39.40855442266012), 'ankle_range': np.float64(123.0691331100706), 'ankle_acc_std': np.float64(2371.0789445585833), 'ankle_jerk': np.float64(23762.589877310234), 'step_length_mean': np.float64(17.88460958286332), 'stride_length_mean': np.float64(17.6734823739518), 'cadence': np.float64(72.0)}\n"
     ]
    },
    {
     "name": "stderr",
     "output_type": "stream",
     "text": [
      "\rRunning tri-modal LLM prompts:  48%|████▊     | 24/50 [01:30<01:33,  3.61s/it]"
     ]
    },
    {
     "name": "stdout",
     "output_type": "stream",
     "text": [
      "📂 Pose file detected: /content/drive/MyDrive/NeuroSyncAI/mci_dataset_neuropose_small/Healthy/walking_pose_Baseline Resting_Healthy_trial19_20250503_155756_467347.csv\n",
      "📝 Pose summary preview: {'subject_id': 'walking_pose_Baseline Resting_Healthy_trial19_20250503_155756_467347', 'label': 'Healthy', 'hip_mean': np.float64(0.024228992419790818), 'hip_std': np.float64(23.955968262381656), 'hip_range': np.float64(82.58244961446238), 'hip_acc_std': np.float64(1607.081649881957), 'hip_jerk': np.float64(21055.028215350547), 'knee_mean': np.float64(0.03928039148042161), 'knee_std': np.float64(34.166778499437385), 'knee_range': np.float64(104.90863668653242), 'knee_acc_std': np.float64(2111.229069281354), 'knee_jerk': np.float64(22939.664618867126), 'ankle_mean': np.float64(-0.0025989157959823454), 'ankle_std': np.float64(37.605527482958664), 'ankle_range': np.float64(119.14718323761622), 'ankle_acc_std': np.float64(2285.626390245287), 'ankle_jerk': np.float64(23598.23834320091), 'step_length_mean': np.float64(17.08578732472244), 'stride_length_mean': np.float64(16.89402894489314), 'cadence': np.float64(72.0)}\n"
     ]
    },
    {
     "name": "stderr",
     "output_type": "stream",
     "text": [
      "\rRunning tri-modal LLM prompts:  50%|█████     | 25/50 [01:33<01:24,  3.39s/it]"
     ]
    },
    {
     "name": "stdout",
     "output_type": "stream",
     "text": [
      "📂 Pose file detected: /content/drive/MyDrive/NeuroSyncAI/mci_dataset_neuropose_small/MCI/walking_pose_Baseline Resting_MCI_trial17_20250503_160221_910033.csv\n",
      "📝 Pose summary preview: {'subject_id': 'walking_pose_Baseline Resting_MCI_trial17_20250503_160221_910033', 'label': 'MCI', 'hip_mean': np.float64(-0.010768895291117568), 'hip_std': np.float64(12.416063763396195), 'hip_range': np.float64(54.710606868470116), 'hip_acc_std': np.float64(1692.1174191836449), 'hip_jerk': np.float64(36470.13668533687), 'knee_mean': np.float64(-0.0131645505574863), 'knee_std': np.float64(21.266842558928804), 'knee_range': np.float64(78.15681206002165), 'knee_acc_std': np.float64(1763.110275572939), 'knee_jerk': np.float64(36472.06574605768), 'ankle_mean': np.float64(-0.09185776915036187), 'ankle_std': np.float64(24.373768419597386), 'ankle_range': np.float64(86.6924927391257), 'ankle_acc_std': np.float64(1777.2965136196467), 'ankle_jerk': np.float64(36861.59453490167), 'step_length_mean': np.float64(8.435570500222962), 'stride_length_mean': np.float64(7.801295402904913), 'cadence': np.float64(50.0)}\n"
     ]
    },
    {
     "name": "stderr",
     "output_type": "stream",
     "text": [
      "\rRunning tri-modal LLM prompts:  52%|█████▏    | 26/50 [01:37<01:30,  3.76s/it]"
     ]
    },
    {
     "name": "stdout",
     "output_type": "stream",
     "text": [
      "📂 Pose file detected: /content/drive/MyDrive/NeuroSyncAI/mci_dataset_neuropose_small/MCI/walking_pose_Baseline Resting_MCI_trial16_20250503_160210_601366.csv\n",
      "📝 Pose summary preview: {'subject_id': 'walking_pose_Baseline Resting_MCI_trial16_20250503_160210_601366', 'label': 'MCI', 'hip_mean': np.float64(-0.031154465082729614), 'hip_std': np.float64(14.0341405896508), 'hip_range': np.float64(56.732093502669876), 'hip_acc_std': np.float64(1705.0840238115532), 'hip_jerk': np.float64(36539.14874371085), 'knee_mean': np.float64(-0.04556007358770852), 'knee_std': np.float64(24.342307292443866), 'knee_range': np.float64(86.02766372570062), 'knee_acc_std': np.float64(1794.9498133838692), 'knee_jerk': np.float64(37083.16161671346), 'ankle_mean': np.float64(-0.024576011338689502), 'ankle_std': np.float64(27.638924808177073), 'ankle_range': np.float64(98.05717075753935), 'ankle_acc_std': np.float64(1822.9412249826999), 'ankle_jerk': np.float64(36996.430591413526), 'step_length_mean': np.float64(9.31200275348338), 'stride_length_mean': np.float64(8.805089776897608), 'cadence': np.float64(51.5)}\n"
     ]
    },
    {
     "name": "stderr",
     "output_type": "stream",
     "text": [
      "\rRunning tri-modal LLM prompts:  54%|█████▍    | 27/50 [01:40<01:21,  3.53s/it]"
     ]
    },
    {
     "name": "stdout",
     "output_type": "stream",
     "text": [
      "📂 Pose file detected: /content/drive/MyDrive/NeuroSyncAI/mci_dataset_neuropose_small/MCI/walking_pose_Baseline Resting_MCI_trial21_20250503_160234_261565.csv\n",
      "📝 Pose summary preview: {'subject_id': 'walking_pose_Baseline Resting_MCI_trial21_20250503_160234_261565', 'label': 'MCI', 'hip_mean': np.float64(0.05224783309808971), 'hip_std': np.float64(13.958781342405924), 'hip_range': np.float64(57.95258965998642), 'hip_acc_std': np.float64(1784.169949763625), 'hip_jerk': np.float64(38137.70254876622), 'knee_mean': np.float64(-0.07159544252265662), 'knee_std': np.float64(23.92715097245114), 'knee_range': np.float64(85.15968170664908), 'knee_acc_std': np.float64(1781.3883945888604), 'knee_jerk': np.float64(36871.09033381801), 'ankle_mean': np.float64(-0.041857085205329624), 'ankle_std': np.float64(27.317416966261394), 'ankle_range': np.float64(93.7688577203202), 'ankle_acc_std': np.float64(1799.2482833875208), 'ankle_jerk': np.float64(36833.54089819253), 'step_length_mean': np.float64(9.2336004047143), 'stride_length_mean': np.float64(8.608408601531856), 'cadence': np.float64(51.0)}\n"
     ]
    },
    {
     "name": "stderr",
     "output_type": "stream",
     "text": [
      "\rRunning tri-modal LLM prompts:  56%|█████▌    | 28/50 [01:44<01:18,  3.56s/it]"
     ]
    },
    {
     "name": "stdout",
     "output_type": "stream",
     "text": [
      "📂 Pose file detected: /content/drive/MyDrive/NeuroSyncAI/mci_dataset_neuropose_small/MCI/walking_pose_Baseline Resting_MCI_trial19_20250503_160222_951752.csv\n",
      "📝 Pose summary preview: {'subject_id': 'walking_pose_Baseline Resting_MCI_trial19_20250503_160222_951752', 'label': 'MCI', 'hip_mean': np.float64(-0.04762463926578551), 'hip_std': np.float64(13.850363865687736), 'hip_range': np.float64(55.23855755008023), 'hip_acc_std': np.float64(1696.3953913449582), 'hip_jerk': np.float64(36291.100062943115), 'knee_mean': np.float64(-0.06729849692470762), 'knee_std': np.float64(23.94339073135193), 'knee_range': np.float64(82.69696064922795), 'knee_acc_std': np.float64(1802.7211868437273), 'knee_jerk': np.float64(36991.73543338781), 'ankle_mean': np.float64(-0.020986543572230835), 'ankle_std': np.float64(27.30632075193265), 'ankle_range': np.float64(92.04343765544758), 'ankle_acc_std': np.float64(1832.601712169806), 'ankle_jerk': np.float64(37073.43927042097), 'step_length_mean': np.float64(9.216073487048579), 'stride_length_mean': np.float64(8.620754669536323), 'cadence': np.float64(50.5)}\n"
     ]
    },
    {
     "name": "stderr",
     "output_type": "stream",
     "text": [
      "\rRunning tri-modal LLM prompts:  58%|█████▊    | 29/50 [01:47<01:13,  3.50s/it]"
     ]
    },
    {
     "name": "stdout",
     "output_type": "stream",
     "text": [
      "📂 Pose file detected: /content/drive/MyDrive/NeuroSyncAI/mci_dataset_neuropose_small/MCI/walking_pose_Baseline Resting_MCI_trial18_20250503_160222_288206.csv\n",
      "📝 Pose summary preview: {'subject_id': 'walking_pose_Baseline Resting_MCI_trial18_20250503_160222_288206', 'label': 'MCI', 'hip_mean': np.float64(-0.09176494128298612), 'hip_std': np.float64(14.948694721545055), 'hip_range': np.float64(58.55488475355154), 'hip_acc_std': np.float64(1724.2503996609457), 'hip_jerk': np.float64(37058.25970065884), 'knee_mean': np.float64(0.0028272750064544045), 'knee_std': np.float64(25.853272175706124), 'knee_range': np.float64(87.11127869162891), 'knee_acc_std': np.float64(1806.4513045700423), 'knee_jerk': np.float64(37149.929029594714), 'ankle_mean': np.float64(-0.012325067859891226), 'ankle_std': np.float64(29.39180563136512), 'ankle_range': np.float64(96.92850525112848), 'ankle_acc_std': np.float64(1808.3613748730495), 'ankle_jerk': np.float64(36114.33629104941), 'step_length_mean': np.float64(9.748201471875252), 'stride_length_mean': np.float64(9.172697387408897), 'cadence': np.float64(50.5)}\n"
     ]
    },
    {
     "name": "stderr",
     "output_type": "stream",
     "text": [
      "\rRunning tri-modal LLM prompts:  60%|██████    | 30/50 [01:52<01:16,  3.83s/it]"
     ]
    },
    {
     "name": "stdout",
     "output_type": "stream",
     "text": [
      "📂 Pose file detected: /content/drive/MyDrive/NeuroSyncAI/mci_dataset_neuropose_small/MCI/walking_pose_Baseline Resting_MCI_trial15_20250503_160209_875457.csv\n",
      "📝 Pose summary preview: {'subject_id': 'walking_pose_Baseline Resting_MCI_trial15_20250503_160209_875457', 'label': 'MCI', 'hip_mean': np.float64(-0.07875507922523471), 'hip_std': np.float64(13.9911568667795), 'hip_range': np.float64(55.91414743305137), 'hip_acc_std': np.float64(1684.5530181064944), 'hip_jerk': np.float64(36161.525753400805), 'knee_mean': np.float64(-0.027367499624353354), 'knee_std': np.float64(23.92752082442839), 'knee_range': np.float64(82.34996585213244), 'knee_acc_std': np.float64(1731.9672171421144), 'knee_jerk': np.float64(35490.32614984433), 'ankle_mean': np.float64(0.10637325081004798), 'ankle_std': np.float64(27.34278587498864), 'ankle_range': np.float64(93.20177694304878), 'ankle_acc_std': np.float64(1799.414101112655), 'ankle_jerk': np.float64(36443.17793828873), 'step_length_mean': np.float64(9.166303724505047), 'stride_length_mean': np.float64(8.634151389103843), 'cadence': np.float64(53.0)}\n"
     ]
    },
    {
     "name": "stderr",
     "output_type": "stream",
     "text": [
      "\rRunning tri-modal LLM prompts:  62%|██████▏   | 31/50 [01:56<01:14,  3.94s/it]"
     ]
    },
    {
     "name": "stdout",
     "output_type": "stream",
     "text": [
      "📂 Pose file detected: /content/drive/MyDrive/NeuroSyncAI/mci_dataset_neuropose_small/MCI/walking_pose_Baseline Resting_MCI_trial20_20250503_160223_983177.csv\n",
      "📝 Pose summary preview: {'subject_id': 'walking_pose_Baseline Resting_MCI_trial20_20250503_160223_983177', 'label': 'MCI', 'hip_mean': np.float64(-0.016601366184342083), 'hip_std': np.float64(14.613006886079015), 'hip_range': np.float64(59.427166324391976), 'hip_acc_std': np.float64(1738.4053074684964), 'hip_jerk': np.float64(37459.51824453774), 'knee_mean': np.float64(-0.03626208403520026), 'knee_std': np.float64(25.1868549104832), 'knee_range': np.float64(86.98346541794743), 'knee_acc_std': np.float64(1852.2889096691317), 'knee_jerk': np.float64(37991.555295021666), 'ankle_mean': np.float64(0.12505504494346809), 'ankle_std': np.float64(28.70525269069412), 'ankle_range': np.float64(96.83069028473639), 'ankle_acc_std': np.float64(1844.6808673606197), 'ankle_jerk': np.float64(37397.41952296701), 'step_length_mean': np.float64(9.549881770359796), 'stride_length_mean': np.float64(9.04297227663631), 'cadence': np.float64(51.0)}\n"
     ]
    },
    {
     "name": "stderr",
     "output_type": "stream",
     "text": [
      "\rRunning tri-modal LLM prompts:  64%|██████▍   | 32/50 [02:01<01:15,  4.21s/it]"
     ]
    },
    {
     "name": "stdout",
     "output_type": "stream",
     "text": [
      "📂 Pose file detected: /content/drive/MyDrive/NeuroSyncAI/mci_dataset_neuropose_small/MCI/walking_pose_Baseline Resting_MCI_trial22_20250503_160234_516889.csv\n",
      "📝 Pose summary preview: {'subject_id': 'walking_pose_Baseline Resting_MCI_trial22_20250503_160234_516889', 'label': 'MCI', 'hip_mean': np.float64(-0.10374140303995688), 'hip_std': np.float64(13.977028602164395), 'hip_range': np.float64(55.27834797106044), 'hip_acc_std': np.float64(1704.6689253731327), 'hip_jerk': np.float64(36370.29154150252), 'knee_mean': np.float64(0.06990839212458722), 'knee_std': np.float64(23.896686347665398), 'knee_range': np.float64(84.30907479407026), 'knee_acc_std': np.float64(1749.4020762283544), 'knee_jerk': np.float64(35700.56418861031), 'ankle_mean': np.float64(-0.027963757463734966), 'ankle_std': np.float64(27.367387627726384), 'ankle_range': np.float64(94.86328417145785), 'ankle_acc_std': np.float64(1789.2106550414994), 'ankle_jerk': np.float64(35961.9700061806), 'step_length_mean': np.float64(9.195114920663778), 'stride_length_mean': np.float64(8.64719734842344), 'cadence': np.float64(50.0)}\n"
     ]
    },
    {
     "name": "stderr",
     "output_type": "stream",
     "text": [
      "\rRunning tri-modal LLM prompts:  66%|██████▌   | 33/50 [02:05<01:12,  4.29s/it]"
     ]
    },
    {
     "name": "stdout",
     "output_type": "stream",
     "text": [
      "📂 Pose file detected: /content/drive/MyDrive/NeuroSyncAI/mci_dataset_neuropose_small/MCI/walking_pose_Baseline Resting_MCI_trial14_20250503_160209_786453.csv\n",
      "📝 Pose summary preview: {'subject_id': 'walking_pose_Baseline Resting_MCI_trial14_20250503_160209_786453', 'label': 'MCI', 'hip_mean': np.float64(-0.028639642804216714), 'hip_std': np.float64(13.692958169334734), 'hip_range': np.float64(57.85455582106091), 'hip_acc_std': np.float64(1724.6737007247868), 'hip_jerk': np.float64(36931.83156218249), 'knee_mean': np.float64(-0.08236967045240211), 'knee_std': np.float64(23.51705544408957), 'knee_range': np.float64(83.22339099697899), 'knee_acc_std': np.float64(1802.0653778017925), 'knee_jerk': np.float64(37180.337907512236), 'ankle_mean': np.float64(0.07380106472817743), 'ankle_std': np.float64(26.860885741045585), 'ankle_range': np.float64(93.31438381632515), 'ankle_acc_std': np.float64(1814.212566242762), 'ankle_jerk': np.float64(36580.747790695495), 'step_length_mean': np.float64(9.021384830575041), 'stride_length_mean': np.float64(8.498369087715256), 'cadence': np.float64(51.0)}\n"
     ]
    },
    {
     "name": "stderr",
     "output_type": "stream",
     "text": [
      "\rRunning tri-modal LLM prompts:  68%|██████▊   | 34/50 [02:09<01:04,  4.04s/it]"
     ]
    },
    {
     "name": "stdout",
     "output_type": "stream",
     "text": [
      "📂 Pose file detected: /content/drive/MyDrive/NeuroSyncAI/mci_dataset_neuropose_small/MCI/walking_pose_Baseline Resting_MCI_trial6_20250503_160140_490914.csv\n",
      "📝 Pose summary preview: {'subject_id': 'walking_pose_Baseline Resting_MCI_trial6_20250503_160140_490914', 'label': 'MCI', 'hip_mean': np.float64(-0.09526109162959395), 'hip_std': np.float64(14.62673793690244), 'hip_range': np.float64(58.98172739529816), 'hip_acc_std': np.float64(1707.9205393527918), 'hip_jerk': np.float64(36206.01610485381), 'knee_mean': np.float64(0.022997737210854022), 'knee_std': np.float64(25.335518775103264), 'knee_range': np.float64(89.47370116505533), 'knee_acc_std': np.float64(1761.1341463612441), 'knee_jerk': np.float64(35837.35219435525), 'ankle_mean': np.float64(-0.0012433994025362338), 'ankle_std': np.float64(28.916820229606287), 'ankle_range': np.float64(102.43170899944336), 'ankle_acc_std': np.float64(1787.5843735380556), 'ankle_jerk': np.float64(35652.801607604815), 'step_length_mean': np.float64(9.554170340924866), 'stride_length_mean': np.float64(9.007546848973467), 'cadence': np.float64(50.0)}\n"
     ]
    },
    {
     "name": "stderr",
     "output_type": "stream",
     "text": [
      "\rRunning tri-modal LLM prompts:  70%|███████   | 35/50 [02:13<00:58,  3.93s/it]"
     ]
    },
    {
     "name": "stdout",
     "output_type": "stream",
     "text": [
      "📂 Pose file detected: /content/drive/MyDrive/NeuroSyncAI/mci_dataset_neuropose_small/MCI/walking_pose_Baseline Resting_MCI_trial13_20250503_160209_595272.csv\n",
      "📝 Pose summary preview: {'subject_id': 'walking_pose_Baseline Resting_MCI_trial13_20250503_160209_595272', 'label': 'MCI', 'hip_mean': np.float64(0.04206387755656726), 'hip_std': np.float64(13.81963030844716), 'hip_range': np.float64(53.32076270558133), 'hip_acc_std': np.float64(1661.083233839096), 'hip_jerk': np.float64(35294.82500803073), 'knee_mean': np.float64(0.018956329356695056), 'knee_std': np.float64(23.971932524825927), 'knee_range': np.float64(85.4094019514225), 'knee_acc_std': np.float64(1781.1807908790213), 'knee_jerk': np.float64(36757.97261187415), 'ankle_mean': np.float64(-0.011121558015830159), 'ankle_std': np.float64(27.343590333579453), 'ankle_range': np.float64(95.24164224705001), 'ankle_acc_std': np.float64(1796.445916220486), 'ankle_jerk': np.float64(36550.71639916635), 'step_length_mean': np.float64(9.110219232936574), 'stride_length_mean': np.float64(8.610244882950557), 'cadence': np.float64(49.5)}\n"
     ]
    },
    {
     "name": "stderr",
     "output_type": "stream",
     "text": [
      "\rRunning tri-modal LLM prompts:  72%|███████▏  | 36/50 [02:17<00:57,  4.10s/it]"
     ]
    },
    {
     "name": "stdout",
     "output_type": "stream",
     "text": [
      "📂 Pose file detected: /content/drive/MyDrive/NeuroSyncAI/mci_dataset_neuropose_small/MCI/walking_pose_Baseline Resting_MCI_trial7_20250503_160141_653564.csv\n",
      "📝 Pose summary preview: {'subject_id': 'walking_pose_Baseline Resting_MCI_trial7_20250503_160141_653564', 'label': 'MCI', 'hip_mean': np.float64(-0.08526170296612641), 'hip_std': np.float64(15.169446609824131), 'hip_range': np.float64(57.82233010387239), 'hip_acc_std': np.float64(1705.9293059452175), 'hip_jerk': np.float64(36481.586343211224), 'knee_mean': np.float64(0.06970422068948526), 'knee_std': np.float64(26.28642737913745), 'knee_range': np.float64(90.71527679866537), 'knee_acc_std': np.float64(1803.785716754665), 'knee_jerk': np.float64(36903.14303990302), 'ankle_mean': np.float64(-0.0024221028867623634), 'ankle_std': np.float64(29.76843720858673), 'ankle_range': np.float64(98.68796589068035), 'ankle_acc_std': np.float64(1844.5984193290674), 'ankle_jerk': np.float64(36809.24548731384), 'step_length_mean': np.float64(9.863230936039912), 'stride_length_mean': np.float64(9.364445684848265), 'cadence': np.float64(52.5)}\n"
     ]
    },
    {
     "name": "stderr",
     "output_type": "stream",
     "text": [
      "\rRunning tri-modal LLM prompts:  74%|███████▍  | 37/50 [02:20<00:50,  3.88s/it]"
     ]
    },
    {
     "name": "stdout",
     "output_type": "stream",
     "text": [
      "📂 Pose file detected: /content/drive/MyDrive/NeuroSyncAI/mci_dataset_neuropose_small/MCI/walking_pose_Baseline Resting_MCI_trial5_20250503_160140_409849.csv\n",
      "📝 Pose summary preview: {'subject_id': 'walking_pose_Baseline Resting_MCI_trial5_20250503_160140_409849', 'label': 'MCI', 'hip_mean': np.float64(0.04277296207416162), 'hip_std': np.float64(15.162783567162682), 'hip_range': np.float64(59.32682909973135), 'hip_acc_std': np.float64(1714.605708211223), 'hip_jerk': np.float64(36811.952061938944), 'knee_mean': np.float64(-0.07761302947406441), 'knee_std': np.float64(26.074500823510224), 'knee_range': np.float64(88.69788914489034), 'knee_acc_std': np.float64(1825.640570421099), 'knee_jerk': np.float64(37544.25739702342), 'ankle_mean': np.float64(0.03974471880380629), 'ankle_std': np.float64(29.88501737201269), 'ankle_range': np.float64(99.32841792653085), 'ankle_acc_std': np.float64(1839.7038812950593), 'ankle_jerk': np.float64(36898.41923310411), 'step_length_mean': np.float64(9.858613922619766), 'stride_length_mean': np.float64(9.38381415299907), 'cadence': np.float64(49.5)}\n"
     ]
    },
    {
     "name": "stderr",
     "output_type": "stream",
     "text": [
      "\rRunning tri-modal LLM prompts:  76%|███████▌  | 38/50 [02:25<00:49,  4.09s/it]"
     ]
    },
    {
     "name": "stdout",
     "output_type": "stream",
     "text": [
      "📂 Pose file detected: /content/drive/MyDrive/NeuroSyncAI/mci_dataset_neuropose_small/MCI/walking_pose_Baseline Resting_MCI_trial4_20250503_160128_434072.csv\n",
      "📝 Pose summary preview: {'subject_id': 'walking_pose_Baseline Resting_MCI_trial4_20250503_160128_434072', 'label': 'MCI', 'hip_mean': np.float64(0.008515305701253964), 'hip_std': np.float64(14.385742670418093), 'hip_range': np.float64(59.08276997214979), 'hip_acc_std': np.float64(1702.8677619713353), 'hip_jerk': np.float64(36373.946048966965), 'knee_mean': np.float64(0.030402928611651222), 'knee_std': np.float64(24.69069063940446), 'knee_range': np.float64(87.25783816169448), 'knee_acc_std': np.float64(1824.655007338219), 'knee_jerk': np.float64(37448.3589419301), 'ankle_mean': np.float64(0.04199726998147404), 'ankle_std': np.float64(28.121253291459556), 'ankle_range': np.float64(94.11620580190709), 'ankle_acc_std': np.float64(1815.9251942297976), 'ankle_jerk': np.float64(36710.763180498885), 'step_length_mean': np.float64(9.390675606200983), 'stride_length_mean': np.float64(8.904916153456595), 'cadence': np.float64(51.0)}\n"
     ]
    },
    {
     "name": "stderr",
     "output_type": "stream",
     "text": [
      "\rRunning tri-modal LLM prompts:  78%|███████▊  | 39/50 [02:28<00:41,  3.79s/it]"
     ]
    },
    {
     "name": "stdout",
     "output_type": "stream",
     "text": [
      "📂 Pose file detected: /content/drive/MyDrive/NeuroSyncAI/mci_dataset_neuropose_small/MCI/walking_pose_Baseline Resting_MCI_trial10_20250503_160155_687816.csv\n",
      "📝 Pose summary preview: {'subject_id': 'walking_pose_Baseline Resting_MCI_trial10_20250503_160155_687816', 'label': 'MCI', 'hip_mean': np.float64(0.08371021024504055), 'hip_std': np.float64(14.071479820416245), 'hip_range': np.float64(58.40014769835189), 'hip_acc_std': np.float64(1687.878745745076), 'hip_jerk': np.float64(36463.61626697695), 'knee_mean': np.float64(0.07148744208607756), 'knee_std': np.float64(24.09887639769733), 'knee_range': np.float64(84.48672688296908), 'knee_acc_std': np.float64(1811.2668337187251), 'knee_jerk': np.float64(37583.38811919393), 'ankle_mean': np.float64(0.026732829871307883), 'ankle_std': np.float64(27.55607786376462), 'ankle_range': np.float64(94.92411014390629), 'ankle_acc_std': np.float64(1837.0797643685112), 'ankle_jerk': np.float64(37428.09384717984), 'step_length_mean': np.float64(9.302267070485675), 'stride_length_mean': np.float64(8.707096786625023), 'cadence': np.float64(50.0)}\n"
     ]
    },
    {
     "name": "stderr",
     "output_type": "stream",
     "text": [
      "\rRunning tri-modal LLM prompts:  80%|████████  | 40/50 [02:32<00:38,  3.86s/it]"
     ]
    },
    {
     "name": "stdout",
     "output_type": "stream",
     "text": [
      "📂 Pose file detected: /content/drive/MyDrive/NeuroSyncAI/mci_dataset_neuropose_small/MCI/walking_pose_Baseline Resting_MCI_trial11_20250503_160155_984029.csv\n",
      "📝 Pose summary preview: {'subject_id': 'walking_pose_Baseline Resting_MCI_trial11_20250503_160155_984029', 'label': 'MCI', 'hip_mean': np.float64(0.001713197578224038), 'hip_std': np.float64(14.829397128700576), 'hip_range': np.float64(56.731280312335585), 'hip_acc_std': np.float64(1734.6270705893523), 'hip_jerk': np.float64(37288.38213483375), 'knee_mean': np.float64(0.02054343223597097), 'knee_std': np.float64(25.71546975547321), 'knee_range': np.float64(89.77972956027469), 'knee_acc_std': np.float64(1734.1462446389032), 'knee_jerk': np.float64(35044.27132231842), 'ankle_mean': np.float64(0.005847524877747342), 'ankle_std': np.float64(29.320617904210312), 'ankle_range': np.float64(99.84232069972543), 'ankle_acc_std': np.float64(1826.5471304033279), 'ankle_jerk': np.float64(36573.35327691865), 'step_length_mean': np.float64(9.708721503684847), 'stride_length_mean': np.float64(9.205765728898074), 'cadence': np.float64(53.5)}\n"
     ]
    },
    {
     "name": "stderr",
     "output_type": "stream",
     "text": [
      "\rRunning tri-modal LLM prompts:  82%|████████▏ | 41/50 [02:36<00:35,  3.90s/it]"
     ]
    },
    {
     "name": "stdout",
     "output_type": "stream",
     "text": [
      "📂 Pose file detected: /content/drive/MyDrive/NeuroSyncAI/mci_dataset_neuropose_small/MCI/walking_pose_Baseline Resting_MCI_trial12_20250503_160156_443348.csv\n",
      "📝 Pose summary preview: {'subject_id': 'walking_pose_Baseline Resting_MCI_trial12_20250503_160156_443348', 'label': 'MCI', 'hip_mean': np.float64(-0.026690701785475047), 'hip_std': np.float64(14.382168875963846), 'hip_range': np.float64(58.16243821725162), 'hip_acc_std': np.float64(1734.8035866735604), 'hip_jerk': np.float64(37210.030796884574), 'knee_mean': np.float64(0.015077460860459167), 'knee_std': np.float64(24.752342624177732), 'knee_range': np.float64(84.0708460224194), 'knee_acc_std': np.float64(1821.251106449792), 'knee_jerk': np.float64(37627.36253497276), 'ankle_mean': np.float64(-0.0273727361965872), 'ankle_std': np.float64(28.20677950926123), 'ankle_range': np.float64(94.78650555710543), 'ankle_acc_std': np.float64(1852.570935142939), 'ankle_jerk': np.float64(37633.31954040793), 'step_length_mean': np.float64(9.467096545705957), 'stride_length_mean': np.float64(8.93633856850329), 'cadence': np.float64(51.0)}\n"
     ]
    },
    {
     "name": "stderr",
     "output_type": "stream",
     "text": [
      "\rRunning tri-modal LLM prompts:  84%|████████▍ | 42/50 [02:40<00:29,  3.75s/it]"
     ]
    },
    {
     "name": "stdout",
     "output_type": "stream",
     "text": [
      "📂 Pose file detected: /content/drive/MyDrive/NeuroSyncAI/mci_dataset_neuropose_small/MCI/walking_pose_Baseline Resting_MCI_trial9_20250503_160155_835852.csv\n",
      "📝 Pose summary preview: {'subject_id': 'walking_pose_Baseline Resting_MCI_trial9_20250503_160155_835852', 'label': 'MCI', 'hip_mean': np.float64(-0.024890964155890424), 'hip_std': np.float64(15.220159724259476), 'hip_range': np.float64(61.97953810841178), 'hip_acc_std': np.float64(1729.2126319411689), 'hip_jerk': np.float64(36818.68099627908), 'knee_mean': np.float64(-0.02243258179483926), 'knee_std': np.float64(26.32994492814654), 'knee_range': np.float64(94.03941048218076), 'knee_acc_std': np.float64(1794.5389433395123), 'knee_jerk': np.float64(36652.52319683481), 'ankle_mean': np.float64(-0.038381525827190566), 'ankle_std': np.float64(29.88679762510109), 'ankle_range': np.float64(100.425602136451), 'ankle_acc_std': np.float64(1854.4202666041272), 'ankle_jerk': np.float64(37726.32974214156), 'step_length_mean': np.float64(9.856793184861978), 'stride_length_mean': np.float64(9.410565202919258), 'cadence': np.float64(50.5)}\n"
     ]
    },
    {
     "name": "stderr",
     "output_type": "stream",
     "text": [
      "\rRunning tri-modal LLM prompts:  86%|████████▌ | 43/50 [02:43<00:26,  3.78s/it]"
     ]
    },
    {
     "name": "stdout",
     "output_type": "stream",
     "text": [
      "📂 Pose file detected: /content/drive/MyDrive/NeuroSyncAI/mci_dataset_neuropose_small/MCI/walking_pose_Baseline Resting_MCI_trial8_20250503_160142_180669.csv\n",
      "📝 Pose summary preview: {'subject_id': 'walking_pose_Baseline Resting_MCI_trial8_20250503_160142_180669', 'label': 'MCI', 'hip_mean': np.float64(-0.06533994688732234), 'hip_std': np.float64(14.340565700733707), 'hip_range': np.float64(54.137175933824096), 'hip_acc_std': np.float64(1744.4434521856617), 'hip_jerk': np.float64(37435.65780038201), 'knee_mean': np.float64(-0.010596629331368722), 'knee_std': np.float64(24.76179561763662), 'knee_range': np.float64(84.8455850468238), 'knee_acc_std': np.float64(1844.9471977624898), 'knee_jerk': np.float64(38263.917200876574), 'ankle_mean': np.float64(0.036442346846790735), 'ankle_std': np.float64(28.249903409567704), 'ankle_range': np.float64(96.7605115637864), 'ankle_acc_std': np.float64(1834.2771894625055), 'ankle_jerk': np.float64(37042.45580288424), 'step_length_mean': np.float64(9.448300476542888), 'stride_length_mean': np.float64(8.885827468477034), 'cadence': np.float64(50.5)}\n"
     ]
    },
    {
     "name": "stderr",
     "output_type": "stream",
     "text": [
      "\rRunning tri-modal LLM prompts:  88%|████████▊ | 44/50 [02:47<00:22,  3.76s/it]"
     ]
    },
    {
     "name": "stdout",
     "output_type": "stream",
     "text": [
      "📂 Pose file detected: /content/drive/MyDrive/NeuroSyncAI/mci_dataset_neuropose_small/MCI/walking_pose_Baseline Resting_MCI_trial1_20250503_160128_665145.csv\n",
      "📝 Pose summary preview: {'subject_id': 'walking_pose_Baseline Resting_MCI_trial1_20250503_160128_665145', 'label': 'MCI', 'hip_mean': np.float64(0.03962050711965359), 'hip_std': np.float64(14.707770033275075), 'hip_range': np.float64(57.34210498522687), 'hip_acc_std': np.float64(1785.029576739688), 'hip_jerk': np.float64(38281.68193333127), 'knee_mean': np.float64(-0.053505407659828384), 'knee_std': np.float64(25.262388135672506), 'knee_range': np.float64(86.60221941352602), 'knee_acc_std': np.float64(1798.3073179180874), 'knee_jerk': np.float64(36898.211099103726), 'ankle_mean': np.float64(-0.042038010325059584), 'ankle_std': np.float64(28.834283591025443), 'ankle_range': np.float64(96.78147642295859), 'ankle_acc_std': np.float64(1856.825078255721), 'ankle_jerk': np.float64(37730.6243734643), 'step_length_mean': np.float64(9.568572294701717), 'stride_length_mean': np.float64(9.127356631151095), 'cadence': np.float64(49.5)}\n"
     ]
    },
    {
     "name": "stderr",
     "output_type": "stream",
     "text": [
      "\rRunning tri-modal LLM prompts:  90%|█████████ | 45/50 [02:52<00:19,  3.96s/it]"
     ]
    },
    {
     "name": "stdout",
     "output_type": "stream",
     "text": [
      "📂 Pose file detected: /content/drive/MyDrive/NeuroSyncAI/mci_dataset_neuropose_small/MCI/walking_pose_Baseline Resting_MCI_trial25_20250503_160244_807916.csv\n",
      "📝 Pose summary preview: {'subject_id': 'walking_pose_Baseline Resting_MCI_trial25_20250503_160244_807916', 'label': 'MCI', 'hip_mean': np.float64(0.08594494228968547), 'hip_std': np.float64(14.864155678341161), 'hip_range': np.float64(58.907086870622805), 'hip_acc_std': np.float64(1684.8792311564757), 'hip_jerk': np.float64(35431.33499514197), 'knee_mean': np.float64(0.05047683237030595), 'knee_std': np.float64(25.576746863423033), 'knee_range': np.float64(90.96160317567728), 'knee_acc_std': np.float64(1828.8152890993779), 'knee_jerk': np.float64(37822.48937191708), 'ankle_mean': np.float64(0.029062356501691432), 'ankle_std': np.float64(29.08854484192302), 'ankle_range': np.float64(101.93391364746712), 'ankle_acc_std': np.float64(1846.8299335562042), 'ankle_jerk': np.float64(36681.54197891654), 'step_length_mean': np.float64(9.703351847909895), 'stride_length_mean': np.float64(9.119873797042509), 'cadence': np.float64(50.5)}\n"
     ]
    },
    {
     "name": "stderr",
     "output_type": "stream",
     "text": [
      "\rRunning tri-modal LLM prompts:  92%|█████████▏| 46/50 [02:56<00:16,  4.12s/it]"
     ]
    },
    {
     "name": "stdout",
     "output_type": "stream",
     "text": [
      "📂 Pose file detected: /content/drive/MyDrive/NeuroSyncAI/mci_dataset_neuropose_small/MCI/walking_pose_Baseline Resting_MCI_trial3_20250503_160128_229011.csv\n",
      "📝 Pose summary preview: {'subject_id': 'walking_pose_Baseline Resting_MCI_trial3_20250503_160128_229011', 'label': 'MCI', 'hip_mean': np.float64(-0.010030677086686642), 'hip_std': np.float64(13.909194711399754), 'hip_range': np.float64(55.9298865090919), 'hip_acc_std': np.float64(1756.6955632128377), 'hip_jerk': np.float64(37563.39861652416), 'knee_mean': np.float64(0.04157958448935602), 'knee_std': np.float64(23.790710491931446), 'knee_range': np.float64(83.06453773723527), 'knee_acc_std': np.float64(1754.6703621013), 'knee_jerk': np.float64(36267.323935918685), 'ankle_mean': np.float64(0.0730571902743387), 'ankle_std': np.float64(27.190660797522526), 'ankle_range': np.float64(93.9869882694912), 'ankle_acc_std': np.float64(1822.2261904988193), 'ankle_jerk': np.float64(37046.254410069094), 'step_length_mean': np.float64(9.221763539261529), 'stride_length_mean': np.float64(8.639849304186573), 'cadence': np.float64(51.5)}\n"
     ]
    },
    {
     "name": "stderr",
     "output_type": "stream",
     "text": [
      "\rRunning tri-modal LLM prompts:  94%|█████████▍| 47/50 [03:01<00:12,  4.33s/it]"
     ]
    },
    {
     "name": "stdout",
     "output_type": "stream",
     "text": [
      "📂 Pose file detected: /content/drive/MyDrive/NeuroSyncAI/mci_dataset_neuropose_small/MCI/walking_pose_Baseline Resting_MCI_trial23_20250503_160236_184885.csv\n",
      "📝 Pose summary preview: {'subject_id': 'walking_pose_Baseline Resting_MCI_trial23_20250503_160236_184885', 'label': 'MCI', 'hip_mean': np.float64(-0.04943915518716758), 'hip_std': np.float64(14.778191716719407), 'hip_range': np.float64(56.26204689747742), 'hip_acc_std': np.float64(1729.7019383156078), 'hip_jerk': np.float64(36874.11531689962), 'knee_mean': np.float64(-0.06509625167077035), 'knee_std': np.float64(25.459927864298304), 'knee_range': np.float64(87.90698179400346), 'knee_acc_std': np.float64(1789.1698234296678), 'knee_jerk': np.float64(36656.27365439867), 'ankle_mean': np.float64(-0.06559186212723582), 'ankle_std': np.float64(29.169800509245505), 'ankle_range': np.float64(99.94559742361051), 'ankle_acc_std': np.float64(1807.0654914430836), 'ankle_jerk': np.float64(36438.31693416444), 'step_length_mean': np.float64(9.669282937331436), 'stride_length_mean': np.float64(9.152406823202744), 'cadence': np.float64(49.0)}\n"
     ]
    },
    {
     "name": "stderr",
     "output_type": "stream",
     "text": [
      "\rRunning tri-modal LLM prompts:  96%|█████████▌| 48/50 [03:04<00:08,  4.06s/it]"
     ]
    },
    {
     "name": "stdout",
     "output_type": "stream",
     "text": [
      "📂 Pose file detected: /content/drive/MyDrive/NeuroSyncAI/mci_dataset_neuropose_small/MCI/walking_pose_Baseline Resting_MCI_trial2_20250503_160128_608223.csv\n",
      "📝 Pose summary preview: {'subject_id': 'walking_pose_Baseline Resting_MCI_trial2_20250503_160128_608223', 'label': 'MCI', 'hip_mean': np.float64(0.08599872648580612), 'hip_std': np.float64(14.206861945377412), 'hip_range': np.float64(56.19456560571423), 'hip_acc_std': np.float64(1708.5426564682668), 'hip_jerk': np.float64(36914.5829390032), 'knee_mean': np.float64(-0.013968622327320735), 'knee_std': np.float64(24.576924436721843), 'knee_range': np.float64(87.49519808538668), 'knee_acc_std': np.float64(1777.9771923597107), 'knee_jerk': np.float64(36086.8921243655), 'ankle_mean': np.float64(0.008198163503338483), 'ankle_std': np.float64(27.930266274838104), 'ankle_range': np.float64(97.5480052449312), 'ankle_acc_std': np.float64(1866.070898303527), 'ankle_jerk': np.float64(37979.94105030486), 'step_length_mean': np.float64(9.352581273958373), 'stride_length_mean': np.float64(8.723834353318367), 'cadence': np.float64(52.0)}\n"
     ]
    },
    {
     "name": "stderr",
     "output_type": "stream",
     "text": [
      "\rRunning tri-modal LLM prompts:  98%|█████████▊| 49/50 [03:07<00:03,  3.80s/it]"
     ]
    },
    {
     "name": "stdout",
     "output_type": "stream",
     "text": [
      "📂 Pose file detected: /content/drive/MyDrive/NeuroSyncAI/mci_dataset_neuropose_small/MCI/walking_pose_Baseline Resting_MCI_trial24_20250503_160236_870160.csv\n",
      "📝 Pose summary preview: {'subject_id': 'walking_pose_Baseline Resting_MCI_trial24_20250503_160236_870160', 'label': 'MCI', 'hip_mean': np.float64(0.02309903741608431), 'hip_std': np.float64(15.007919088431374), 'hip_range': np.float64(58.792334588138544), 'hip_acc_std': np.float64(1693.1075411992676), 'hip_jerk': np.float64(36214.1406907287), 'knee_mean': np.float64(-0.003494677477995221), 'knee_std': np.float64(25.95350884201436), 'knee_range': np.float64(91.36034086932148), 'knee_acc_std': np.float64(1775.2226982966042), 'knee_jerk': np.float64(36480.27261712923), 'ankle_mean': np.float64(0.05648593188706245), 'ankle_std': np.float64(29.59421416627289), 'ankle_range': np.float64(102.82273345851891), 'ankle_acc_std': np.float64(1860.6810030763554), 'ankle_jerk': np.float64(37228.318620818274), 'step_length_mean': np.float64(9.711110324144384), 'stride_length_mean': np.float64(9.329561307400308), 'cadence': np.float64(50.5)}\n"
     ]
    },
    {
     "name": "stderr",
     "output_type": "stream",
     "text": [
      "Running tri-modal LLM prompts: 100%|██████████| 50/50 [03:11<00:00,  3.83s/it]\n"
     ]
    }
   ],
   "source": [
    "# === Helper: extract trial name like \"trial3\" from filename === #\n",
    "def extract_trial_id(filename):\n",
    "    match = re.search(r'(trial\\d+)', filename)\n",
    "    return match.group(1) if match else None\n",
    "\n",
    "# === Step 1: Group all files by (trial_id, condition) === #\n",
    "trial_files = {}\n",
    "\n",
    "for condition in CONDITIONS:\n",
    "    folder = os.path.join(ROOT_PATH, condition)\n",
    "    for file in os.listdir(folder):\n",
    "        trial_id = extract_trial_id(file)\n",
    "        if trial_id:\n",
    "            full_path = os.path.join(folder, file)\n",
    "            trial_files.setdefault((trial_id, condition), []).append(full_path)\n",
    "\n",
    "# === Step 2: Iterate over each trial and run tri-modal LLM === #\n",
    "all_llm_results = []\n",
    "\n",
    "for (trial_id, condition), files in tqdm(trial_files.items(), desc=\"Running tri-modal LLM prompts\"):\n",
    "    eeg_df = None\n",
    "    hrv_df = None\n",
    "    pose_summary = None\n",
    "    subject_id = f\"{trial_id}_{condition}\"\n",
    "\n",
    "    # Extract the correct files for each modality\n",
    "    for file_path in files:\n",
    "        filename = os.path.basename(file_path).lower()\n",
    "\n",
    "        try:\n",
    "            if \"eeg\" in filename:\n",
    "                eeg_df = pd.read_csv(file_path)\n",
    "            elif \"hrv\" in filename:\n",
    "                hrv_df = pd.read_csv(file_path)\n",
    "            elif \"pose\" in filename:\n",
    "                print(f\"📂 Pose file detected: {file_path}\")\n",
    "                pose_summary = generate_position_based_pose_summary(file_path)\n",
    "                print(f\"📝 Pose summary preview: {pose_summary}\")\n",
    "        except Exception as e:\n",
    "            print(f\"⚠️ Error reading {file_path}: {e}\")\n",
    "\n",
    "    # === Step 3: Run LLM Prompt Construction & Prediction === #\n",
    "    try:\n",
    "        if eeg_df is not None and hrv_df is not None and pose_summary is not None:\n",
    "            combined_summary = generate_combined_summary(eeg_df, hrv_df, pose_summary)\n",
    "            prompt = build_llm_prompt_from_combined_summary(combined_summary)\n",
    "        else:\n",
    "            raise ValueError(\"Missing one or more modalities (EEG, HRV, Pose)\")\n",
    "\n",
    "        llm_response = call_llm_api(prompt)\n",
    "        parsed = parse_llm_output_flexible(llm_response)\n",
    "        confidence = categorize_llm_response(llm_response)[\"confidence\"]\n",
    "\n",
    "        all_llm_results.append({\n",
    "            \"Subject\": subject_id,\n",
    "            \"Subject Condition\": condition,\n",
    "            \"LLM Prompt\": prompt,\n",
    "            \"LLM Output\": llm_response,\n",
    "            \"LLM Decision\": parsed,\n",
    "            \"Confidence\": confidence\n",
    "        })\n",
    "\n",
    "    except Exception as e:\n",
    "        print(f\"Failed for {subject_id}: {e}\")\n",
    "        all_llm_results.append({\n",
    "            \"Subject\": subject_id,\n",
    "            \"Subject Condition\": condition,\n",
    "            \"LLM Output\": f\"Exception: {e}\",\n",
    "            \"LLM Decision\": \"error\",\n",
    "            \"Confidence\": \"inconclusive\"\n",
    "        })\n"
   ]
  },
  {
   "cell_type": "code",
   "execution_count": null,
   "metadata": {
    "id": "iKQwZZzePUcp"
   },
   "outputs": [],
   "source": [
    "# Save results + accuracy\n",
    "results_df = pd.DataFrame(all_llm_results)\n",
    "results_df.to_csv(\"llm_subject_predictions_latest_neuropose.csv\", index=False)"
   ]
  },
  {
   "cell_type": "code",
   "execution_count": null,
   "metadata": {
    "colab": {
     "base_uri": "https://localhost:8080/",
     "height": 11422
    },
    "id": "CAwP6ss4PXpw",
    "outputId": "94a39824-baed-447e-aaf7-436b2c9beb2f"
   },
   "outputs": [
    {
     "data": {
      "application/vnd.google.colaboratory.intrinsic+json": {
       "summary": "{\n  \"name\": \"results_df\",\n  \"rows\": 50,\n  \"fields\": [\n    {\n      \"column\": \"Subject\",\n      \"properties\": {\n        \"dtype\": \"string\",\n        \"num_unique_values\": 50,\n        \"samples\": [\n          \"trial4_Healthy\",\n          \"trial10_MCI\",\n          \"trial15_MCI\"\n        ],\n        \"semantic_type\": \"\",\n        \"description\": \"\"\n      }\n    },\n    {\n      \"column\": \"Subject Condition\",\n      \"properties\": {\n        \"dtype\": \"category\",\n        \"num_unique_values\": 2,\n        \"samples\": [\n          \"MCI\",\n          \"Healthy\"\n        ],\n        \"semantic_type\": \"\",\n        \"description\": \"\"\n      }\n    },\n    {\n      \"column\": \"LLM Prompt\",\n      \"properties\": {\n        \"dtype\": \"string\",\n        \"num_unique_values\": 50,\n        \"samples\": [\n          \"\\nMultimodal Ontology Reference:\\nMild Cognitive Impairment (MCI) may manifest through a combination of cognitive and subtle motor irregularities. Interpret the subject's condition based on the following:\\n\\n- EEG markers:\\n  - Increased Theta power and decreased Alpha power, especially in frontal and parietal regions, are commonly associated with MCI.\\n  - Suppressed Beta activity may indicate cognitive slowing.\\n\\n- HRV markers:\\n  - Reduced heart rate variability (e.g., SDNN < 30 ms) is linked to decreased autonomic regulation and cognitive decline.\\n\\n- Gait (pose-derived) markers:\\n  - Healthy gait patterns exhibit wide joint movement ranges, smooth transitions, and consistent acceleration.\\n  - MCI-related gait changes may include reduced range of motion, higher jerk (abrupt changes in motion), and greater acceleration variability across joints, even without overt motor disability.\\n\\nDiagnostic Guidance:\\n- Classify as **MCI** if EEG and/or HRV features indicate cognitive dysfunction, especially when supported by mild motor irregularities.\\n- Classify as **Control** if all modalities are within normal patterns.\\n- Classify as **Needs clinical review** if findings are weak, borderline, or inconsistent.\\n\\nUse all three modalities in combination to support a holistic evaluation.\\n\\n\\nMultimodal Summary:\\nEEG Summary:\\nAlpha power is within healthy range.\\nTheta levels are normal.\\nTheta/Alpha ratio: 0.01\\nTheta/Beta ratio: 0.01\\n\\nHRV Summary:\\nHRV appears normal (SDNN = 35.00 ms).\\n\\nPose Summary:\\nhip mean = 0.03; hip std = 25.01; hip range = 82.21; hip acc std = 1656.01; hip jerk = 21195.68; knee mean = 0.04; knee std = 35.64; knee range = 109.46; knee acc std = 2163.30; knee jerk = 22347.83; ankle mean = 0.02; ankle std = 39.20; ankle range = 125.05; ankle acc std = 2362.25; ankle jerk = 23815.09; step length mean = 17.82; stride length mean = 17.62; cadence = 72.00\\n\\n\\nTask:\\nBased on the EEG, HRV, and Gait summaries provided above, assess the subject's cognitive-motor status.\\n\\nRespond using the following format:\\nConclusion: [MCI / Control / Needs clinical review]\\nExplanation: [Concise reasoning using any or all modalities]\\n\",\n          \"\\nMultimodal Ontology Reference:\\nMild Cognitive Impairment (MCI) may manifest through a combination of cognitive and subtle motor irregularities. Interpret the subject's condition based on the following:\\n\\n- EEG markers:\\n  - Increased Theta power and decreased Alpha power, especially in frontal and parietal regions, are commonly associated with MCI.\\n  - Suppressed Beta activity may indicate cognitive slowing.\\n\\n- HRV markers:\\n  - Reduced heart rate variability (e.g., SDNN < 30 ms) is linked to decreased autonomic regulation and cognitive decline.\\n\\n- Gait (pose-derived) markers:\\n  - Healthy gait patterns exhibit wide joint movement ranges, smooth transitions, and consistent acceleration.\\n  - MCI-related gait changes may include reduced range of motion, higher jerk (abrupt changes in motion), and greater acceleration variability across joints, even without overt motor disability.\\n\\nDiagnostic Guidance:\\n- Classify as **MCI** if EEG and/or HRV features indicate cognitive dysfunction, especially when supported by mild motor irregularities.\\n- Classify as **Control** if all modalities are within normal patterns.\\n- Classify as **Needs clinical review** if findings are weak, borderline, or inconsistent.\\n\\nUse all three modalities in combination to support a holistic evaluation.\\n\\n\\nMultimodal Summary:\\nEEG Summary:\\nAlpha power is globally reduced.\\nTheta levels are normal.\\nTheta/Alpha ratio: 3.23\\nTheta/Beta ratio: 0.72\\n\\nHRV Summary:\\nHRV suppression detected (SDNN = 12.35 ms).\\n\\nPose Summary:\\nhip mean = 0.08; hip std = 14.07; hip range = 58.40; hip acc std = 1687.88; hip jerk = 36463.62; knee mean = 0.07; knee std = 24.10; knee range = 84.49; knee acc std = 1811.27; knee jerk = 37583.39; ankle mean = 0.03; ankle std = 27.56; ankle range = 94.92; ankle acc std = 1837.08; ankle jerk = 37428.09; step length mean = 9.30; stride length mean = 8.71; cadence = 50.00\\n\\n\\nTask:\\nBased on the EEG, HRV, and Gait summaries provided above, assess the subject's cognitive-motor status.\\n\\nRespond using the following format:\\nConclusion: [MCI / Control / Needs clinical review]\\nExplanation: [Concise reasoning using any or all modalities]\\n\"\n        ],\n        \"semantic_type\": \"\",\n        \"description\": \"\"\n      }\n    },\n    {\n      \"column\": \"LLM Output\",\n      \"properties\": {\n        \"dtype\": \"string\",\n        \"num_unique_values\": 45,\n        \"samples\": [\n          \"Conclusion: MCI\\n\\nExplanation: The EEG summary indicates a globally reduced Alpha power, which is a marker commonly associated with MCI. Although Theta levels are normal, the elevated Theta/Alpha ratio (3.18) suggests a shift towards patterns seen in cognitive impairment. The HRV summary shows significant suppression (SDNN = 12.52 ms), indicating decreased autonomic regulation, which is linked to cognitive decline. The gait analysis reveals higher jerk and acceleration variability across joints, which are subtle motor irregularities consistent with MCI. These findings across EEG, HRV, and gait modalities collectively support a classification of MCI.\",\n          \"Conclusion: MCI\\n\\nExplanation: The EEG summary shows a globally reduced Alpha power, which is a marker associated with MCI, although Theta levels are normal. The Theta/Alpha ratio is elevated at 3.04, which can indicate cognitive dysfunction. The HRV summary shows significant suppression with an SDNN of 11.60 ms, indicating decreased autonomic regulation and potential cognitive decline. The gait analysis reveals high acceleration variability and jerk across joints, which are indicative of subtle motor irregularities associated with MCI. The combination of these EEG, HRV, and gait findings supports a classification of MCI.\"\n        ],\n        \"semantic_type\": \"\",\n        \"description\": \"\"\n      }\n    },\n    {\n      \"column\": \"LLM Decision\",\n      \"properties\": {\n        \"dtype\": \"category\",\n        \"num_unique_values\": 3,\n        \"samples\": [\n          \"Healthy\",\n          \"review\"\n        ],\n        \"semantic_type\": \"\",\n        \"description\": \"\"\n      }\n    },\n    {\n      \"column\": \"Confidence\",\n      \"properties\": {\n        \"dtype\": \"category\",\n        \"num_unique_values\": 1,\n        \"samples\": [\n          \"high\"\n        ],\n        \"semantic_type\": \"\",\n        \"description\": \"\"\n      }\n    }\n  ]\n}",
       "type": "dataframe",
       "variable_name": "results_df"
      },
      "text/html": [
       "\n",
       "  <div id=\"df-f45201d8-876d-483a-a2e8-36feb8254af2\" class=\"colab-df-container\">\n",
       "    <div>\n",
       "<style scoped>\n",
       "    .dataframe tbody tr th:only-of-type {\n",
       "        vertical-align: middle;\n",
       "    }\n",
       "\n",
       "    .dataframe tbody tr th {\n",
       "        vertical-align: top;\n",
       "    }\n",
       "\n",
       "    .dataframe thead th {\n",
       "        text-align: right;\n",
       "    }\n",
       "</style>\n",
       "<table border=\"1\" class=\"dataframe\">\n",
       "  <thead>\n",
       "    <tr style=\"text-align: right;\">\n",
       "      <th></th>\n",
       "      <th>Subject</th>\n",
       "      <th>Subject Condition</th>\n",
       "      <th>LLM Prompt</th>\n",
       "      <th>LLM Output</th>\n",
       "      <th>LLM Decision</th>\n",
       "      <th>Confidence</th>\n",
       "    </tr>\n",
       "  </thead>\n",
       "  <tbody>\n",
       "    <tr>\n",
       "      <th>0</th>\n",
       "      <td>trial1_Healthy</td>\n",
       "      <td>Healthy</td>\n",
       "      <td>\\nMultimodal Ontology Reference:\\nMild Cogniti...</td>\n",
       "      <td>Conclusion: Control\\n\\nExplanation: The EEG su...</td>\n",
       "      <td>Healthy</td>\n",
       "      <td>high</td>\n",
       "    </tr>\n",
       "    <tr>\n",
       "      <th>1</th>\n",
       "      <td>trial2_Healthy</td>\n",
       "      <td>Healthy</td>\n",
       "      <td>\\nMultimodal Ontology Reference:\\nMild Cogniti...</td>\n",
       "      <td>Conclusion: Control\\n\\nExplanation: The EEG su...</td>\n",
       "      <td>Healthy</td>\n",
       "      <td>high</td>\n",
       "    </tr>\n",
       "    <tr>\n",
       "      <th>2</th>\n",
       "      <td>trial7_Healthy</td>\n",
       "      <td>Healthy</td>\n",
       "      <td>\\nMultimodal Ontology Reference:\\nMild Cogniti...</td>\n",
       "      <td>Conclusion: Control\\n\\nExplanation: The EEG su...</td>\n",
       "      <td>Healthy</td>\n",
       "      <td>high</td>\n",
       "    </tr>\n",
       "    <tr>\n",
       "      <th>3</th>\n",
       "      <td>trial15_Healthy</td>\n",
       "      <td>Healthy</td>\n",
       "      <td>\\nMultimodal Ontology Reference:\\nMild Cogniti...</td>\n",
       "      <td>Conclusion: Control\\n\\nExplanation: The EEG su...</td>\n",
       "      <td>Healthy</td>\n",
       "      <td>high</td>\n",
       "    </tr>\n",
       "    <tr>\n",
       "      <th>4</th>\n",
       "      <td>trial14_Healthy</td>\n",
       "      <td>Healthy</td>\n",
       "      <td>\\nMultimodal Ontology Reference:\\nMild Cogniti...</td>\n",
       "      <td>Conclusion: Control\\n\\nExplanation: The EEG su...</td>\n",
       "      <td>Healthy</td>\n",
       "      <td>high</td>\n",
       "    </tr>\n",
       "    <tr>\n",
       "      <th>5</th>\n",
       "      <td>trial11_Healthy</td>\n",
       "      <td>Healthy</td>\n",
       "      <td>\\nMultimodal Ontology Reference:\\nMild Cogniti...</td>\n",
       "      <td>Conclusion: Control\\n\\nExplanation: The EEG su...</td>\n",
       "      <td>Healthy</td>\n",
       "      <td>high</td>\n",
       "    </tr>\n",
       "    <tr>\n",
       "      <th>6</th>\n",
       "      <td>trial6_Healthy</td>\n",
       "      <td>Healthy</td>\n",
       "      <td>\\nMultimodal Ontology Reference:\\nMild Cogniti...</td>\n",
       "      <td>Conclusion: Control\\n\\nExplanation: The EEG su...</td>\n",
       "      <td>Healthy</td>\n",
       "      <td>high</td>\n",
       "    </tr>\n",
       "    <tr>\n",
       "      <th>7</th>\n",
       "      <td>trial13_Healthy</td>\n",
       "      <td>Healthy</td>\n",
       "      <td>\\nMultimodal Ontology Reference:\\nMild Cogniti...</td>\n",
       "      <td>Conclusion: Needs clinical review\\n\\nExplanati...</td>\n",
       "      <td>review</td>\n",
       "      <td>high</td>\n",
       "    </tr>\n",
       "    <tr>\n",
       "      <th>8</th>\n",
       "      <td>trial9_Healthy</td>\n",
       "      <td>Healthy</td>\n",
       "      <td>\\nMultimodal Ontology Reference:\\nMild Cogniti...</td>\n",
       "      <td>Conclusion: Control\\n\\nExplanation: The EEG su...</td>\n",
       "      <td>Healthy</td>\n",
       "      <td>high</td>\n",
       "    </tr>\n",
       "    <tr>\n",
       "      <th>9</th>\n",
       "      <td>trial8_Healthy</td>\n",
       "      <td>Healthy</td>\n",
       "      <td>\\nMultimodal Ontology Reference:\\nMild Cogniti...</td>\n",
       "      <td>Conclusion: Control\\n\\nExplanation: The EEG su...</td>\n",
       "      <td>Healthy</td>\n",
       "      <td>high</td>\n",
       "    </tr>\n",
       "    <tr>\n",
       "      <th>10</th>\n",
       "      <td>trial3_Healthy</td>\n",
       "      <td>Healthy</td>\n",
       "      <td>\\nMultimodal Ontology Reference:\\nMild Cogniti...</td>\n",
       "      <td>Conclusion: Control\\n\\nExplanation: The EEG su...</td>\n",
       "      <td>Healthy</td>\n",
       "      <td>high</td>\n",
       "    </tr>\n",
       "    <tr>\n",
       "      <th>11</th>\n",
       "      <td>trial5_Healthy</td>\n",
       "      <td>Healthy</td>\n",
       "      <td>\\nMultimodal Ontology Reference:\\nMild Cogniti...</td>\n",
       "      <td>Conclusion: Control\\n\\nExplanation: The EEG su...</td>\n",
       "      <td>Healthy</td>\n",
       "      <td>high</td>\n",
       "    </tr>\n",
       "    <tr>\n",
       "      <th>12</th>\n",
       "      <td>trial12_Healthy</td>\n",
       "      <td>Healthy</td>\n",
       "      <td>\\nMultimodal Ontology Reference:\\nMild Cogniti...</td>\n",
       "      <td>Conclusion: Control\\n\\nExplanation: The EEG su...</td>\n",
       "      <td>Healthy</td>\n",
       "      <td>high</td>\n",
       "    </tr>\n",
       "    <tr>\n",
       "      <th>13</th>\n",
       "      <td>trial4_Healthy</td>\n",
       "      <td>Healthy</td>\n",
       "      <td>\\nMultimodal Ontology Reference:\\nMild Cogniti...</td>\n",
       "      <td>Conclusion: Control\\n\\nExplanation: The EEG su...</td>\n",
       "      <td>Healthy</td>\n",
       "      <td>high</td>\n",
       "    </tr>\n",
       "    <tr>\n",
       "      <th>14</th>\n",
       "      <td>trial10_Healthy</td>\n",
       "      <td>Healthy</td>\n",
       "      <td>\\nMultimodal Ontology Reference:\\nMild Cogniti...</td>\n",
       "      <td>Conclusion: Control\\n\\nExplanation: The EEG su...</td>\n",
       "      <td>Healthy</td>\n",
       "      <td>high</td>\n",
       "    </tr>\n",
       "    <tr>\n",
       "      <th>15</th>\n",
       "      <td>trial22_Healthy</td>\n",
       "      <td>Healthy</td>\n",
       "      <td>\\nMultimodal Ontology Reference:\\nMild Cogniti...</td>\n",
       "      <td>Conclusion: Needs clinical review\\n\\nExplanati...</td>\n",
       "      <td>review</td>\n",
       "      <td>high</td>\n",
       "    </tr>\n",
       "    <tr>\n",
       "      <th>16</th>\n",
       "      <td>trial25_Healthy</td>\n",
       "      <td>Healthy</td>\n",
       "      <td>\\nMultimodal Ontology Reference:\\nMild Cogniti...</td>\n",
       "      <td>Conclusion: Control\\n\\nExplanation: The EEG su...</td>\n",
       "      <td>Healthy</td>\n",
       "      <td>high</td>\n",
       "    </tr>\n",
       "    <tr>\n",
       "      <th>17</th>\n",
       "      <td>trial18_Healthy</td>\n",
       "      <td>Healthy</td>\n",
       "      <td>\\nMultimodal Ontology Reference:\\nMild Cogniti...</td>\n",
       "      <td>Conclusion: Needs clinical review\\n\\nExplanati...</td>\n",
       "      <td>review</td>\n",
       "      <td>high</td>\n",
       "    </tr>\n",
       "    <tr>\n",
       "      <th>18</th>\n",
       "      <td>trial16_Healthy</td>\n",
       "      <td>Healthy</td>\n",
       "      <td>\\nMultimodal Ontology Reference:\\nMild Cogniti...</td>\n",
       "      <td>Conclusion: Needs clinical review\\n\\nExplanati...</td>\n",
       "      <td>review</td>\n",
       "      <td>high</td>\n",
       "    </tr>\n",
       "    <tr>\n",
       "      <th>19</th>\n",
       "      <td>trial24_Healthy</td>\n",
       "      <td>Healthy</td>\n",
       "      <td>\\nMultimodal Ontology Reference:\\nMild Cogniti...</td>\n",
       "      <td>Conclusion: Control\\n\\nExplanation: The EEG su...</td>\n",
       "      <td>Healthy</td>\n",
       "      <td>high</td>\n",
       "    </tr>\n",
       "    <tr>\n",
       "      <th>20</th>\n",
       "      <td>trial23_Healthy</td>\n",
       "      <td>Healthy</td>\n",
       "      <td>\\nMultimodal Ontology Reference:\\nMild Cogniti...</td>\n",
       "      <td>Conclusion: Control\\n\\nExplanation: The EEG su...</td>\n",
       "      <td>Healthy</td>\n",
       "      <td>high</td>\n",
       "    </tr>\n",
       "    <tr>\n",
       "      <th>21</th>\n",
       "      <td>trial20_Healthy</td>\n",
       "      <td>Healthy</td>\n",
       "      <td>\\nMultimodal Ontology Reference:\\nMild Cogniti...</td>\n",
       "      <td>Conclusion: Control\\n\\nExplanation: The EEG su...</td>\n",
       "      <td>Healthy</td>\n",
       "      <td>high</td>\n",
       "    </tr>\n",
       "    <tr>\n",
       "      <th>22</th>\n",
       "      <td>trial21_Healthy</td>\n",
       "      <td>Healthy</td>\n",
       "      <td>\\nMultimodal Ontology Reference:\\nMild Cogniti...</td>\n",
       "      <td>Conclusion: Control\\n\\nExplanation: The EEG su...</td>\n",
       "      <td>Healthy</td>\n",
       "      <td>high</td>\n",
       "    </tr>\n",
       "    <tr>\n",
       "      <th>23</th>\n",
       "      <td>trial17_Healthy</td>\n",
       "      <td>Healthy</td>\n",
       "      <td>\\nMultimodal Ontology Reference:\\nMild Cogniti...</td>\n",
       "      <td>Conclusion: Control\\n\\nExplanation: The EEG su...</td>\n",
       "      <td>Healthy</td>\n",
       "      <td>high</td>\n",
       "    </tr>\n",
       "    <tr>\n",
       "      <th>24</th>\n",
       "      <td>trial19_Healthy</td>\n",
       "      <td>Healthy</td>\n",
       "      <td>\\nMultimodal Ontology Reference:\\nMild Cogniti...</td>\n",
       "      <td>Conclusion: Control\\n\\nExplanation: The EEG su...</td>\n",
       "      <td>Healthy</td>\n",
       "      <td>high</td>\n",
       "    </tr>\n",
       "    <tr>\n",
       "      <th>25</th>\n",
       "      <td>trial17_MCI</td>\n",
       "      <td>MCI</td>\n",
       "      <td>\\nMultimodal Ontology Reference:\\nMild Cogniti...</td>\n",
       "      <td>Conclusion: MCI\\n\\nExplanation: The EEG summar...</td>\n",
       "      <td>MCI</td>\n",
       "      <td>high</td>\n",
       "    </tr>\n",
       "    <tr>\n",
       "      <th>26</th>\n",
       "      <td>trial16_MCI</td>\n",
       "      <td>MCI</td>\n",
       "      <td>\\nMultimodal Ontology Reference:\\nMild Cogniti...</td>\n",
       "      <td>Conclusion: MCI\\n\\nExplanation: The EEG summar...</td>\n",
       "      <td>MCI</td>\n",
       "      <td>high</td>\n",
       "    </tr>\n",
       "    <tr>\n",
       "      <th>27</th>\n",
       "      <td>trial21_MCI</td>\n",
       "      <td>MCI</td>\n",
       "      <td>\\nMultimodal Ontology Reference:\\nMild Cogniti...</td>\n",
       "      <td>Conclusion: MCI\\n\\nExplanation: The EEG summar...</td>\n",
       "      <td>MCI</td>\n",
       "      <td>high</td>\n",
       "    </tr>\n",
       "    <tr>\n",
       "      <th>28</th>\n",
       "      <td>trial19_MCI</td>\n",
       "      <td>MCI</td>\n",
       "      <td>\\nMultimodal Ontology Reference:\\nMild Cogniti...</td>\n",
       "      <td>Conclusion: MCI\\n\\nExplanation: The EEG summar...</td>\n",
       "      <td>MCI</td>\n",
       "      <td>high</td>\n",
       "    </tr>\n",
       "    <tr>\n",
       "      <th>29</th>\n",
       "      <td>trial18_MCI</td>\n",
       "      <td>MCI</td>\n",
       "      <td>\\nMultimodal Ontology Reference:\\nMild Cogniti...</td>\n",
       "      <td>Conclusion: MCI\\n\\nExplanation: The EEG summar...</td>\n",
       "      <td>MCI</td>\n",
       "      <td>high</td>\n",
       "    </tr>\n",
       "    <tr>\n",
       "      <th>30</th>\n",
       "      <td>trial15_MCI</td>\n",
       "      <td>MCI</td>\n",
       "      <td>\\nMultimodal Ontology Reference:\\nMild Cogniti...</td>\n",
       "      <td>Conclusion: MCI\\n\\nExplanation: The EEG summar...</td>\n",
       "      <td>MCI</td>\n",
       "      <td>high</td>\n",
       "    </tr>\n",
       "    <tr>\n",
       "      <th>31</th>\n",
       "      <td>trial20_MCI</td>\n",
       "      <td>MCI</td>\n",
       "      <td>\\nMultimodal Ontology Reference:\\nMild Cogniti...</td>\n",
       "      <td>Conclusion: MCI\\n\\nExplanation: The EEG summar...</td>\n",
       "      <td>MCI</td>\n",
       "      <td>high</td>\n",
       "    </tr>\n",
       "    <tr>\n",
       "      <th>32</th>\n",
       "      <td>trial22_MCI</td>\n",
       "      <td>MCI</td>\n",
       "      <td>\\nMultimodal Ontology Reference:\\nMild Cogniti...</td>\n",
       "      <td>Conclusion: MCI\\n\\nExplanation: The EEG summar...</td>\n",
       "      <td>MCI</td>\n",
       "      <td>high</td>\n",
       "    </tr>\n",
       "    <tr>\n",
       "      <th>33</th>\n",
       "      <td>trial14_MCI</td>\n",
       "      <td>MCI</td>\n",
       "      <td>\\nMultimodal Ontology Reference:\\nMild Cogniti...</td>\n",
       "      <td>Conclusion: MCI\\n\\nExplanation: The EEG summar...</td>\n",
       "      <td>MCI</td>\n",
       "      <td>high</td>\n",
       "    </tr>\n",
       "    <tr>\n",
       "      <th>34</th>\n",
       "      <td>trial6_MCI</td>\n",
       "      <td>MCI</td>\n",
       "      <td>\\nMultimodal Ontology Reference:\\nMild Cogniti...</td>\n",
       "      <td>Conclusion: MCI\\n\\nExplanation: The EEG summar...</td>\n",
       "      <td>MCI</td>\n",
       "      <td>high</td>\n",
       "    </tr>\n",
       "    <tr>\n",
       "      <th>35</th>\n",
       "      <td>trial13_MCI</td>\n",
       "      <td>MCI</td>\n",
       "      <td>\\nMultimodal Ontology Reference:\\nMild Cogniti...</td>\n",
       "      <td>Conclusion: MCI\\n\\nExplanation: The EEG summar...</td>\n",
       "      <td>MCI</td>\n",
       "      <td>high</td>\n",
       "    </tr>\n",
       "    <tr>\n",
       "      <th>36</th>\n",
       "      <td>trial7_MCI</td>\n",
       "      <td>MCI</td>\n",
       "      <td>\\nMultimodal Ontology Reference:\\nMild Cogniti...</td>\n",
       "      <td>Conclusion: MCI\\n\\nExplanation: The EEG summar...</td>\n",
       "      <td>MCI</td>\n",
       "      <td>high</td>\n",
       "    </tr>\n",
       "    <tr>\n",
       "      <th>37</th>\n",
       "      <td>trial5_MCI</td>\n",
       "      <td>MCI</td>\n",
       "      <td>\\nMultimodal Ontology Reference:\\nMild Cogniti...</td>\n",
       "      <td>Conclusion: MCI\\n\\nExplanation: The EEG summar...</td>\n",
       "      <td>MCI</td>\n",
       "      <td>high</td>\n",
       "    </tr>\n",
       "    <tr>\n",
       "      <th>38</th>\n",
       "      <td>trial4_MCI</td>\n",
       "      <td>MCI</td>\n",
       "      <td>\\nMultimodal Ontology Reference:\\nMild Cogniti...</td>\n",
       "      <td>Conclusion: MCI\\n\\nExplanation: The EEG summar...</td>\n",
       "      <td>MCI</td>\n",
       "      <td>high</td>\n",
       "    </tr>\n",
       "    <tr>\n",
       "      <th>39</th>\n",
       "      <td>trial10_MCI</td>\n",
       "      <td>MCI</td>\n",
       "      <td>\\nMultimodal Ontology Reference:\\nMild Cogniti...</td>\n",
       "      <td>Conclusion: MCI\\n\\nExplanation: The EEG summar...</td>\n",
       "      <td>MCI</td>\n",
       "      <td>high</td>\n",
       "    </tr>\n",
       "    <tr>\n",
       "      <th>40</th>\n",
       "      <td>trial11_MCI</td>\n",
       "      <td>MCI</td>\n",
       "      <td>\\nMultimodal Ontology Reference:\\nMild Cogniti...</td>\n",
       "      <td>Conclusion: MCI\\n\\nExplanation: The EEG summar...</td>\n",
       "      <td>MCI</td>\n",
       "      <td>high</td>\n",
       "    </tr>\n",
       "    <tr>\n",
       "      <th>41</th>\n",
       "      <td>trial12_MCI</td>\n",
       "      <td>MCI</td>\n",
       "      <td>\\nMultimodal Ontology Reference:\\nMild Cogniti...</td>\n",
       "      <td>Conclusion: MCI\\n\\nExplanation: The EEG summar...</td>\n",
       "      <td>MCI</td>\n",
       "      <td>high</td>\n",
       "    </tr>\n",
       "    <tr>\n",
       "      <th>42</th>\n",
       "      <td>trial9_MCI</td>\n",
       "      <td>MCI</td>\n",
       "      <td>\\nMultimodal Ontology Reference:\\nMild Cogniti...</td>\n",
       "      <td>Conclusion: MCI\\n\\nExplanation: The EEG summar...</td>\n",
       "      <td>MCI</td>\n",
       "      <td>high</td>\n",
       "    </tr>\n",
       "    <tr>\n",
       "      <th>43</th>\n",
       "      <td>trial8_MCI</td>\n",
       "      <td>MCI</td>\n",
       "      <td>\\nMultimodal Ontology Reference:\\nMild Cogniti...</td>\n",
       "      <td>Conclusion: MCI\\n\\nExplanation: The EEG summar...</td>\n",
       "      <td>MCI</td>\n",
       "      <td>high</td>\n",
       "    </tr>\n",
       "    <tr>\n",
       "      <th>44</th>\n",
       "      <td>trial1_MCI</td>\n",
       "      <td>MCI</td>\n",
       "      <td>\\nMultimodal Ontology Reference:\\nMild Cogniti...</td>\n",
       "      <td>Conclusion: MCI\\n\\nExplanation: The EEG summar...</td>\n",
       "      <td>MCI</td>\n",
       "      <td>high</td>\n",
       "    </tr>\n",
       "    <tr>\n",
       "      <th>45</th>\n",
       "      <td>trial25_MCI</td>\n",
       "      <td>MCI</td>\n",
       "      <td>\\nMultimodal Ontology Reference:\\nMild Cogniti...</td>\n",
       "      <td>Conclusion: MCI\\n\\nExplanation: The EEG summar...</td>\n",
       "      <td>MCI</td>\n",
       "      <td>high</td>\n",
       "    </tr>\n",
       "    <tr>\n",
       "      <th>46</th>\n",
       "      <td>trial3_MCI</td>\n",
       "      <td>MCI</td>\n",
       "      <td>\\nMultimodal Ontology Reference:\\nMild Cogniti...</td>\n",
       "      <td>Conclusion: MCI\\n\\nExplanation: The EEG summar...</td>\n",
       "      <td>MCI</td>\n",
       "      <td>high</td>\n",
       "    </tr>\n",
       "    <tr>\n",
       "      <th>47</th>\n",
       "      <td>trial23_MCI</td>\n",
       "      <td>MCI</td>\n",
       "      <td>\\nMultimodal Ontology Reference:\\nMild Cogniti...</td>\n",
       "      <td>Conclusion: MCI\\n\\nExplanation: The EEG summar...</td>\n",
       "      <td>MCI</td>\n",
       "      <td>high</td>\n",
       "    </tr>\n",
       "    <tr>\n",
       "      <th>48</th>\n",
       "      <td>trial2_MCI</td>\n",
       "      <td>MCI</td>\n",
       "      <td>\\nMultimodal Ontology Reference:\\nMild Cogniti...</td>\n",
       "      <td>Conclusion: MCI\\n\\nExplanation: The EEG summar...</td>\n",
       "      <td>MCI</td>\n",
       "      <td>high</td>\n",
       "    </tr>\n",
       "    <tr>\n",
       "      <th>49</th>\n",
       "      <td>trial24_MCI</td>\n",
       "      <td>MCI</td>\n",
       "      <td>\\nMultimodal Ontology Reference:\\nMild Cogniti...</td>\n",
       "      <td>Conclusion: MCI\\n\\nExplanation: The EEG summar...</td>\n",
       "      <td>MCI</td>\n",
       "      <td>high</td>\n",
       "    </tr>\n",
       "  </tbody>\n",
       "</table>\n",
       "</div>\n",
       "    <div class=\"colab-df-buttons\">\n",
       "\n",
       "  <div class=\"colab-df-container\">\n",
       "    <button class=\"colab-df-convert\" onclick=\"convertToInteractive('df-f45201d8-876d-483a-a2e8-36feb8254af2')\"\n",
       "            title=\"Convert this dataframe to an interactive table.\"\n",
       "            style=\"display:none;\">\n",
       "\n",
       "  <svg xmlns=\"http://www.w3.org/2000/svg\" height=\"24px\" viewBox=\"0 -960 960 960\">\n",
       "    <path d=\"M120-120v-720h720v720H120Zm60-500h600v-160H180v160Zm220 220h160v-160H400v160Zm0 220h160v-160H400v160ZM180-400h160v-160H180v160Zm440 0h160v-160H620v160ZM180-180h160v-160H180v160Zm440 0h160v-160H620v160Z\"/>\n",
       "  </svg>\n",
       "    </button>\n",
       "\n",
       "  <style>\n",
       "    .colab-df-container {\n",
       "      display:flex;\n",
       "      gap: 12px;\n",
       "    }\n",
       "\n",
       "    .colab-df-convert {\n",
       "      background-color: #E8F0FE;\n",
       "      border: none;\n",
       "      border-radius: 50%;\n",
       "      cursor: pointer;\n",
       "      display: none;\n",
       "      fill: #1967D2;\n",
       "      height: 32px;\n",
       "      padding: 0 0 0 0;\n",
       "      width: 32px;\n",
       "    }\n",
       "\n",
       "    .colab-df-convert:hover {\n",
       "      background-color: #E2EBFA;\n",
       "      box-shadow: 0px 1px 2px rgba(60, 64, 67, 0.3), 0px 1px 3px 1px rgba(60, 64, 67, 0.15);\n",
       "      fill: #174EA6;\n",
       "    }\n",
       "\n",
       "    .colab-df-buttons div {\n",
       "      margin-bottom: 4px;\n",
       "    }\n",
       "\n",
       "    [theme=dark] .colab-df-convert {\n",
       "      background-color: #3B4455;\n",
       "      fill: #D2E3FC;\n",
       "    }\n",
       "\n",
       "    [theme=dark] .colab-df-convert:hover {\n",
       "      background-color: #434B5C;\n",
       "      box-shadow: 0px 1px 3px 1px rgba(0, 0, 0, 0.15);\n",
       "      filter: drop-shadow(0px 1px 2px rgba(0, 0, 0, 0.3));\n",
       "      fill: #FFFFFF;\n",
       "    }\n",
       "  </style>\n",
       "\n",
       "    <script>\n",
       "      const buttonEl =\n",
       "        document.querySelector('#df-f45201d8-876d-483a-a2e8-36feb8254af2 button.colab-df-convert');\n",
       "      buttonEl.style.display =\n",
       "        google.colab.kernel.accessAllowed ? 'block' : 'none';\n",
       "\n",
       "      async function convertToInteractive(key) {\n",
       "        const element = document.querySelector('#df-f45201d8-876d-483a-a2e8-36feb8254af2');\n",
       "        const dataTable =\n",
       "          await google.colab.kernel.invokeFunction('convertToInteractive',\n",
       "                                                    [key], {});\n",
       "        if (!dataTable) return;\n",
       "\n",
       "        const docLinkHtml = 'Like what you see? Visit the ' +\n",
       "          '<a target=\"_blank\" href=https://colab.research.google.com/notebooks/data_table.ipynb>data table notebook</a>'\n",
       "          + ' to learn more about interactive tables.';\n",
       "        element.innerHTML = '';\n",
       "        dataTable['output_type'] = 'display_data';\n",
       "        await google.colab.output.renderOutput(dataTable, element);\n",
       "        const docLink = document.createElement('div');\n",
       "        docLink.innerHTML = docLinkHtml;\n",
       "        element.appendChild(docLink);\n",
       "      }\n",
       "    </script>\n",
       "  </div>\n",
       "\n",
       "\n",
       "    <div id=\"df-75ea8d79-2742-46fe-822b-60c6eb4a935f\">\n",
       "      <button class=\"colab-df-quickchart\" onclick=\"quickchart('df-75ea8d79-2742-46fe-822b-60c6eb4a935f')\"\n",
       "                title=\"Suggest charts\"\n",
       "                style=\"display:none;\">\n",
       "\n",
       "<svg xmlns=\"http://www.w3.org/2000/svg\" height=\"24px\"viewBox=\"0 0 24 24\"\n",
       "     width=\"24px\">\n",
       "    <g>\n",
       "        <path d=\"M19 3H5c-1.1 0-2 .9-2 2v14c0 1.1.9 2 2 2h14c1.1 0 2-.9 2-2V5c0-1.1-.9-2-2-2zM9 17H7v-7h2v7zm4 0h-2V7h2v10zm4 0h-2v-4h2v4z\"/>\n",
       "    </g>\n",
       "</svg>\n",
       "      </button>\n",
       "\n",
       "<style>\n",
       "  .colab-df-quickchart {\n",
       "      --bg-color: #E8F0FE;\n",
       "      --fill-color: #1967D2;\n",
       "      --hover-bg-color: #E2EBFA;\n",
       "      --hover-fill-color: #174EA6;\n",
       "      --disabled-fill-color: #AAA;\n",
       "      --disabled-bg-color: #DDD;\n",
       "  }\n",
       "\n",
       "  [theme=dark] .colab-df-quickchart {\n",
       "      --bg-color: #3B4455;\n",
       "      --fill-color: #D2E3FC;\n",
       "      --hover-bg-color: #434B5C;\n",
       "      --hover-fill-color: #FFFFFF;\n",
       "      --disabled-bg-color: #3B4455;\n",
       "      --disabled-fill-color: #666;\n",
       "  }\n",
       "\n",
       "  .colab-df-quickchart {\n",
       "    background-color: var(--bg-color);\n",
       "    border: none;\n",
       "    border-radius: 50%;\n",
       "    cursor: pointer;\n",
       "    display: none;\n",
       "    fill: var(--fill-color);\n",
       "    height: 32px;\n",
       "    padding: 0;\n",
       "    width: 32px;\n",
       "  }\n",
       "\n",
       "  .colab-df-quickchart:hover {\n",
       "    background-color: var(--hover-bg-color);\n",
       "    box-shadow: 0 1px 2px rgba(60, 64, 67, 0.3), 0 1px 3px 1px rgba(60, 64, 67, 0.15);\n",
       "    fill: var(--button-hover-fill-color);\n",
       "  }\n",
       "\n",
       "  .colab-df-quickchart-complete:disabled,\n",
       "  .colab-df-quickchart-complete:disabled:hover {\n",
       "    background-color: var(--disabled-bg-color);\n",
       "    fill: var(--disabled-fill-color);\n",
       "    box-shadow: none;\n",
       "  }\n",
       "\n",
       "  .colab-df-spinner {\n",
       "    border: 2px solid var(--fill-color);\n",
       "    border-color: transparent;\n",
       "    border-bottom-color: var(--fill-color);\n",
       "    animation:\n",
       "      spin 1s steps(1) infinite;\n",
       "  }\n",
       "\n",
       "  @keyframes spin {\n",
       "    0% {\n",
       "      border-color: transparent;\n",
       "      border-bottom-color: var(--fill-color);\n",
       "      border-left-color: var(--fill-color);\n",
       "    }\n",
       "    20% {\n",
       "      border-color: transparent;\n",
       "      border-left-color: var(--fill-color);\n",
       "      border-top-color: var(--fill-color);\n",
       "    }\n",
       "    30% {\n",
       "      border-color: transparent;\n",
       "      border-left-color: var(--fill-color);\n",
       "      border-top-color: var(--fill-color);\n",
       "      border-right-color: var(--fill-color);\n",
       "    }\n",
       "    40% {\n",
       "      border-color: transparent;\n",
       "      border-right-color: var(--fill-color);\n",
       "      border-top-color: var(--fill-color);\n",
       "    }\n",
       "    60% {\n",
       "      border-color: transparent;\n",
       "      border-right-color: var(--fill-color);\n",
       "    }\n",
       "    80% {\n",
       "      border-color: transparent;\n",
       "      border-right-color: var(--fill-color);\n",
       "      border-bottom-color: var(--fill-color);\n",
       "    }\n",
       "    90% {\n",
       "      border-color: transparent;\n",
       "      border-bottom-color: var(--fill-color);\n",
       "    }\n",
       "  }\n",
       "</style>\n",
       "\n",
       "      <script>\n",
       "        async function quickchart(key) {\n",
       "          const quickchartButtonEl =\n",
       "            document.querySelector('#' + key + ' button');\n",
       "          quickchartButtonEl.disabled = true;  // To prevent multiple clicks.\n",
       "          quickchartButtonEl.classList.add('colab-df-spinner');\n",
       "          try {\n",
       "            const charts = await google.colab.kernel.invokeFunction(\n",
       "                'suggestCharts', [key], {});\n",
       "          } catch (error) {\n",
       "            console.error('Error during call to suggestCharts:', error);\n",
       "          }\n",
       "          quickchartButtonEl.classList.remove('colab-df-spinner');\n",
       "          quickchartButtonEl.classList.add('colab-df-quickchart-complete');\n",
       "        }\n",
       "        (() => {\n",
       "          let quickchartButtonEl =\n",
       "            document.querySelector('#df-75ea8d79-2742-46fe-822b-60c6eb4a935f button');\n",
       "          quickchartButtonEl.style.display =\n",
       "            google.colab.kernel.accessAllowed ? 'block' : 'none';\n",
       "        })();\n",
       "      </script>\n",
       "    </div>\n",
       "\n",
       "  <div id=\"id_f70c907f-b3e7-438c-86d7-65cf5e9de3ab\">\n",
       "    <style>\n",
       "      .colab-df-generate {\n",
       "        background-color: #E8F0FE;\n",
       "        border: none;\n",
       "        border-radius: 50%;\n",
       "        cursor: pointer;\n",
       "        display: none;\n",
       "        fill: #1967D2;\n",
       "        height: 32px;\n",
       "        padding: 0 0 0 0;\n",
       "        width: 32px;\n",
       "      }\n",
       "\n",
       "      .colab-df-generate:hover {\n",
       "        background-color: #E2EBFA;\n",
       "        box-shadow: 0px 1px 2px rgba(60, 64, 67, 0.3), 0px 1px 3px 1px rgba(60, 64, 67, 0.15);\n",
       "        fill: #174EA6;\n",
       "      }\n",
       "\n",
       "      [theme=dark] .colab-df-generate {\n",
       "        background-color: #3B4455;\n",
       "        fill: #D2E3FC;\n",
       "      }\n",
       "\n",
       "      [theme=dark] .colab-df-generate:hover {\n",
       "        background-color: #434B5C;\n",
       "        box-shadow: 0px 1px 3px 1px rgba(0, 0, 0, 0.15);\n",
       "        filter: drop-shadow(0px 1px 2px rgba(0, 0, 0, 0.3));\n",
       "        fill: #FFFFFF;\n",
       "      }\n",
       "    </style>\n",
       "    <button class=\"colab-df-generate\" onclick=\"generateWithVariable('results_df')\"\n",
       "            title=\"Generate code using this dataframe.\"\n",
       "            style=\"display:none;\">\n",
       "\n",
       "  <svg xmlns=\"http://www.w3.org/2000/svg\" height=\"24px\"viewBox=\"0 0 24 24\"\n",
       "       width=\"24px\">\n",
       "    <path d=\"M7,19H8.4L18.45,9,17,7.55,7,17.6ZM5,21V16.75L18.45,3.32a2,2,0,0,1,2.83,0l1.4,1.43a1.91,1.91,0,0,1,.58,1.4,1.91,1.91,0,0,1-.58,1.4L9.25,21ZM18.45,9,17,7.55Zm-12,3A5.31,5.31,0,0,0,4.9,8.1,5.31,5.31,0,0,0,1,6.5,5.31,5.31,0,0,0,4.9,4.9,5.31,5.31,0,0,0,6.5,1,5.31,5.31,0,0,0,8.1,4.9,5.31,5.31,0,0,0,12,6.5,5.46,5.46,0,0,0,6.5,12Z\"/>\n",
       "  </svg>\n",
       "    </button>\n",
       "    <script>\n",
       "      (() => {\n",
       "      const buttonEl =\n",
       "        document.querySelector('#id_f70c907f-b3e7-438c-86d7-65cf5e9de3ab button.colab-df-generate');\n",
       "      buttonEl.style.display =\n",
       "        google.colab.kernel.accessAllowed ? 'block' : 'none';\n",
       "\n",
       "      buttonEl.onclick = () => {\n",
       "        google.colab.notebook.generateWithVariable('results_df');\n",
       "      }\n",
       "      })();\n",
       "    </script>\n",
       "  </div>\n",
       "\n",
       "    </div>\n",
       "  </div>\n"
      ],
      "text/plain": [
       "            Subject Subject Condition  \\\n",
       "0    trial1_Healthy           Healthy   \n",
       "1    trial2_Healthy           Healthy   \n",
       "2    trial7_Healthy           Healthy   \n",
       "3   trial15_Healthy           Healthy   \n",
       "4   trial14_Healthy           Healthy   \n",
       "5   trial11_Healthy           Healthy   \n",
       "6    trial6_Healthy           Healthy   \n",
       "7   trial13_Healthy           Healthy   \n",
       "8    trial9_Healthy           Healthy   \n",
       "9    trial8_Healthy           Healthy   \n",
       "10   trial3_Healthy           Healthy   \n",
       "11   trial5_Healthy           Healthy   \n",
       "12  trial12_Healthy           Healthy   \n",
       "13   trial4_Healthy           Healthy   \n",
       "14  trial10_Healthy           Healthy   \n",
       "15  trial22_Healthy           Healthy   \n",
       "16  trial25_Healthy           Healthy   \n",
       "17  trial18_Healthy           Healthy   \n",
       "18  trial16_Healthy           Healthy   \n",
       "19  trial24_Healthy           Healthy   \n",
       "20  trial23_Healthy           Healthy   \n",
       "21  trial20_Healthy           Healthy   \n",
       "22  trial21_Healthy           Healthy   \n",
       "23  trial17_Healthy           Healthy   \n",
       "24  trial19_Healthy           Healthy   \n",
       "25      trial17_MCI               MCI   \n",
       "26      trial16_MCI               MCI   \n",
       "27      trial21_MCI               MCI   \n",
       "28      trial19_MCI               MCI   \n",
       "29      trial18_MCI               MCI   \n",
       "30      trial15_MCI               MCI   \n",
       "31      trial20_MCI               MCI   \n",
       "32      trial22_MCI               MCI   \n",
       "33      trial14_MCI               MCI   \n",
       "34       trial6_MCI               MCI   \n",
       "35      trial13_MCI               MCI   \n",
       "36       trial7_MCI               MCI   \n",
       "37       trial5_MCI               MCI   \n",
       "38       trial4_MCI               MCI   \n",
       "39      trial10_MCI               MCI   \n",
       "40      trial11_MCI               MCI   \n",
       "41      trial12_MCI               MCI   \n",
       "42       trial9_MCI               MCI   \n",
       "43       trial8_MCI               MCI   \n",
       "44       trial1_MCI               MCI   \n",
       "45      trial25_MCI               MCI   \n",
       "46       trial3_MCI               MCI   \n",
       "47      trial23_MCI               MCI   \n",
       "48       trial2_MCI               MCI   \n",
       "49      trial24_MCI               MCI   \n",
       "\n",
       "                                           LLM Prompt  \\\n",
       "0   \\nMultimodal Ontology Reference:\\nMild Cogniti...   \n",
       "1   \\nMultimodal Ontology Reference:\\nMild Cogniti...   \n",
       "2   \\nMultimodal Ontology Reference:\\nMild Cogniti...   \n",
       "3   \\nMultimodal Ontology Reference:\\nMild Cogniti...   \n",
       "4   \\nMultimodal Ontology Reference:\\nMild Cogniti...   \n",
       "5   \\nMultimodal Ontology Reference:\\nMild Cogniti...   \n",
       "6   \\nMultimodal Ontology Reference:\\nMild Cogniti...   \n",
       "7   \\nMultimodal Ontology Reference:\\nMild Cogniti...   \n",
       "8   \\nMultimodal Ontology Reference:\\nMild Cogniti...   \n",
       "9   \\nMultimodal Ontology Reference:\\nMild Cogniti...   \n",
       "10  \\nMultimodal Ontology Reference:\\nMild Cogniti...   \n",
       "11  \\nMultimodal Ontology Reference:\\nMild Cogniti...   \n",
       "12  \\nMultimodal Ontology Reference:\\nMild Cogniti...   \n",
       "13  \\nMultimodal Ontology Reference:\\nMild Cogniti...   \n",
       "14  \\nMultimodal Ontology Reference:\\nMild Cogniti...   \n",
       "15  \\nMultimodal Ontology Reference:\\nMild Cogniti...   \n",
       "16  \\nMultimodal Ontology Reference:\\nMild Cogniti...   \n",
       "17  \\nMultimodal Ontology Reference:\\nMild Cogniti...   \n",
       "18  \\nMultimodal Ontology Reference:\\nMild Cogniti...   \n",
       "19  \\nMultimodal Ontology Reference:\\nMild Cogniti...   \n",
       "20  \\nMultimodal Ontology Reference:\\nMild Cogniti...   \n",
       "21  \\nMultimodal Ontology Reference:\\nMild Cogniti...   \n",
       "22  \\nMultimodal Ontology Reference:\\nMild Cogniti...   \n",
       "23  \\nMultimodal Ontology Reference:\\nMild Cogniti...   \n",
       "24  \\nMultimodal Ontology Reference:\\nMild Cogniti...   \n",
       "25  \\nMultimodal Ontology Reference:\\nMild Cogniti...   \n",
       "26  \\nMultimodal Ontology Reference:\\nMild Cogniti...   \n",
       "27  \\nMultimodal Ontology Reference:\\nMild Cogniti...   \n",
       "28  \\nMultimodal Ontology Reference:\\nMild Cogniti...   \n",
       "29  \\nMultimodal Ontology Reference:\\nMild Cogniti...   \n",
       "30  \\nMultimodal Ontology Reference:\\nMild Cogniti...   \n",
       "31  \\nMultimodal Ontology Reference:\\nMild Cogniti...   \n",
       "32  \\nMultimodal Ontology Reference:\\nMild Cogniti...   \n",
       "33  \\nMultimodal Ontology Reference:\\nMild Cogniti...   \n",
       "34  \\nMultimodal Ontology Reference:\\nMild Cogniti...   \n",
       "35  \\nMultimodal Ontology Reference:\\nMild Cogniti...   \n",
       "36  \\nMultimodal Ontology Reference:\\nMild Cogniti...   \n",
       "37  \\nMultimodal Ontology Reference:\\nMild Cogniti...   \n",
       "38  \\nMultimodal Ontology Reference:\\nMild Cogniti...   \n",
       "39  \\nMultimodal Ontology Reference:\\nMild Cogniti...   \n",
       "40  \\nMultimodal Ontology Reference:\\nMild Cogniti...   \n",
       "41  \\nMultimodal Ontology Reference:\\nMild Cogniti...   \n",
       "42  \\nMultimodal Ontology Reference:\\nMild Cogniti...   \n",
       "43  \\nMultimodal Ontology Reference:\\nMild Cogniti...   \n",
       "44  \\nMultimodal Ontology Reference:\\nMild Cogniti...   \n",
       "45  \\nMultimodal Ontology Reference:\\nMild Cogniti...   \n",
       "46  \\nMultimodal Ontology Reference:\\nMild Cogniti...   \n",
       "47  \\nMultimodal Ontology Reference:\\nMild Cogniti...   \n",
       "48  \\nMultimodal Ontology Reference:\\nMild Cogniti...   \n",
       "49  \\nMultimodal Ontology Reference:\\nMild Cogniti...   \n",
       "\n",
       "                                           LLM Output LLM Decision Confidence  \n",
       "0   Conclusion: Control\\n\\nExplanation: The EEG su...      Healthy       high  \n",
       "1   Conclusion: Control\\n\\nExplanation: The EEG su...      Healthy       high  \n",
       "2   Conclusion: Control\\n\\nExplanation: The EEG su...      Healthy       high  \n",
       "3   Conclusion: Control\\n\\nExplanation: The EEG su...      Healthy       high  \n",
       "4   Conclusion: Control\\n\\nExplanation: The EEG su...      Healthy       high  \n",
       "5   Conclusion: Control\\n\\nExplanation: The EEG su...      Healthy       high  \n",
       "6   Conclusion: Control\\n\\nExplanation: The EEG su...      Healthy       high  \n",
       "7   Conclusion: Needs clinical review\\n\\nExplanati...       review       high  \n",
       "8   Conclusion: Control\\n\\nExplanation: The EEG su...      Healthy       high  \n",
       "9   Conclusion: Control\\n\\nExplanation: The EEG su...      Healthy       high  \n",
       "10  Conclusion: Control\\n\\nExplanation: The EEG su...      Healthy       high  \n",
       "11  Conclusion: Control\\n\\nExplanation: The EEG su...      Healthy       high  \n",
       "12  Conclusion: Control\\n\\nExplanation: The EEG su...      Healthy       high  \n",
       "13  Conclusion: Control\\n\\nExplanation: The EEG su...      Healthy       high  \n",
       "14  Conclusion: Control\\n\\nExplanation: The EEG su...      Healthy       high  \n",
       "15  Conclusion: Needs clinical review\\n\\nExplanati...       review       high  \n",
       "16  Conclusion: Control\\n\\nExplanation: The EEG su...      Healthy       high  \n",
       "17  Conclusion: Needs clinical review\\n\\nExplanati...       review       high  \n",
       "18  Conclusion: Needs clinical review\\n\\nExplanati...       review       high  \n",
       "19  Conclusion: Control\\n\\nExplanation: The EEG su...      Healthy       high  \n",
       "20  Conclusion: Control\\n\\nExplanation: The EEG su...      Healthy       high  \n",
       "21  Conclusion: Control\\n\\nExplanation: The EEG su...      Healthy       high  \n",
       "22  Conclusion: Control\\n\\nExplanation: The EEG su...      Healthy       high  \n",
       "23  Conclusion: Control\\n\\nExplanation: The EEG su...      Healthy       high  \n",
       "24  Conclusion: Control\\n\\nExplanation: The EEG su...      Healthy       high  \n",
       "25  Conclusion: MCI\\n\\nExplanation: The EEG summar...          MCI       high  \n",
       "26  Conclusion: MCI\\n\\nExplanation: The EEG summar...          MCI       high  \n",
       "27  Conclusion: MCI\\n\\nExplanation: The EEG summar...          MCI       high  \n",
       "28  Conclusion: MCI\\n\\nExplanation: The EEG summar...          MCI       high  \n",
       "29  Conclusion: MCI\\n\\nExplanation: The EEG summar...          MCI       high  \n",
       "30  Conclusion: MCI\\n\\nExplanation: The EEG summar...          MCI       high  \n",
       "31  Conclusion: MCI\\n\\nExplanation: The EEG summar...          MCI       high  \n",
       "32  Conclusion: MCI\\n\\nExplanation: The EEG summar...          MCI       high  \n",
       "33  Conclusion: MCI\\n\\nExplanation: The EEG summar...          MCI       high  \n",
       "34  Conclusion: MCI\\n\\nExplanation: The EEG summar...          MCI       high  \n",
       "35  Conclusion: MCI\\n\\nExplanation: The EEG summar...          MCI       high  \n",
       "36  Conclusion: MCI\\n\\nExplanation: The EEG summar...          MCI       high  \n",
       "37  Conclusion: MCI\\n\\nExplanation: The EEG summar...          MCI       high  \n",
       "38  Conclusion: MCI\\n\\nExplanation: The EEG summar...          MCI       high  \n",
       "39  Conclusion: MCI\\n\\nExplanation: The EEG summar...          MCI       high  \n",
       "40  Conclusion: MCI\\n\\nExplanation: The EEG summar...          MCI       high  \n",
       "41  Conclusion: MCI\\n\\nExplanation: The EEG summar...          MCI       high  \n",
       "42  Conclusion: MCI\\n\\nExplanation: The EEG summar...          MCI       high  \n",
       "43  Conclusion: MCI\\n\\nExplanation: The EEG summar...          MCI       high  \n",
       "44  Conclusion: MCI\\n\\nExplanation: The EEG summar...          MCI       high  \n",
       "45  Conclusion: MCI\\n\\nExplanation: The EEG summar...          MCI       high  \n",
       "46  Conclusion: MCI\\n\\nExplanation: The EEG summar...          MCI       high  \n",
       "47  Conclusion: MCI\\n\\nExplanation: The EEG summar...          MCI       high  \n",
       "48  Conclusion: MCI\\n\\nExplanation: The EEG summar...          MCI       high  \n",
       "49  Conclusion: MCI\\n\\nExplanation: The EEG summar...          MCI       high  "
      ]
     },
     "execution_count": 187,
     "metadata": {},
     "output_type": "execute_result"
    }
   ],
   "source": [
    "results_df"
   ]
  },
  {
   "cell_type": "markdown",
   "metadata": {
    "id": "Ws4J6PIxtVaL"
   },
   "source": [
    "# Results"
   ]
  },
  {
   "cell_type": "code",
   "execution_count": null,
   "metadata": {
    "id": "MR9RGGBxaKuK"
   },
   "outputs": [],
   "source": [
    "for entry in all_llm_results:\n",
    "    parsed = categorize_llm_response(entry[\"LLM Output\"])\n",
    "    entry[\"LLM Decision\"] = parsed[\"decision\"]\n",
    "    entry[\"Confidence\"] = parsed[\"confidence\"]"
   ]
  },
  {
   "cell_type": "code",
   "execution_count": null,
   "metadata": {
    "colab": {
     "base_uri": "https://localhost:8080/"
    },
    "id": "WcKBn_4-aNhI",
    "outputId": "49085a01-f300-4f7a-ef58-80339ff15285"
   },
   "outputs": [
    {
     "data": {
      "text/plain": [
       "Counter({('Healthy', 'Healthy', 'high'): 21,\n",
       "         ('Healthy', 'Needs clinical review', 'high'): 4,\n",
       "         ('MCI', 'MCI', 'high'): 25})"
      ]
     },
     "execution_count": 189,
     "metadata": {},
     "output_type": "execute_result"
    }
   ],
   "source": [
    "from collections import Counter\n",
    "\n",
    "Counter((entry[\"Subject Condition\"], entry[\"LLM Decision\"], entry[\"Confidence\"]) for entry in all_llm_results)"
   ]
  },
  {
   "cell_type": "markdown",
   "metadata": {
    "id": "uWj6CmYSt6TT"
   },
   "source": [
    "## Confusion Matrix"
   ]
  },
  {
   "cell_type": "code",
   "execution_count": 13,
   "metadata": {
    "colab": {
     "base_uri": "https://localhost:8080/",
     "height": 607
    },
    "id": "fJXhLq8euLxn",
    "outputId": "babbbd9b-913a-4974-d3a0-0b79593f538f"
   },
   "outputs": [
    {
     "data": {
      "image/png": "[encoded data removed]",
      "text/plain": [
       "<Figure size 700x600 with 2 Axes>"
      ]
     },
     "metadata": {},
     "output_type": "display_data"
    }
   ],
   "source": [
    "import pandas as pd\n",
    "import seaborn as sns\n",
    "import matplotlib.pyplot as plt\n",
    "from sklearn.metrics import confusion_matrix, classification_report\n",
    "\n",
    "# Load your results file\n",
    "\n",
    "df = pd.read_csv(\"llm_subject_predictions_latest_neuropose.csv\")\n",
    "\n",
    "# Normalize labels\n",
    "df[\"Subject Condition\"] = df[\"Subject Condition\"].str.strip().str.capitalize()\n",
    "df[\"LLM Decision\"] = df[\"LLM Decision\"].replace(\"Needs clinical review\", \"Uncertain\").str.strip().str.capitalize()\n",
    "\n",
    "# Define labels and compute confusion matrix\n",
    "labels = [\"Healthy\", \"Mci\", \"Uncertain\"]\n",
    "y_true = df[\"Subject Condition\"]\n",
    "y_pred = df[\"LLM Decision\"]\n",
    "\n",
    "# 1. Normalized Confusion Matrix\n",
    "cm = confusion_matrix(y_true, y_pred, labels=labels, normalize='true')\n",
    "plt.figure(figsize=(7, 6))\n",
    "sns.heatmap(cm, annot=True, fmt=\".2f\", cmap=\"Purples\", xticklabels=labels, yticklabels=labels)\n",
    "plt.xlabel(\"Predicted\")\n",
    "plt.ylabel(\"True Label\")\n",
    "plt.title(\"LLM-Based Triage Confusion Matrix (3-Class Normalized)\")\n",
    "plt.tight_layout()\n",
    "plt.show()\n"
   ]
  },
  {
   "cell_type": "code",
   "execution_count": 14,
   "metadata": {
    "colab": {
     "base_uri": "https://localhost:8080/"
    },
    "id": "Lb6TCa26t2sb",
    "outputId": "fd57ad72-cbda-4916-d076-806ce0479fb6"
   },
   "outputs": [
    {
     "name": "stdout",
     "output_type": "stream",
     "text": [
      "Overall Accuracy: 0.92\n"
     ]
    }
   ],
   "source": [
    "from sklearn.metrics import accuracy_score\n",
    "\n",
    "overall_acc = accuracy_score(y_true, y_pred)\n",
    "print(f\"Overall Accuracy: {overall_acc:.2f}\")\n"
   ]
  },
  {
   "cell_type": "markdown",
   "metadata": {
    "id": "gubQUQ4WuT1a"
   },
   "source": [
    "## Classification Report"
   ]
  },
  {
   "cell_type": "code",
   "execution_count": 15,
   "metadata": {
    "colab": {
     "base_uri": "https://localhost:8080/",
     "height": 206
    },
    "id": "M-uTCAFruVUA",
    "outputId": "7f05e35a-26cc-4a3f-b049-e4100fe71eec"
   },
   "outputs": [
    {
     "data": {
      "text/html": [
       "<div>\n",
       "<style scoped>\n",
       "    .dataframe tbody tr th:only-of-type {\n",
       "        vertical-align: middle;\n",
       "    }\n",
       "\n",
       "    .dataframe tbody tr th {\n",
       "        vertical-align: top;\n",
       "    }\n",
       "\n",
       "    .dataframe thead th {\n",
       "        text-align: right;\n",
       "    }\n",
       "</style>\n",
       "<table border=\"1\" class=\"dataframe\">\n",
       "  <thead>\n",
       "    <tr style=\"text-align: right;\">\n",
       "      <th></th>\n",
       "      <th>precision</th>\n",
       "      <th>recall</th>\n",
       "      <th>f1-score</th>\n",
       "      <th>support</th>\n",
       "    </tr>\n",
       "  </thead>\n",
       "  <tbody>\n",
       "    <tr>\n",
       "      <th>Healthy</th>\n",
       "      <td>1.0</td>\n",
       "      <td>0.84</td>\n",
       "      <td>0.913043</td>\n",
       "      <td>25.0</td>\n",
       "    </tr>\n",
       "    <tr>\n",
       "      <th>Mci</th>\n",
       "      <td>1.0</td>\n",
       "      <td>1.00</td>\n",
       "      <td>1.000000</td>\n",
       "      <td>25.0</td>\n",
       "    </tr>\n",
       "    <tr>\n",
       "      <th>micro avg</th>\n",
       "      <td>1.0</td>\n",
       "      <td>0.92</td>\n",
       "      <td>0.958333</td>\n",
       "      <td>50.0</td>\n",
       "    </tr>\n",
       "    <tr>\n",
       "      <th>macro avg</th>\n",
       "      <td>1.0</td>\n",
       "      <td>0.92</td>\n",
       "      <td>0.956522</td>\n",
       "      <td>50.0</td>\n",
       "    </tr>\n",
       "    <tr>\n",
       "      <th>weighted avg</th>\n",
       "      <td>1.0</td>\n",
       "      <td>0.92</td>\n",
       "      <td>0.956522</td>\n",
       "      <td>50.0</td>\n",
       "    </tr>\n",
       "  </tbody>\n",
       "</table>\n",
       "</div>"
      ],
      "text/plain": [
       "              precision  recall  f1-score  support\n",
       "Healthy             1.0    0.84  0.913043     25.0\n",
       "Mci                 1.0    1.00  1.000000     25.0\n",
       "micro avg           1.0    0.92  0.958333     50.0\n",
       "macro avg           1.0    0.92  0.956522     50.0\n",
       "weighted avg        1.0    0.92  0.956522     50.0"
      ]
     },
     "metadata": {},
     "output_type": "display_data"
    }
   ],
   "source": [
    "# 2. Classification Report (Healthy vs MCI only)\n",
    "binary_report = classification_report(\n",
    "    y_true, y_pred, labels=[\"Healthy\", \"Mci\"], output_dict=True, zero_division=0\n",
    ")\n",
    "binary_df = pd.DataFrame(binary_report).transpose()\n",
    "display(binary_df)"
   ]
  },
  {
   "cell_type": "markdown",
   "metadata": {
    "id": "jMIvi9hJvZ57"
   },
   "source": [
    "## Decision Distribution Chart"
   ]
  },
  {
   "cell_type": "code",
   "execution_count": null,
   "metadata": {
    "colab": {
     "base_uri": "https://localhost:8080/",
     "height": 407
    },
    "id": "--QyXkLruXAV",
    "outputId": "652f2e5b-5767-4e71-c09a-69a36bc0341c"
   },
   "outputs": [
    {
     "data": {
      "image/png": "[encoded data removed]",
      "text/plain": [
       "<Figure size 600x400 with 1 Axes>"
      ]
     },
     "metadata": {},
     "output_type": "display_data"
    }
   ],
   "source": [
    "# 3. Decision Distribution Chart\n",
    "decision_counts = df[\"LLM Decision\"].value_counts().reindex(labels, fill_value=0)\n",
    "\n",
    "plt.figure(figsize=(6, 4))\n",
    "sns.barplot(\n",
    "    x=decision_counts.index,\n",
    "    y=decision_counts.values,\n",
    "    hue=decision_counts.index,\n",
    "    palette=\"mako\",\n",
    "    legend=False\n",
    ")\n",
    "plt.ylabel(\"Count\")\n",
    "plt.title(\"LLM Decision Distribution\")\n",
    "plt.tight_layout()\n",
    "plt.show()\n"
   ]
  }
 ],
 "metadata": {
  "colab": {
   "provenance": []
  },
  "kernelspec": {
   "display_name": ".venv",
   "language": "python",
   "name": "python3"
  },
  "language_info": {
   "codemirror_mode": {
    "name": "ipython",
    "version": 3
   },
   "file_extension": ".py",
   "mimetype": "text/x-python",
   "name": "python",
   "nbconvert_exporter": "python",
   "pygments_lexer": "ipython3",
   "version": "3.10.4"
  }
 },
 "nbformat": 4,
 "nbformat_minor": 0
}
