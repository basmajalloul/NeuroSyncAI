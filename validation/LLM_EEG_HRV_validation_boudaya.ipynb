{
  "cells": [
    {
      "cell_type": "markdown",
      "metadata": {
        "id": "dKcAHJeFtcF3"
      },
      "source": [
        "# Anomalies Extraction Functions"
      ]
    },
    {
      "cell_type": "code",
      "execution_count": null,
      "metadata": {
        "id": "7bMgHMriT7KL"
      },
      "outputs": [],
      "source": [
        "from scipy.signal import welch\n",
        "from scipy.stats import zscore\n",
        "import numpy as np\n",
        "\n",
        "def eeg_band_anomaly_detector(eeg_df, sampling_rate=128, window_sec=2, clustering_gap=3, alpha_thresh=0.2, beta_thresh=0.2):\n",
        "    \"\"\"\n",
        "    Detects EEG anomalies using both:\n",
        "    - Local ratio-based suppression (per window, per channel)\n",
        "    - Global z-score suppression (per subject, per band)\n",
        "    \"\"\"\n",
        "    if 'Timestamp' not in eeg_df.columns:\n",
        "        raise ValueError(\"Expected 'Timestamp' column in EEG data.\")\n",
        "\n",
        "    eeg_channels = eeg_df.select_dtypes(include=['number']).columns.difference(['Timestamp'])\n",
        "    window_size = sampling_rate * window_sec\n",
        "    total_samples = len(eeg_df)\n",
        "    num_windows = total_samples // window_size\n",
        "\n",
        "    # Store all band powers\n",
        "    band_powers = {ch: {'theta': [], 'alpha': [], 'beta': []} for ch in eeg_channels}\n",
        "    window_times = []\n",
        "\n",
        "    for w in range(num_windows):\n",
        "        start = w * window_size\n",
        "        end = start + window_size\n",
        "        segment = eeg_df.iloc[start:end]\n",
        "        if len(segment) < window_size:\n",
        "            continue\n",
        "\n",
        "        mean_time = eeg_df['Timestamp'].iloc[start:end].mean()\n",
        "        window_times.append(mean_time)\n",
        "\n",
        "        for ch in eeg_channels:\n",
        "            freqs, psd = welch(segment[ch], fs=sampling_rate, nperseg=window_size)\n",
        "            theta = np.trapezoid(psd[(freqs >= 4) & (freqs < 8)])\n",
        "            alpha = np.trapezoid(psd[(freqs >= 8) & (freqs < 12)])\n",
        "            beta = np.trapezoid(psd[(freqs >= 13) & (freqs < 30)])\n",
        "\n",
        "            band_powers[ch]['theta'].append(theta)\n",
        "            band_powers[ch]['alpha'].append(alpha)\n",
        "            band_powers[ch]['beta'].append(beta)\n",
        "\n",
        "    # -------------------------------\n",
        "    # 1Local ratio-based detection\n",
        "    # -------------------------------\n",
        "    anomalies = []\n",
        "    for ch in eeg_channels:\n",
        "        for i, time in enumerate(window_times):\n",
        "            theta = band_powers[ch]['theta'][i]\n",
        "            alpha = band_powers[ch]['alpha'][i]\n",
        "            beta = band_powers[ch]['beta'][i]\n",
        "            total = theta + alpha + beta\n",
        "\n",
        "            if total == 0:\n",
        "                continue  # skip empty windows\n",
        "\n",
        "            alpha_ratio = alpha / total\n",
        "            beta_ratio = beta / total\n",
        "\n",
        "            if alpha_ratio < alpha_thresh:\n",
        "                anomalies.append(f\"Low alpha ratio in {ch} at {time:.2f}s (ratio = {alpha_ratio:.2f})\")\n",
        "            if beta_ratio < beta_thresh:\n",
        "                anomalies.append(f\"Low beta ratio in {ch} at {time:.2f}s (ratio = {beta_ratio:.2f})\")\n",
        "\n",
        "    # -------------------------------\n",
        "    # Z-score suppression detection\n",
        "    # -------------------------------\n",
        "    for band in ['alpha', 'beta']:\n",
        "        band_means = [np.mean(band_powers[ch][band]) for ch in eeg_channels]\n",
        "        band_zscores = zscore(band_means)\n",
        "\n",
        "        for ch, z in zip(eeg_channels, band_zscores):\n",
        "            if z < -1.5:\n",
        "                label = \"Suppressed Alpha\" if band == \"alpha\" else \"Suppressed Beta\"\n",
        "                anomalies.append(f\"{label} globally in {ch} (z = {z:.2f})\")\n",
        "\n",
        "    return anomalies if anomalies else [\"No significant EEG band anomalies detected.\"]"
      ]
    },
    {
      "cell_type": "code",
      "execution_count": null,
      "metadata": {
        "id": "2gSu-AkBT-xo"
      },
      "outputs": [],
      "source": [
        "def detect_hrv_suppression(hrv_df, suppression_threshold=30):\n",
        "    \"\"\"\n",
        "    Detects HRV suppression using SDNN.\n",
        "    Prints out SDNN value for inspection.\n",
        "    \"\"\"\n",
        "    if 'Timestamp' not in hrv_df.columns:\n",
        "        raise ValueError(\"Expected 'Timestamp' column in HRV data.\")\n",
        "\n",
        "    if 'HR [bpm]' not in hrv_df.columns:\n",
        "        raise ValueError(\"Expected 'HR [bpm]' column in HRV data.\")\n",
        "\n",
        "    rr_intervals = 60000 / hrv_df['HR [bpm]']\n",
        "    sdnn = np.std(rr_intervals)\n",
        "\n",
        "    print(f\"\\n[HRV] SDNN = {sdnn:.2f} ms — {'Suppressed' if sdnn < suppression_threshold else 'Normal'}\")\n",
        "\n",
        "    if sdnn < suppression_threshold:\n",
        "        return f\"HRV suppression detected (SDNN = {sdnn:.2f}ms, below {suppression_threshold}ms threshold).\"\n",
        "    else:\n",
        "        return f\"No significant HRV suppression detected (SDNN = {sdnn:.2f}ms).\""
      ]
    },
    {
      "cell_type": "code",
      "execution_count": null,
      "metadata": {
        "id": "Gphp8VrQS5El"
      },
      "outputs": [],
      "source": [
        "def generate_full_cognitive_summary(eeg_df, hrv_df):\n",
        "    eeg_anomalies = eeg_band_anomaly_detector(eeg_df)\n",
        "    hrv_result = detect_hrv_suppression(hrv_df)\n",
        "    return {\n",
        "        \"EEG Anomalies\": eeg_anomalies,\n",
        "        \"HRV Analysis\": hrv_result\n",
        "    }"
      ]
    },
    {
      "cell_type": "markdown",
      "metadata": {
        "id": "VTXPRAGGtkDJ"
      },
      "source": [
        "# LLM Setup"
      ]
    },
    {
      "cell_type": "code",
      "execution_count": null,
      "metadata": {
        "id": "4FqFAG_nbN82"
      },
      "outputs": [],
      "source": [
        "from openai import OpenAI\n",
        "from google.colab import userdata\n",
        "\n",
        "client = OpenAI(api_key=userdata.get('OPENAI_API_KEY'))\n",
        "\n",
        "def call_llm_api(prompt):\n",
        "    response = client.chat.completions.create(\n",
        "        model=\"gpt-4o\",\n",
        "        messages=[\n",
        "            {\"role\": \"system\", \"content\": \"You are a clinical assistant analyzing EEG and HRV patterns for MCI detection.\"},\n",
        "            {\"role\": \"user\", \"content\": prompt}\n",
        "        ],\n",
        "        max_tokens=700,\n",
        "        temperature=0.0\n",
        "    )\n",
        "    return response.choices[0].message.content\n"
      ]
    },
    {
      "cell_type": "code",
      "execution_count": null,
      "metadata": {
        "id": "wdPNQyouHxap"
      },
      "outputs": [],
      "source": [
        "def parse_llm_output_flexible(text):\n",
        "    text = str(text).lower()\n",
        "    if \"needs clinical review\" in text:\n",
        "        return \"review\"\n",
        "    elif \"conclusion: yes\" in text:\n",
        "        return \"MCI\"\n",
        "    elif \"conclusion: no\" in text:\n",
        "        return \"Healthy\"\n",
        "    return \"review\""
      ]
    },
    {
      "cell_type": "code",
      "execution_count": null,
      "metadata": {
        "id": "AgqogbRaFk_5"
      },
      "outputs": [],
      "source": [
        "def build_llm_prompt_with_ontology(eeg_anomalies, hrv_summary_text):\n",
        "    ontology_reference = \"\"\"\n",
        "Ontology Reference:\n",
        "- Persistent increases in Theta band power and decreases in Alpha band power are associated with Mild Cognitive Impairment (MCI).\n",
        "- Suppressed Beta activity can suggest cognitive slowing.\n",
        "- HRV suppression (SDNN < 30 ms) may reflect reduced autonomic flexibility associated with cognitive decline.\n",
        "\n",
        "Diagnosis Guidance:\n",
        "A case may be considered consistent with MCI if **either** of the following apply:\n",
        "  1. At least two features are clearly present:\n",
        "     - Alpha suppression (especially in multiple frontal/parietal regions)\n",
        "     - HRV suppression (SDNN < 30 ms)\n",
        "     - Theta elevation or Beta suppression\n",
        "  2. A **single strong EEG feature** (e.g., widespread alpha suppression or beta disorganization) is clearly present **along with HRV suppression**\n",
        "\n",
        "Important:\n",
        "- Mild or isolated findings — even across two features — should not lead to MCI diagnosis.\n",
        "- Look for strength, regional consistency, and convergence of features.\n",
        "- If the evidence is unclear, mild, or partial, defer the case for clinical review.\n",
        "\n",
        "Numerical summaries such as number of affected channels and average ratio values help assess strength.\n",
        "\"\"\"\n",
        "\n",
        "    task_instruction = \"\"\"\n",
        "Task:\n",
        "Analyze the EEG and HRV summaries using the ontology above.\n",
        "Then respond with a final classification in the following format:\n",
        "\n",
        "Conclusion: [Yes / No / Needs clinical review]\n",
        "Explanation: [Brief justification for the decision]\n",
        "\n",
        "Use this logic:\n",
        "- Respond **\"Yes\"** if there is strong evidence for MCI under either rule above\n",
        "- Respond **\"No\"** if the subject clearly lacks sufficient abnormality\n",
        "- Respond **\"Needs clinical review\"** if findings are borderline, ambiguous, or weak\n",
        "\"\"\"\n",
        "\n",
        "    eeg_summary = sorted(\n",
        "        [a for a in eeg_anomalies if \"alpha\" in a.lower() or \"beta\" in a.lower()],\n",
        "        key=lambda x: float(re.search(r\"ratio\\s*=\\s*([\\d.]+)\", x).group(1)) if \"ratio =\" in x else 1.0\n",
        "    )[:7]\n",
        "    eeg_text = \"\\n\".join(eeg_summary)\n",
        "\n",
        "    return f\"{ontology_reference}\\n\\nEEG Summary:\\n{eeg_text}\\n\\nHRV Summary:\\n{hrv_summary_text}\\n\\n{task_instruction}\"\n"
      ]
    },
    {
      "cell_type": "markdown",
      "metadata": {
        "id": "YFdR0NC_tnKE"
      },
      "source": [
        "# Classification"
      ]
    },
    {
      "cell_type": "code",
      "execution_count": null,
      "metadata": {
        "id": "D737Iz2vYobl"
      },
      "outputs": [],
      "source": [
        "import os\n",
        "import pandas as pd\n",
        "from tqdm import tqdm\n",
        "\n",
        "# Paths\n",
        "EEG_DIR = \"data/mci_dataset/EEG\"\n",
        "HRV_DIR = \"data/mci_dataset/HRV\"\n",
        "\n",
        "# True labels\n",
        "TRUE_LABELS = {\n",
        "    \"subject_0_394\": 0,\n",
        "    \"subject_0_399\": 0,\n",
        "    \"subject_0_462\": 0,\n",
        "    \"subject_0_463\": 0,\n",
        "    \"subject_0_468\": 0,\n",
        "    \"subject_0_475\": 0,\n",
        "    \"subject_0_476\": 0,\n",
        "    \"subject_1_397\": 1,\n",
        "    \"subject_1_455\": 1,\n",
        "    \"subject_1_456\": 1,\n",
        "    \"subject_1_457\": 1,\n",
        "    \"subject_1_459\": 1,\n",
        "    \"subject_1_461\": 1,\n",
        "    \"subject_1_464\": 1,\n",
        "    \"subject_1_467\": 1\n",
        "}"
      ]
    },
    {
      "cell_type": "code",
      "execution_count": null,
      "metadata": {
        "colab": {
          "base_uri": "https://localhost:8080/"
        },
        "id": "UBt4bkMIZuf8",
        "outputId": "8262d7db-0bc5-48ba-a332-9da25a757c2b"
      },
      "outputs": [
        {
          "name": "stderr",
          "output_type": "stream",
          "text": [
            "\r  0%|          | 0/15 [00:00<?, ?it/s]"
          ]
        },
        {
          "name": "stdout",
          "output_type": "stream",
          "text": [
            "\n",
            "[HRV] SDNN = 60.74 ms — Normal\n"
          ]
        },
        {
          "name": "stderr",
          "output_type": "stream",
          "text": [
            "\r  7%|▋         | 1/15 [00:05<01:17,  5.52s/it]"
          ]
        },
        {
          "name": "stdout",
          "output_type": "stream",
          "text": [
            "\n",
            "[HRV] SDNN = 54.35 ms — Normal\n"
          ]
        },
        {
          "name": "stderr",
          "output_type": "stream",
          "text": [
            "\r 13%|█▎        | 2/15 [00:10<01:09,  5.38s/it]"
          ]
        },
        {
          "name": "stdout",
          "output_type": "stream",
          "text": [
            "\n",
            "[HRV] SDNN = 70.78 ms — Normal\n"
          ]
        },
        {
          "name": "stderr",
          "output_type": "stream",
          "text": [
            "\r 20%|██        | 3/15 [00:15<01:02,  5.24s/it]"
          ]
        },
        {
          "name": "stdout",
          "output_type": "stream",
          "text": [
            "\n",
            "[HRV] SDNN = 28.49 ms — Suppressed\n"
          ]
        },
        {
          "name": "stderr",
          "output_type": "stream",
          "text": [
            "\r 27%|██▋       | 4/15 [00:19<00:50,  4.60s/it]"
          ]
        },
        {
          "name": "stdout",
          "output_type": "stream",
          "text": [
            "\n",
            "[HRV] SDNN = 65.70 ms — Normal\n"
          ]
        },
        {
          "name": "stderr",
          "output_type": "stream",
          "text": [
            "\r 33%|███▎      | 5/15 [00:24<00:47,  4.78s/it]"
          ]
        },
        {
          "name": "stdout",
          "output_type": "stream",
          "text": [
            "\n",
            "[HRV] SDNN = 34.49 ms — Normal\n"
          ]
        },
        {
          "name": "stderr",
          "output_type": "stream",
          "text": [
            "\r 40%|████      | 6/15 [00:30<00:46,  5.16s/it]"
          ]
        },
        {
          "name": "stdout",
          "output_type": "stream",
          "text": [
            "\n",
            "[HRV] SDNN = 36.61 ms — Normal\n"
          ]
        },
        {
          "name": "stderr",
          "output_type": "stream",
          "text": [
            "\r 47%|████▋     | 7/15 [00:34<00:38,  4.78s/it]"
          ]
        },
        {
          "name": "stdout",
          "output_type": "stream",
          "text": [
            "\n",
            "[HRV] SDNN = 41.39 ms — Normal\n"
          ]
        },
        {
          "name": "stderr",
          "output_type": "stream",
          "text": [
            "\r 53%|█████▎    | 8/15 [00:39<00:34,  4.98s/it]"
          ]
        },
        {
          "name": "stdout",
          "output_type": "stream",
          "text": [
            "\n",
            "[HRV] SDNN = 23.77 ms — Suppressed\n"
          ]
        },
        {
          "name": "stderr",
          "output_type": "stream",
          "text": [
            "\r 60%|██████    | 9/15 [00:44<00:28,  4.80s/it]"
          ]
        },
        {
          "name": "stdout",
          "output_type": "stream",
          "text": [
            "\n",
            "[HRV] SDNN = 20.55 ms — Suppressed\n"
          ]
        },
        {
          "name": "stderr",
          "output_type": "stream",
          "text": [
            "\r 67%|██████▋   | 10/15 [00:48<00:23,  4.64s/it]"
          ]
        },
        {
          "name": "stdout",
          "output_type": "stream",
          "text": [
            "\n",
            "[HRV] SDNN = 25.03 ms — Suppressed\n"
          ]
        },
        {
          "name": "stderr",
          "output_type": "stream",
          "text": [
            "\r 73%|███████▎  | 11/15 [00:52<00:18,  4.51s/it]"
          ]
        },
        {
          "name": "stdout",
          "output_type": "stream",
          "text": [
            "\n",
            "[HRV] SDNN = 28.56 ms — Suppressed\n"
          ]
        },
        {
          "name": "stderr",
          "output_type": "stream",
          "text": [
            "\r 80%|████████  | 12/15 [00:57<00:13,  4.54s/it]"
          ]
        },
        {
          "name": "stdout",
          "output_type": "stream",
          "text": [
            "\n",
            "[HRV] SDNN = 24.81 ms — Suppressed\n"
          ]
        },
        {
          "name": "stderr",
          "output_type": "stream",
          "text": [
            "\r 87%|████████▋ | 13/15 [01:02<00:09,  4.61s/it]"
          ]
        },
        {
          "name": "stdout",
          "output_type": "stream",
          "text": [
            "\n",
            "[HRV] SDNN = 27.69 ms — Suppressed\n"
          ]
        },
        {
          "name": "stderr",
          "output_type": "stream",
          "text": [
            "\r 93%|█████████▎| 14/15 [01:06<00:04,  4.38s/it]"
          ]
        },
        {
          "name": "stdout",
          "output_type": "stream",
          "text": [
            "\n",
            "[HRV] SDNN = 27.87 ms — Suppressed\n"
          ]
        },
        {
          "name": "stderr",
          "output_type": "stream",
          "text": [
            "100%|██████████| 15/15 [01:10<00:00,  4.72s/it]\n"
          ]
        }
      ],
      "source": [
        "all_llm_results = []\n",
        "\n",
        "for subject_id, condition in tqdm(TRUE_LABELS.items()):\n",
        "    eeg_file = os.path.join(EEG_DIR, f\"{subject_id}_with_timestamp.csv\")\n",
        "    hrv_file = os.path.join(HRV_DIR, f\"{subject_id}_HRV_with_timestamp.csv\")\n",
        "\n",
        "    try:\n",
        "        eeg_df = pd.read_csv(eeg_file)\n",
        "        hrv_df = pd.read_csv(hrv_file)\n",
        "\n",
        "        # Run anomaly detection\n",
        "        eeg_anomalies = eeg_band_anomaly_detector(eeg_df)\n",
        "        hrv_summary_text = detect_hrv_suppression(hrv_df)\n",
        "\n",
        "        # Build LLM prompt\n",
        "        prompt = build_llm_prompt_with_ontology(eeg_anomalies, hrv_summary_text)\n",
        "\n",
        "        # Call the LLM\n",
        "        llm_response = call_llm_api(prompt)\n",
        "\n",
        "        # Parse LLM output (THIS IS WHERE YOU USE IT)\n",
        "        parsed_decision = parse_llm_output_flexible(llm_response)\n",
        "\n",
        "        # Store result\n",
        "        all_llm_results.append({\n",
        "            \"Subject\": subject_id,\n",
        "            \"Subject Condition\": \"MCI\" if condition == 1 else \"Healthy\",\n",
        "            \"LLM Output\": llm_response,\n",
        "            \"LLM Decision\": parsed_decision\n",
        "        })\n",
        "\n",
        "    except Exception as e:\n",
        "        print(f\"Error with {subject_id}: {e}\")\n",
        "        all_llm_results.append({\n",
        "            \"Subject\": subject_id,\n",
        "            \"Subject Condition\": \"MCI\" if condition == 1 else \"Healthy\",\n",
        "            \"LLM Output\": f\"Exception: {e}\",\n",
        "            \"LLM Decision\": \"error\"\n",
        "        })"
      ]
    },
    {
      "cell_type": "code",
      "execution_count": null,
      "metadata": {
        "id": "iKQwZZzePUcp"
      },
      "outputs": [],
      "source": [
        "# Save results + accuracy\n",
        "results_df = pd.DataFrame(all_llm_results)\n",
        "results_df.to_csv(\"llm_subject_predictions_eeg_hrv.csv\", index=False)"
      ]
    },
    {
      "cell_type": "code",
      "execution_count": null,
      "metadata": {
        "colab": {
          "base_uri": "https://localhost:8080/",
          "height": 991
        },
        "id": "CAwP6ss4PXpw",
        "outputId": "f875f1a8-d2af-47c9-f713-744985dfa5d4"
      },
      "outputs": [
        {
          "data": {
            "application/vnd.google.colaboratory.intrinsic+json": {
              "summary": "{\n  \"name\": \"results_df\",\n  \"rows\": 15,\n  \"fields\": [\n    {\n      \"column\": \"Subject\",\n      \"properties\": {\n        \"dtype\": \"string\",\n        \"num_unique_values\": 15,\n        \"samples\": [\n          \"subject_1_456\",\n          \"subject_1_459\",\n          \"subject_0_394\"\n        ],\n        \"semantic_type\": \"\",\n        \"description\": \"\"\n      }\n    },\n    {\n      \"column\": \"Subject Condition\",\n      \"properties\": {\n        \"dtype\": \"category\",\n        \"num_unique_values\": 2,\n        \"samples\": [\n          \"MCI\",\n          \"Healthy\"\n        ],\n        \"semantic_type\": \"\",\n        \"description\": \"\"\n      }\n    },\n    {\n      \"column\": \"LLM Output\",\n      \"properties\": {\n        \"dtype\": \"string\",\n        \"num_unique_values\": 15,\n        \"samples\": [\n          \"Conclusion: Yes  \\nExplanation: The case shows strong evidence for MCI. There is widespread alpha suppression across multiple regions (EEG.F8, EEG.FC5, EEG.P7, EEG.T7) and HRV suppression (SDNN = 20.55ms). This satisfies the second diagnostic rule, where a single strong EEG feature (widespread alpha suppression) is present along with HRV suppression.\",\n          \"Conclusion: Yes  \\nExplanation: The case presents with strong evidence for MCI. There is widespread beta suppression across multiple EEG channels (EEG.AF3, EEG.F3, EEG.P7, EEG.T7, EEG.AF4, EEG.F4, EEG.F7) with very low beta ratios, indicating significant beta disorganization. Additionally, HRV suppression is present with an SDNN of 28.56 ms, which is below the 30 ms threshold. This combination of a single strong EEG feature (widespread beta suppression) along with HRV suppression meets the criteria for MCI diagnosis.\"\n        ],\n        \"semantic_type\": \"\",\n        \"description\": \"\"\n      }\n    },\n    {\n      \"column\": \"LLM Decision\",\n      \"properties\": {\n        \"dtype\": \"category\",\n        \"num_unique_values\": 3,\n        \"samples\": [\n          \"Healthy\",\n          \"MCI\"\n        ],\n        \"semantic_type\": \"\",\n        \"description\": \"\"\n      }\n    }\n  ]\n}",
              "type": "dataframe",
              "variable_name": "results_df"
            },
            "text/html": [
              "\n",
              "  <div id=\"df-979804bf-1526-441e-ba3e-be1ed1088422\" class=\"colab-df-container\">\n",
              "    <div>\n",
              "<style scoped>\n",
              "    .dataframe tbody tr th:only-of-type {\n",
              "        vertical-align: middle;\n",
              "    }\n",
              "\n",
              "    .dataframe tbody tr th {\n",
              "        vertical-align: top;\n",
              "    }\n",
              "\n",
              "    .dataframe thead th {\n",
              "        text-align: right;\n",
              "    }\n",
              "</style>\n",
              "<table border=\"1\" class=\"dataframe\">\n",
              "  <thead>\n",
              "    <tr style=\"text-align: right;\">\n",
              "      <th></th>\n",
              "      <th>Subject</th>\n",
              "      <th>Subject Condition</th>\n",
              "      <th>LLM Output</th>\n",
              "      <th>LLM Decision</th>\n",
              "    </tr>\n",
              "  </thead>\n",
              "  <tbody>\n",
              "    <tr>\n",
              "      <th>0</th>\n",
              "      <td>subject_0_394</td>\n",
              "      <td>Healthy</td>\n",
              "      <td>Conclusion: No  \\nExplanation: The EEG summary...</td>\n",
              "      <td>Healthy</td>\n",
              "    </tr>\n",
              "    <tr>\n",
              "      <th>1</th>\n",
              "      <td>subject_0_399</td>\n",
              "      <td>Healthy</td>\n",
              "      <td>Conclusion: No  \\nExplanation: The EEG summary...</td>\n",
              "      <td>Healthy</td>\n",
              "    </tr>\n",
              "    <tr>\n",
              "      <th>2</th>\n",
              "      <td>subject_0_462</td>\n",
              "      <td>Healthy</td>\n",
              "      <td>Conclusion: No\\n\\nExplanation: The EEG summary...</td>\n",
              "      <td>Healthy</td>\n",
              "    </tr>\n",
              "    <tr>\n",
              "      <th>3</th>\n",
              "      <td>subject_0_463</td>\n",
              "      <td>Healthy</td>\n",
              "      <td>Conclusion: Yes  \\nExplanation: The case prese...</td>\n",
              "      <td>MCI</td>\n",
              "    </tr>\n",
              "    <tr>\n",
              "      <th>4</th>\n",
              "      <td>subject_0_468</td>\n",
              "      <td>Healthy</td>\n",
              "      <td>Conclusion: No  \\nExplanation: The EEG summary...</td>\n",
              "      <td>Healthy</td>\n",
              "    </tr>\n",
              "    <tr>\n",
              "      <th>5</th>\n",
              "      <td>subject_0_475</td>\n",
              "      <td>Healthy</td>\n",
              "      <td>Conclusion: Needs clinical review\\n\\nExplanati...</td>\n",
              "      <td>review</td>\n",
              "    </tr>\n",
              "    <tr>\n",
              "      <th>6</th>\n",
              "      <td>subject_0_476</td>\n",
              "      <td>Healthy</td>\n",
              "      <td>Conclusion: No\\n\\nExplanation: The EEG summary...</td>\n",
              "      <td>Healthy</td>\n",
              "    </tr>\n",
              "    <tr>\n",
              "      <th>7</th>\n",
              "      <td>subject_1_397</td>\n",
              "      <td>MCI</td>\n",
              "      <td>Conclusion: Needs clinical review\\n\\nExplanati...</td>\n",
              "      <td>review</td>\n",
              "    </tr>\n",
              "    <tr>\n",
              "      <th>8</th>\n",
              "      <td>subject_1_455</td>\n",
              "      <td>MCI</td>\n",
              "      <td>Conclusion: Yes  \\nExplanation: The case shows...</td>\n",
              "      <td>MCI</td>\n",
              "    </tr>\n",
              "    <tr>\n",
              "      <th>9</th>\n",
              "      <td>subject_1_456</td>\n",
              "      <td>MCI</td>\n",
              "      <td>Conclusion: Yes  \\nExplanation: The case shows...</td>\n",
              "      <td>MCI</td>\n",
              "    </tr>\n",
              "    <tr>\n",
              "      <th>10</th>\n",
              "      <td>subject_1_457</td>\n",
              "      <td>MCI</td>\n",
              "      <td>Conclusion: Yes\\n\\nExplanation: The case prese...</td>\n",
              "      <td>MCI</td>\n",
              "    </tr>\n",
              "    <tr>\n",
              "      <th>11</th>\n",
              "      <td>subject_1_459</td>\n",
              "      <td>MCI</td>\n",
              "      <td>Conclusion: Yes  \\nExplanation: The case prese...</td>\n",
              "      <td>MCI</td>\n",
              "    </tr>\n",
              "    <tr>\n",
              "      <th>12</th>\n",
              "      <td>subject_1_461</td>\n",
              "      <td>MCI</td>\n",
              "      <td>Conclusion: Yes\\n\\nExplanation: The case prese...</td>\n",
              "      <td>MCI</td>\n",
              "    </tr>\n",
              "    <tr>\n",
              "      <th>13</th>\n",
              "      <td>subject_1_464</td>\n",
              "      <td>MCI</td>\n",
              "      <td>Conclusion: Yes  \\nExplanation: The case prese...</td>\n",
              "      <td>MCI</td>\n",
              "    </tr>\n",
              "    <tr>\n",
              "      <th>14</th>\n",
              "      <td>subject_1_467</td>\n",
              "      <td>MCI</td>\n",
              "      <td>Conclusion: Yes\\n\\nExplanation: The case prese...</td>\n",
              "      <td>MCI</td>\n",
              "    </tr>\n",
              "  </tbody>\n",
              "</table>\n",
              "</div>\n",
              "    <div class=\"colab-df-buttons\">\n",
              "\n",
              "  <div class=\"colab-df-container\">\n",
              "    <button class=\"colab-df-convert\" onclick=\"convertToInteractive('df-979804bf-1526-441e-ba3e-be1ed1088422')\"\n",
              "            title=\"Convert this dataframe to an interactive table.\"\n",
              "            style=\"display:none;\">\n",
              "\n",
              "  <svg xmlns=\"http://www.w3.org/2000/svg\" height=\"24px\" viewBox=\"0 -960 960 960\">\n",
              "    <path d=\"M120-120v-720h720v720H120Zm60-500h600v-160H180v160Zm220 220h160v-160H400v160Zm0 220h160v-160H400v160ZM180-400h160v-160H180v160Zm440 0h160v-160H620v160ZM180-180h160v-160H180v160Zm440 0h160v-160H620v160Z\"/>\n",
              "  </svg>\n",
              "    </button>\n",
              "\n",
              "  <style>\n",
              "    .colab-df-container {\n",
              "      display:flex;\n",
              "      gap: 12px;\n",
              "    }\n",
              "\n",
              "    .colab-df-convert {\n",
              "      background-color: #E8F0FE;\n",
              "      border: none;\n",
              "      border-radius: 50%;\n",
              "      cursor: pointer;\n",
              "      display: none;\n",
              "      fill: #1967D2;\n",
              "      height: 32px;\n",
              "      padding: 0 0 0 0;\n",
              "      width: 32px;\n",
              "    }\n",
              "\n",
              "    .colab-df-convert:hover {\n",
              "      background-color: #E2EBFA;\n",
              "      box-shadow: 0px 1px 2px rgba(60, 64, 67, 0.3), 0px 1px 3px 1px rgba(60, 64, 67, 0.15);\n",
              "      fill: #174EA6;\n",
              "    }\n",
              "\n",
              "    .colab-df-buttons div {\n",
              "      margin-bottom: 4px;\n",
              "    }\n",
              "\n",
              "    [theme=dark] .colab-df-convert {\n",
              "      background-color: #3B4455;\n",
              "      fill: #D2E3FC;\n",
              "    }\n",
              "\n",
              "    [theme=dark] .colab-df-convert:hover {\n",
              "      background-color: #434B5C;\n",
              "      box-shadow: 0px 1px 3px 1px rgba(0, 0, 0, 0.15);\n",
              "      filter: drop-shadow(0px 1px 2px rgba(0, 0, 0, 0.3));\n",
              "      fill: #FFFFFF;\n",
              "    }\n",
              "  </style>\n",
              "\n",
              "    <script>\n",
              "      const buttonEl =\n",
              "        document.querySelector('#df-979804bf-1526-441e-ba3e-be1ed1088422 button.colab-df-convert');\n",
              "      buttonEl.style.display =\n",
              "        google.colab.kernel.accessAllowed ? 'block' : 'none';\n",
              "\n",
              "      async function convertToInteractive(key) {\n",
              "        const element = document.querySelector('#df-979804bf-1526-441e-ba3e-be1ed1088422');\n",
              "        const dataTable =\n",
              "          await google.colab.kernel.invokeFunction('convertToInteractive',\n",
              "                                                    [key], {});\n",
              "        if (!dataTable) return;\n",
              "\n",
              "        const docLinkHtml = 'Like what you see? Visit the ' +\n",
              "          '<a target=\"_blank\" href=https://colab.research.google.com/notebooks/data_table.ipynb>data table notebook</a>'\n",
              "          + ' to learn more about interactive tables.';\n",
              "        element.innerHTML = '';\n",
              "        dataTable['output_type'] = 'display_data';\n",
              "        await google.colab.output.renderOutput(dataTable, element);\n",
              "        const docLink = document.createElement('div');\n",
              "        docLink.innerHTML = docLinkHtml;\n",
              "        element.appendChild(docLink);\n",
              "      }\n",
              "    </script>\n",
              "  </div>\n",
              "\n",
              "\n",
              "    <div id=\"df-fc2028c3-5a1c-40d1-8971-985c69266d8d\">\n",
              "      <button class=\"colab-df-quickchart\" onclick=\"quickchart('df-fc2028c3-5a1c-40d1-8971-985c69266d8d')\"\n",
              "                title=\"Suggest charts\"\n",
              "                style=\"display:none;\">\n",
              "\n",
              "<svg xmlns=\"http://www.w3.org/2000/svg\" height=\"24px\"viewBox=\"0 0 24 24\"\n",
              "     width=\"24px\">\n",
              "    <g>\n",
              "        <path d=\"M19 3H5c-1.1 0-2 .9-2 2v14c0 1.1.9 2 2 2h14c1.1 0 2-.9 2-2V5c0-1.1-.9-2-2-2zM9 17H7v-7h2v7zm4 0h-2V7h2v10zm4 0h-2v-4h2v4z\"/>\n",
              "    </g>\n",
              "</svg>\n",
              "      </button>\n",
              "\n",
              "<style>\n",
              "  .colab-df-quickchart {\n",
              "      --bg-color: #E8F0FE;\n",
              "      --fill-color: #1967D2;\n",
              "      --hover-bg-color: #E2EBFA;\n",
              "      --hover-fill-color: #174EA6;\n",
              "      --disabled-fill-color: #AAA;\n",
              "      --disabled-bg-color: #DDD;\n",
              "  }\n",
              "\n",
              "  [theme=dark] .colab-df-quickchart {\n",
              "      --bg-color: #3B4455;\n",
              "      --fill-color: #D2E3FC;\n",
              "      --hover-bg-color: #434B5C;\n",
              "      --hover-fill-color: #FFFFFF;\n",
              "      --disabled-bg-color: #3B4455;\n",
              "      --disabled-fill-color: #666;\n",
              "  }\n",
              "\n",
              "  .colab-df-quickchart {\n",
              "    background-color: var(--bg-color);\n",
              "    border: none;\n",
              "    border-radius: 50%;\n",
              "    cursor: pointer;\n",
              "    display: none;\n",
              "    fill: var(--fill-color);\n",
              "    height: 32px;\n",
              "    padding: 0;\n",
              "    width: 32px;\n",
              "  }\n",
              "\n",
              "  .colab-df-quickchart:hover {\n",
              "    background-color: var(--hover-bg-color);\n",
              "    box-shadow: 0 1px 2px rgba(60, 64, 67, 0.3), 0 1px 3px 1px rgba(60, 64, 67, 0.15);\n",
              "    fill: var(--button-hover-fill-color);\n",
              "  }\n",
              "\n",
              "  .colab-df-quickchart-complete:disabled,\n",
              "  .colab-df-quickchart-complete:disabled:hover {\n",
              "    background-color: var(--disabled-bg-color);\n",
              "    fill: var(--disabled-fill-color);\n",
              "    box-shadow: none;\n",
              "  }\n",
              "\n",
              "  .colab-df-spinner {\n",
              "    border: 2px solid var(--fill-color);\n",
              "    border-color: transparent;\n",
              "    border-bottom-color: var(--fill-color);\n",
              "    animation:\n",
              "      spin 1s steps(1) infinite;\n",
              "  }\n",
              "\n",
              "  @keyframes spin {\n",
              "    0% {\n",
              "      border-color: transparent;\n",
              "      border-bottom-color: var(--fill-color);\n",
              "      border-left-color: var(--fill-color);\n",
              "    }\n",
              "    20% {\n",
              "      border-color: transparent;\n",
              "      border-left-color: var(--fill-color);\n",
              "      border-top-color: var(--fill-color);\n",
              "    }\n",
              "    30% {\n",
              "      border-color: transparent;\n",
              "      border-left-color: var(--fill-color);\n",
              "      border-top-color: var(--fill-color);\n",
              "      border-right-color: var(--fill-color);\n",
              "    }\n",
              "    40% {\n",
              "      border-color: transparent;\n",
              "      border-right-color: var(--fill-color);\n",
              "      border-top-color: var(--fill-color);\n",
              "    }\n",
              "    60% {\n",
              "      border-color: transparent;\n",
              "      border-right-color: var(--fill-color);\n",
              "    }\n",
              "    80% {\n",
              "      border-color: transparent;\n",
              "      border-right-color: var(--fill-color);\n",
              "      border-bottom-color: var(--fill-color);\n",
              "    }\n",
              "    90% {\n",
              "      border-color: transparent;\n",
              "      border-bottom-color: var(--fill-color);\n",
              "    }\n",
              "  }\n",
              "</style>\n",
              "\n",
              "      <script>\n",
              "        async function quickchart(key) {\n",
              "          const quickchartButtonEl =\n",
              "            document.querySelector('#' + key + ' button');\n",
              "          quickchartButtonEl.disabled = true;  // To prevent multiple clicks.\n",
              "          quickchartButtonEl.classList.add('colab-df-spinner');\n",
              "          try {\n",
              "            const charts = await google.colab.kernel.invokeFunction(\n",
              "                'suggestCharts', [key], {});\n",
              "          } catch (error) {\n",
              "            console.error('Error during call to suggestCharts:', error);\n",
              "          }\n",
              "          quickchartButtonEl.classList.remove('colab-df-spinner');\n",
              "          quickchartButtonEl.classList.add('colab-df-quickchart-complete');\n",
              "        }\n",
              "        (() => {\n",
              "          let quickchartButtonEl =\n",
              "            document.querySelector('#df-fc2028c3-5a1c-40d1-8971-985c69266d8d button');\n",
              "          quickchartButtonEl.style.display =\n",
              "            google.colab.kernel.accessAllowed ? 'block' : 'none';\n",
              "        })();\n",
              "      </script>\n",
              "    </div>\n",
              "\n",
              "  <div id=\"id_a734590b-081e-49e6-ad9d-e14f5b1505ae\">\n",
              "    <style>\n",
              "      .colab-df-generate {\n",
              "        background-color: #E8F0FE;\n",
              "        border: none;\n",
              "        border-radius: 50%;\n",
              "        cursor: pointer;\n",
              "        display: none;\n",
              "        fill: #1967D2;\n",
              "        height: 32px;\n",
              "        padding: 0 0 0 0;\n",
              "        width: 32px;\n",
              "      }\n",
              "\n",
              "      .colab-df-generate:hover {\n",
              "        background-color: #E2EBFA;\n",
              "        box-shadow: 0px 1px 2px rgba(60, 64, 67, 0.3), 0px 1px 3px 1px rgba(60, 64, 67, 0.15);\n",
              "        fill: #174EA6;\n",
              "      }\n",
              "\n",
              "      [theme=dark] .colab-df-generate {\n",
              "        background-color: #3B4455;\n",
              "        fill: #D2E3FC;\n",
              "      }\n",
              "\n",
              "      [theme=dark] .colab-df-generate:hover {\n",
              "        background-color: #434B5C;\n",
              "        box-shadow: 0px 1px 3px 1px rgba(0, 0, 0, 0.15);\n",
              "        filter: drop-shadow(0px 1px 2px rgba(0, 0, 0, 0.3));\n",
              "        fill: #FFFFFF;\n",
              "      }\n",
              "    </style>\n",
              "    <button class=\"colab-df-generate\" onclick=\"generateWithVariable('results_df')\"\n",
              "            title=\"Generate code using this dataframe.\"\n",
              "            style=\"display:none;\">\n",
              "\n",
              "  <svg xmlns=\"http://www.w3.org/2000/svg\" height=\"24px\"viewBox=\"0 0 24 24\"\n",
              "       width=\"24px\">\n",
              "    <path d=\"M7,19H8.4L18.45,9,17,7.55,7,17.6ZM5,21V16.75L18.45,3.32a2,2,0,0,1,2.83,0l1.4,1.43a1.91,1.91,0,0,1,.58,1.4,1.91,1.91,0,0,1-.58,1.4L9.25,21ZM18.45,9,17,7.55Zm-12,3A5.31,5.31,0,0,0,4.9,8.1,5.31,5.31,0,0,0,1,6.5,5.31,5.31,0,0,0,4.9,4.9,5.31,5.31,0,0,0,6.5,1,5.31,5.31,0,0,0,8.1,4.9,5.31,5.31,0,0,0,12,6.5,5.46,5.46,0,0,0,6.5,12Z\"/>\n",
              "  </svg>\n",
              "    </button>\n",
              "    <script>\n",
              "      (() => {\n",
              "      const buttonEl =\n",
              "        document.querySelector('#id_a734590b-081e-49e6-ad9d-e14f5b1505ae button.colab-df-generate');\n",
              "      buttonEl.style.display =\n",
              "        google.colab.kernel.accessAllowed ? 'block' : 'none';\n",
              "\n",
              "      buttonEl.onclick = () => {\n",
              "        google.colab.notebook.generateWithVariable('results_df');\n",
              "      }\n",
              "      })();\n",
              "    </script>\n",
              "  </div>\n",
              "\n",
              "    </div>\n",
              "  </div>\n"
            ],
            "text/plain": [
              "          Subject Subject Condition  \\\n",
              "0   subject_0_394           Healthy   \n",
              "1   subject_0_399           Healthy   \n",
              "2   subject_0_462           Healthy   \n",
              "3   subject_0_463           Healthy   \n",
              "4   subject_0_468           Healthy   \n",
              "5   subject_0_475           Healthy   \n",
              "6   subject_0_476           Healthy   \n",
              "7   subject_1_397               MCI   \n",
              "8   subject_1_455               MCI   \n",
              "9   subject_1_456               MCI   \n",
              "10  subject_1_457               MCI   \n",
              "11  subject_1_459               MCI   \n",
              "12  subject_1_461               MCI   \n",
              "13  subject_1_464               MCI   \n",
              "14  subject_1_467               MCI   \n",
              "\n",
              "                                           LLM Output LLM Decision  \n",
              "0   Conclusion: No  \\nExplanation: The EEG summary...      Healthy  \n",
              "1   Conclusion: No  \\nExplanation: The EEG summary...      Healthy  \n",
              "2   Conclusion: No\\n\\nExplanation: The EEG summary...      Healthy  \n",
              "3   Conclusion: Yes  \\nExplanation: The case prese...          MCI  \n",
              "4   Conclusion: No  \\nExplanation: The EEG summary...      Healthy  \n",
              "5   Conclusion: Needs clinical review\\n\\nExplanati...       review  \n",
              "6   Conclusion: No\\n\\nExplanation: The EEG summary...      Healthy  \n",
              "7   Conclusion: Needs clinical review\\n\\nExplanati...       review  \n",
              "8   Conclusion: Yes  \\nExplanation: The case shows...          MCI  \n",
              "9   Conclusion: Yes  \\nExplanation: The case shows...          MCI  \n",
              "10  Conclusion: Yes\\n\\nExplanation: The case prese...          MCI  \n",
              "11  Conclusion: Yes  \\nExplanation: The case prese...          MCI  \n",
              "12  Conclusion: Yes\\n\\nExplanation: The case prese...          MCI  \n",
              "13  Conclusion: Yes  \\nExplanation: The case prese...          MCI  \n",
              "14  Conclusion: Yes\\n\\nExplanation: The case prese...          MCI  "
            ]
          },
          "execution_count": 65,
          "metadata": {},
          "output_type": "execute_result"
        }
      ],
      "source": [
        "results_df"
      ]
    },
    {
      "cell_type": "code",
      "execution_count": null,
      "metadata": {
        "id": "DXGLlyxpaInp"
      },
      "outputs": [],
      "source": [
        "import re\n",
        "\n",
        "def categorize_llm_response(llm_output):\n",
        "    text = llm_output.lower()\n",
        "\n",
        "    # Try to extract explicit label\n",
        "    if \"conclusion:\" in text:\n",
        "        match = re.search(r\"conclusion:\\s*(yes|no)\", text)\n",
        "        if match:\n",
        "            decision = \"mci\" if match.group(1) == \"yes\" else \"healthy\"\n",
        "        else:\n",
        "            decision = \"uncertain\"\n",
        "    elif \"mci\" in text:\n",
        "        if \"consistent with mci\" in text or \"supports diagnosis of mci\" in text:\n",
        "            decision = \"mci\"\n",
        "        elif \"not consistent\" in text or \"evidence is insufficient\" in text:\n",
        "            decision = \"healthy\"\n",
        "        else:\n",
        "            decision = \"uncertain\"\n",
        "    else:\n",
        "        decision = \"uncertain\"\n",
        "\n",
        "    # Now determine confidence\n",
        "    if any(phrase in text for phrase in [\n",
        "        \"clearly consistent\", \"strong evidence\", \"clear indication\", \"meets multiple criteria\"\n",
        "    ]):\n",
        "        confidence = \"confident\"\n",
        "    elif any(phrase in text for phrase in [\n",
        "        \"partially consistent\", \"borderline\", \"leaning\", \"some indication\", \"not conclusive\"\n",
        "    ]):\n",
        "        confidence = \"borderline\"\n",
        "    else:\n",
        "        confidence = \"confident\" if decision != \"uncertain\" else \"inconclusive\"\n",
        "\n",
        "    return {\"decision\": decision, \"confidence\": confidence}\n"
      ]
    },
    {
      "cell_type": "code",
      "execution_count": null,
      "metadata": {
        "id": "MR9RGGBxaKuK"
      },
      "outputs": [],
      "source": [
        "for entry in all_llm_results:\n",
        "    parsed = categorize_llm_response(entry[\"LLM Output\"])\n",
        "    entry[\"LLM Decision\"] = parsed[\"decision\"]\n",
        "    entry[\"Confidence\"] = parsed[\"confidence\"]"
      ]
    },
    {
      "cell_type": "code",
      "execution_count": null,
      "metadata": {
        "colab": {
          "base_uri": "https://localhost:8080/"
        },
        "id": "XDhpVPCr4XW2",
        "outputId": "4e09da4e-f019-4b8e-c4c0-aa1b13e54aff"
      },
      "outputs": [
        {
          "data": {
            "text/plain": [
              "[{'Subject': 'subject_0_394',\n",
              "  'Subject Condition': 'Healthy',\n",
              "  'LLM Output': 'Conclusion: No  \\nExplanation: The EEG summary shows low alpha ratios in several channels, indicating some level of alpha suppression. However, the HRV summary does not show significant suppression (SDNN = 60.74ms), which is above the threshold for concern. Since there is no HRV suppression and only one EEG feature (alpha suppression) without widespread or strong evidence across multiple regions, the criteria for MCI are not met. Therefore, the subject lacks sufficient abnormality for an MCI diagnosis.',\n",
              "  'LLM Decision': 'healthy',\n",
              "  'Confidence': 'confident'},\n",
              " {'Subject': 'subject_0_399',\n",
              "  'Subject Condition': 'Healthy',\n",
              "  'LLM Output': 'Conclusion: No  \\nExplanation: The EEG summary indicates low alpha ratios in multiple frontal and parietal regions, suggesting alpha suppression. However, the HRV summary shows no significant suppression (SDNN = 54.35ms), which does not meet the criteria for HRV suppression. Since there is no HRV suppression and only one strong EEG feature (alpha suppression) without additional supporting features, the evidence is insufficient to classify the case as MCI.',\n",
              "  'LLM Decision': 'healthy',\n",
              "  'Confidence': 'confident'},\n",
              " {'Subject': 'subject_0_462',\n",
              "  'Subject Condition': 'Healthy',\n",
              "  'LLM Output': 'Conclusion: No\\n\\nExplanation: The EEG summary indicates low beta ratios in several channels, suggesting beta suppression, but there is no evidence of alpha suppression or theta elevation. Additionally, the HRV summary shows no significant suppression (SDNN = 70.78ms), which does not support reduced autonomic flexibility. Since neither of the criteria for MCI diagnosis is met, and the findings are not strong or consistent enough, the evidence does not support a diagnosis of MCI.',\n",
              "  'LLM Decision': 'healthy',\n",
              "  'Confidence': 'confident'},\n",
              " {'Subject': 'subject_0_463',\n",
              "  'Subject Condition': 'Healthy',\n",
              "  'LLM Output': 'Conclusion: Yes  \\nExplanation: The case presents with two clear features consistent with MCI: widespread alpha suppression across multiple regions (T8, AF4, O2, P8) and HRV suppression (SDNN = 28.49ms). The presence of these two features meets the criteria for MCI diagnosis according to the ontology reference.',\n",
              "  'LLM Decision': 'mci',\n",
              "  'Confidence': 'confident'},\n",
              " {'Subject': 'subject_0_468',\n",
              "  'Subject Condition': 'Healthy',\n",
              "  'LLM Output': 'Conclusion: No  \\nExplanation: The EEG summary shows low alpha ratios in multiple regions, which suggests alpha suppression. However, there is no HRV suppression (SDNN = 65.70 ms), and the beta suppression is isolated to a single instance. The findings do not meet the criteria for strong evidence of MCI, as there is no convergence of at least two strong features or a single strong EEG feature with HRV suppression. Therefore, the evidence is insufficient to classify this case as MCI.',\n",
              "  'LLM Decision': 'healthy',\n",
              "  'Confidence': 'confident'},\n",
              " {'Subject': 'subject_0_475',\n",
              "  'Subject Condition': 'Healthy',\n",
              "  'LLM Output': 'Conclusion: Needs clinical review\\n\\nExplanation: The EEG summary indicates low alpha ratios across multiple regions, suggesting potential alpha suppression. However, the HRV summary does not show significant suppression (SDNN = 34.49ms), which does not meet the criteria for HRV suppression. While there is evidence of alpha suppression, the lack of HRV suppression and the absence of other strong EEG features (such as theta elevation or beta suppression) make the findings borderline. Therefore, the case should be deferred for clinical review to ensure accurate diagnosis.',\n",
              "  'LLM Decision': 'uncertain',\n",
              "  'Confidence': 'borderline'},\n",
              " {'Subject': 'subject_0_476',\n",
              "  'Subject Condition': 'Healthy',\n",
              "  'LLM Output': 'Conclusion: No\\n\\nExplanation: The EEG summary indicates low alpha ratios in several channels, suggesting alpha suppression. However, the HRV summary shows no significant suppression (SDNN = 36.61ms), which does not meet the criteria for HRV suppression. Additionally, there is no mention of theta elevation or beta suppression. Since the evidence does not strongly meet either of the diagnostic rules for MCI, the subject lacks sufficient abnormality for a diagnosis.',\n",
              "  'LLM Decision': 'healthy',\n",
              "  'Confidence': 'confident'},\n",
              " {'Subject': 'subject_1_397',\n",
              "  'Subject Condition': 'MCI',\n",
              "  'LLM Output': 'Conclusion: Needs clinical review\\n\\nExplanation: The EEG summary indicates widespread alpha suppression across multiple frontal regions (AF3, AF4, F3, F7, F8, FC5), which is a strong EEG feature. However, the HRV summary does not show significant suppression (SDNN = 41.39ms), which is above the threshold for concern. While the EEG findings are notable, the lack of HRV suppression means the criteria for a definitive MCI diagnosis are not fully met. Given the strong EEG feature but absence of HRV suppression, the case is borderline and should be deferred for clinical review.',\n",
              "  'LLM Decision': 'uncertain',\n",
              "  'Confidence': 'borderline'},\n",
              " {'Subject': 'subject_1_455',\n",
              "  'Subject Condition': 'MCI',\n",
              "  'LLM Output': 'Conclusion: Yes  \\nExplanation: The case shows strong evidence for MCI as it meets the criteria under the second rule. There is a single strong EEG feature of widespread beta suppression across multiple frontal regions (EEG.AF3, EEG.AF4, EEG.F3, EEG.F4, EEG.F7, and EEG.F8) along with HRV suppression (SDNN = 23.77ms, below the 30ms threshold). This convergence of features supports a classification consistent with MCI.',\n",
              "  'LLM Decision': 'mci',\n",
              "  'Confidence': 'confident'},\n",
              " {'Subject': 'subject_1_456',\n",
              "  'Subject Condition': 'MCI',\n",
              "  'LLM Output': 'Conclusion: Yes  \\nExplanation: The case shows strong evidence for MCI. There is widespread alpha suppression across multiple regions (EEG.F8, EEG.FC5, EEG.P7, EEG.T7) and HRV suppression (SDNN = 20.55ms). This satisfies the second diagnostic rule, where a single strong EEG feature (widespread alpha suppression) is present along with HRV suppression.',\n",
              "  'LLM Decision': 'mci',\n",
              "  'Confidence': 'confident'},\n",
              " {'Subject': 'subject_1_457',\n",
              "  'Subject Condition': 'MCI',\n",
              "  'LLM Output': 'Conclusion: Yes\\n\\nExplanation: The case presents strong evidence for MCI under the first rule. There is clear alpha suppression in multiple frontal regions (EEG.AF3 and EEG.F3) with consistently low alpha ratios, indicating a strong EEG feature. Additionally, HRV suppression is present with an SDNN of 25.03 ms, which is below the 30 ms threshold. These two features together meet the criteria for MCI diagnosis.',\n",
              "  'LLM Decision': 'mci',\n",
              "  'Confidence': 'confident'},\n",
              " {'Subject': 'subject_1_459',\n",
              "  'Subject Condition': 'MCI',\n",
              "  'LLM Output': 'Conclusion: Yes  \\nExplanation: The case presents with strong evidence for MCI. There is widespread beta suppression across multiple EEG channels (EEG.AF3, EEG.F3, EEG.P7, EEG.T7, EEG.AF4, EEG.F4, EEG.F7) with very low beta ratios, indicating significant beta disorganization. Additionally, HRV suppression is present with an SDNN of 28.56 ms, which is below the 30 ms threshold. This combination of a single strong EEG feature (widespread beta suppression) along with HRV suppression meets the criteria for MCI diagnosis.',\n",
              "  'LLM Decision': 'mci',\n",
              "  'Confidence': 'confident'},\n",
              " {'Subject': 'subject_1_461',\n",
              "  'Subject Condition': 'MCI',\n",
              "  'LLM Output': 'Conclusion: Yes\\n\\nExplanation: The case presents strong evidence for MCI under the diagnostic guidance. There is widespread alpha suppression, particularly in multiple frontal regions (EEG.AF3, EEG.F8, EEG.FC6), which is a strong EEG feature. Additionally, there is HRV suppression with an SDNN of 24.81 ms, which is below the 30 ms threshold. The combination of these findings meets the criteria for MCI diagnosis as per the ontology reference.',\n",
              "  'LLM Decision': 'mci',\n",
              "  'Confidence': 'confident'},\n",
              " {'Subject': 'subject_1_464',\n",
              "  'Subject Condition': 'MCI',\n",
              "  'LLM Output': 'Conclusion: Yes  \\nExplanation: The case presents strong evidence for MCI. There is widespread alpha suppression, particularly in multiple frontal (EEG.F3) and parietal (EEG.P8) regions, which is a strong EEG feature. Additionally, there is HRV suppression with an SDNN of 27.69 ms, which is below the 30 ms threshold. This combination of a single strong EEG feature along with HRV suppression meets the criteria for MCI diagnosis.',\n",
              "  'LLM Decision': 'mci',\n",
              "  'Confidence': 'confident'},\n",
              " {'Subject': 'subject_1_467',\n",
              "  'Subject Condition': 'MCI',\n",
              "  'LLM Output': 'Conclusion: Yes\\n\\nExplanation: The case presents with strong evidence for MCI under the diagnostic guidance. There is a clear presence of HRV suppression (SDNN = 27.87ms, below the 30ms threshold) and significant beta suppression across multiple frontal regions (EEG.AF3, EEG.AF4, EEG.F3, EEG.F4) with consistently low beta ratios (0.01). This satisfies the criteria of a single strong EEG feature (widespread beta suppression) along with HRV suppression, supporting a conclusion consistent with MCI.',\n",
              "  'LLM Decision': 'mci',\n",
              "  'Confidence': 'confident'}]"
            ]
          },
          "execution_count": 98,
          "metadata": {},
          "output_type": "execute_result"
        }
      ],
      "source": [
        "all_llm_results"
      ]
    },
    {
      "cell_type": "markdown",
      "metadata": {
        "id": "Ws4J6PIxtVaL"
      },
      "source": [
        "# Results"
      ]
    },
    {
      "cell_type": "code",
      "execution_count": null,
      "metadata": {
        "colab": {
          "base_uri": "https://localhost:8080/"
        },
        "id": "WcKBn_4-aNhI",
        "outputId": "3ec767fd-da18-4347-a465-3c7c4b7fd5af"
      },
      "outputs": [
        {
          "data": {
            "text/plain": [
              "Counter({('Healthy', 'healthy', 'confident'): 5,\n",
              "         ('Healthy', 'mci', 'confident'): 1,\n",
              "         ('Healthy', 'uncertain', 'borderline'): 1,\n",
              "         ('MCI', 'uncertain', 'borderline'): 1,\n",
              "         ('MCI', 'mci', 'confident'): 7})"
            ]
          },
          "execution_count": 68,
          "metadata": {},
          "output_type": "execute_result"
        }
      ],
      "source": [
        "from collections import Counter\n",
        "\n",
        "Counter((entry[\"Subject Condition\"], entry[\"LLM Decision\"], entry[\"Confidence\"]) for entry in all_llm_results)"
      ]
    },
    {
      "cell_type": "markdown",
      "metadata": {
        "id": "uWj6CmYSt6TT"
      },
      "source": [
        "## Confusion Matrix"
      ]
    },
    {
      "cell_type": "code",
      "execution_count": 1,
      "metadata": {
        "colab": {
          "base_uri": "https://localhost:8080/",
          "height": 607
        },
        "id": "fJXhLq8euLxn",
        "outputId": "3aa161d8-f2b9-4d45-de8c-3f2cb262bde4"
      },
      "outputs": [
        {
          "data": {
            "image/png": "[encoded data removed]",
            "text/plain": [
              "<Figure size 700x600 with 2 Axes>"
            ]
          },
          "metadata": {},
          "output_type": "display_data"
        }
      ],
      "source": [
        "import pandas as pd\n",
        "import seaborn as sns\n",
        "import matplotlib.pyplot as plt\n",
        "from sklearn.metrics import confusion_matrix, classification_report\n",
        "\n",
        "# Load your results file\n",
        "df = pd.read_csv(\"llm_subject_predictions_eeg_hrv.csv\")\n",
        "\n",
        "# Normalize labels\n",
        "df[\"Subject Condition\"] = df[\"Subject Condition\"].str.strip().str.capitalize()\n",
        "df[\"LLM Decision\"] = df[\"LLM Decision\"].replace(\"review\", \"Uncertain\").str.strip().str.capitalize()\n",
        "\n",
        "# Define labels and compute confusion matrix\n",
        "labels = [\"Healthy\", \"Mci\", \"Uncertain\"]\n",
        "y_true = df[\"Subject Condition\"]\n",
        "y_pred = df[\"LLM Decision\"]\n",
        "\n",
        "# 1. Normalized Confusion Matrix\n",
        "cm = confusion_matrix(y_true, y_pred, labels=labels, normalize='true')\n",
        "plt.figure(figsize=(7, 6))\n",
        "sns.heatmap(cm, annot=True, fmt=\".2f\", cmap=\"Purples\", xticklabels=labels, yticklabels=labels)\n",
        "plt.xlabel(\"Predicted\")\n",
        "plt.ylabel(\"True Label\")\n",
        "plt.title(\"LLM-Based Triage Confusion Matrix (3-Class Normalized)\")\n",
        "plt.tight_layout()\n",
        "plt.show()\n"
      ]
    },
    {
      "cell_type": "code",
      "execution_count": null,
      "metadata": {
        "colab": {
          "base_uri": "https://localhost:8080/"
        },
        "id": "QGPasLOsxDHJ",
        "outputId": "e053b8ae-2425-4118-a25d-e5a062eea84e"
      },
      "outputs": [
        {
          "name": "stdout",
          "output_type": "stream",
          "text": [
            "Overall Accuracy: 0.80\n"
          ]
        }
      ],
      "source": [
        "from sklearn.metrics import accuracy_score\n",
        "\n",
        "overall_acc = accuracy_score(y_true, y_pred)\n",
        "print(f\"Overall Accuracy: {overall_acc:.2f}\")"
      ]
    },
    {
      "cell_type": "markdown",
      "metadata": {
        "id": "gubQUQ4WuT1a"
      },
      "source": [
        "## Classification Report"
      ]
    },
    {
      "cell_type": "code",
      "execution_count": null,
      "metadata": {
        "colab": {
          "base_uri": "https://localhost:8080/",
          "height": 206
        },
        "id": "M-uTCAFruVUA",
        "outputId": "d1ee7a7e-ebb8-4724-dad2-f7381db6ca9a"
      },
      "outputs": [
        {
          "data": {
            "application/vnd.google.colaboratory.intrinsic+json": {
              "summary": "{\n  \"name\": \"binary_df\",\n  \"rows\": 5,\n  \"fields\": [\n    {\n      \"column\": \"precision\",\n      \"properties\": {\n        \"dtype\": \"number\",\n        \"std\": 0.044633985217806905,\n        \"min\": 0.875,\n        \"max\": 1.0,\n        \"num_unique_values\": 5,\n        \"samples\": [\n          0.875,\n          0.9333333333333333,\n          0.9230769230769231\n        ],\n        \"semantic_type\": \"\",\n        \"description\": \"\"\n      }\n    },\n    {\n      \"column\": \"recall\",\n      \"properties\": {\n        \"dtype\": \"number\",\n        \"std\": 0.05689679163150751,\n        \"min\": 0.7142857142857143,\n        \"max\": 0.875,\n        \"num_unique_values\": 4,\n        \"samples\": [\n          0.875,\n          0.7946428571428572,\n          0.7142857142857143\n        ],\n        \"semantic_type\": \"\",\n        \"description\": \"\"\n      }\n    },\n    {\n      \"column\": \"f1-score\",\n      \"properties\": {\n        \"dtype\": \"number\",\n        \"std\": 0.014790465628903567,\n        \"min\": 0.8333333333333334,\n        \"max\": 0.875,\n        \"num_unique_values\": 5,\n        \"samples\": [\n          0.875,\n          0.8555555555555556,\n          0.8571428571428571\n        ],\n        \"semantic_type\": \"\",\n        \"description\": \"\"\n      }\n    },\n    {\n      \"column\": \"support\",\n      \"properties\": {\n        \"dtype\": \"number\",\n        \"std\": 4.123105625617661,\n        \"min\": 7.0,\n        \"max\": 15.0,\n        \"num_unique_values\": 3,\n        \"samples\": [\n          7.0,\n          8.0,\n          15.0\n        ],\n        \"semantic_type\": \"\",\n        \"description\": \"\"\n      }\n    }\n  ]\n}",
              "type": "dataframe",
              "variable_name": "binary_df"
            },
            "text/html": [
              "\n",
              "  <div id=\"df-5102694f-89d6-4de4-b7e5-9c331eb211b7\" class=\"colab-df-container\">\n",
              "    <div>\n",
              "<style scoped>\n",
              "    .dataframe tbody tr th:only-of-type {\n",
              "        vertical-align: middle;\n",
              "    }\n",
              "\n",
              "    .dataframe tbody tr th {\n",
              "        vertical-align: top;\n",
              "    }\n",
              "\n",
              "    .dataframe thead th {\n",
              "        text-align: right;\n",
              "    }\n",
              "</style>\n",
              "<table border=\"1\" class=\"dataframe\">\n",
              "  <thead>\n",
              "    <tr style=\"text-align: right;\">\n",
              "      <th></th>\n",
              "      <th>precision</th>\n",
              "      <th>recall</th>\n",
              "      <th>f1-score</th>\n",
              "      <th>support</th>\n",
              "    </tr>\n",
              "  </thead>\n",
              "  <tbody>\n",
              "    <tr>\n",
              "      <th>Healthy</th>\n",
              "      <td>1.000000</td>\n",
              "      <td>0.714286</td>\n",
              "      <td>0.833333</td>\n",
              "      <td>7.0</td>\n",
              "    </tr>\n",
              "    <tr>\n",
              "      <th>Mci</th>\n",
              "      <td>0.875000</td>\n",
              "      <td>0.875000</td>\n",
              "      <td>0.875000</td>\n",
              "      <td>8.0</td>\n",
              "    </tr>\n",
              "    <tr>\n",
              "      <th>micro avg</th>\n",
              "      <td>0.923077</td>\n",
              "      <td>0.800000</td>\n",
              "      <td>0.857143</td>\n",
              "      <td>15.0</td>\n",
              "    </tr>\n",
              "    <tr>\n",
              "      <th>macro avg</th>\n",
              "      <td>0.937500</td>\n",
              "      <td>0.794643</td>\n",
              "      <td>0.854167</td>\n",
              "      <td>15.0</td>\n",
              "    </tr>\n",
              "    <tr>\n",
              "      <th>weighted avg</th>\n",
              "      <td>0.933333</td>\n",
              "      <td>0.800000</td>\n",
              "      <td>0.855556</td>\n",
              "      <td>15.0</td>\n",
              "    </tr>\n",
              "  </tbody>\n",
              "</table>\n",
              "</div>\n",
              "    <div class=\"colab-df-buttons\">\n",
              "\n",
              "  <div class=\"colab-df-container\">\n",
              "    <button class=\"colab-df-convert\" onclick=\"convertToInteractive('df-5102694f-89d6-4de4-b7e5-9c331eb211b7')\"\n",
              "            title=\"Convert this dataframe to an interactive table.\"\n",
              "            style=\"display:none;\">\n",
              "\n",
              "  <svg xmlns=\"http://www.w3.org/2000/svg\" height=\"24px\" viewBox=\"0 -960 960 960\">\n",
              "    <path d=\"M120-120v-720h720v720H120Zm60-500h600v-160H180v160Zm220 220h160v-160H400v160Zm0 220h160v-160H400v160ZM180-400h160v-160H180v160Zm440 0h160v-160H620v160ZM180-180h160v-160H180v160Zm440 0h160v-160H620v160Z\"/>\n",
              "  </svg>\n",
              "    </button>\n",
              "\n",
              "  <style>\n",
              "    .colab-df-container {\n",
              "      display:flex;\n",
              "      gap: 12px;\n",
              "    }\n",
              "\n",
              "    .colab-df-convert {\n",
              "      background-color: #E8F0FE;\n",
              "      border: none;\n",
              "      border-radius: 50%;\n",
              "      cursor: pointer;\n",
              "      display: none;\n",
              "      fill: #1967D2;\n",
              "      height: 32px;\n",
              "      padding: 0 0 0 0;\n",
              "      width: 32px;\n",
              "    }\n",
              "\n",
              "    .colab-df-convert:hover {\n",
              "      background-color: #E2EBFA;\n",
              "      box-shadow: 0px 1px 2px rgba(60, 64, 67, 0.3), 0px 1px 3px 1px rgba(60, 64, 67, 0.15);\n",
              "      fill: #174EA6;\n",
              "    }\n",
              "\n",
              "    .colab-df-buttons div {\n",
              "      margin-bottom: 4px;\n",
              "    }\n",
              "\n",
              "    [theme=dark] .colab-df-convert {\n",
              "      background-color: #3B4455;\n",
              "      fill: #D2E3FC;\n",
              "    }\n",
              "\n",
              "    [theme=dark] .colab-df-convert:hover {\n",
              "      background-color: #434B5C;\n",
              "      box-shadow: 0px 1px 3px 1px rgba(0, 0, 0, 0.15);\n",
              "      filter: drop-shadow(0px 1px 2px rgba(0, 0, 0, 0.3));\n",
              "      fill: #FFFFFF;\n",
              "    }\n",
              "  </style>\n",
              "\n",
              "    <script>\n",
              "      const buttonEl =\n",
              "        document.querySelector('#df-5102694f-89d6-4de4-b7e5-9c331eb211b7 button.colab-df-convert');\n",
              "      buttonEl.style.display =\n",
              "        google.colab.kernel.accessAllowed ? 'block' : 'none';\n",
              "\n",
              "      async function convertToInteractive(key) {\n",
              "        const element = document.querySelector('#df-5102694f-89d6-4de4-b7e5-9c331eb211b7');\n",
              "        const dataTable =\n",
              "          await google.colab.kernel.invokeFunction('convertToInteractive',\n",
              "                                                    [key], {});\n",
              "        if (!dataTable) return;\n",
              "\n",
              "        const docLinkHtml = 'Like what you see? Visit the ' +\n",
              "          '<a target=\"_blank\" href=https://colab.research.google.com/notebooks/data_table.ipynb>data table notebook</a>'\n",
              "          + ' to learn more about interactive tables.';\n",
              "        element.innerHTML = '';\n",
              "        dataTable['output_type'] = 'display_data';\n",
              "        await google.colab.output.renderOutput(dataTable, element);\n",
              "        const docLink = document.createElement('div');\n",
              "        docLink.innerHTML = docLinkHtml;\n",
              "        element.appendChild(docLink);\n",
              "      }\n",
              "    </script>\n",
              "  </div>\n",
              "\n",
              "\n",
              "    <div id=\"df-7edecc62-43f7-4c78-8433-e34e3a6b2089\">\n",
              "      <button class=\"colab-df-quickchart\" onclick=\"quickchart('df-7edecc62-43f7-4c78-8433-e34e3a6b2089')\"\n",
              "                title=\"Suggest charts\"\n",
              "                style=\"display:none;\">\n",
              "\n",
              "<svg xmlns=\"http://www.w3.org/2000/svg\" height=\"24px\"viewBox=\"0 0 24 24\"\n",
              "     width=\"24px\">\n",
              "    <g>\n",
              "        <path d=\"M19 3H5c-1.1 0-2 .9-2 2v14c0 1.1.9 2 2 2h14c1.1 0 2-.9 2-2V5c0-1.1-.9-2-2-2zM9 17H7v-7h2v7zm4 0h-2V7h2v10zm4 0h-2v-4h2v4z\"/>\n",
              "    </g>\n",
              "</svg>\n",
              "      </button>\n",
              "\n",
              "<style>\n",
              "  .colab-df-quickchart {\n",
              "      --bg-color: #E8F0FE;\n",
              "      --fill-color: #1967D2;\n",
              "      --hover-bg-color: #E2EBFA;\n",
              "      --hover-fill-color: #174EA6;\n",
              "      --disabled-fill-color: #AAA;\n",
              "      --disabled-bg-color: #DDD;\n",
              "  }\n",
              "\n",
              "  [theme=dark] .colab-df-quickchart {\n",
              "      --bg-color: #3B4455;\n",
              "      --fill-color: #D2E3FC;\n",
              "      --hover-bg-color: #434B5C;\n",
              "      --hover-fill-color: #FFFFFF;\n",
              "      --disabled-bg-color: #3B4455;\n",
              "      --disabled-fill-color: #666;\n",
              "  }\n",
              "\n",
              "  .colab-df-quickchart {\n",
              "    background-color: var(--bg-color);\n",
              "    border: none;\n",
              "    border-radius: 50%;\n",
              "    cursor: pointer;\n",
              "    display: none;\n",
              "    fill: var(--fill-color);\n",
              "    height: 32px;\n",
              "    padding: 0;\n",
              "    width: 32px;\n",
              "  }\n",
              "\n",
              "  .colab-df-quickchart:hover {\n",
              "    background-color: var(--hover-bg-color);\n",
              "    box-shadow: 0 1px 2px rgba(60, 64, 67, 0.3), 0 1px 3px 1px rgba(60, 64, 67, 0.15);\n",
              "    fill: var(--button-hover-fill-color);\n",
              "  }\n",
              "\n",
              "  .colab-df-quickchart-complete:disabled,\n",
              "  .colab-df-quickchart-complete:disabled:hover {\n",
              "    background-color: var(--disabled-bg-color);\n",
              "    fill: var(--disabled-fill-color);\n",
              "    box-shadow: none;\n",
              "  }\n",
              "\n",
              "  .colab-df-spinner {\n",
              "    border: 2px solid var(--fill-color);\n",
              "    border-color: transparent;\n",
              "    border-bottom-color: var(--fill-color);\n",
              "    animation:\n",
              "      spin 1s steps(1) infinite;\n",
              "  }\n",
              "\n",
              "  @keyframes spin {\n",
              "    0% {\n",
              "      border-color: transparent;\n",
              "      border-bottom-color: var(--fill-color);\n",
              "      border-left-color: var(--fill-color);\n",
              "    }\n",
              "    20% {\n",
              "      border-color: transparent;\n",
              "      border-left-color: var(--fill-color);\n",
              "      border-top-color: var(--fill-color);\n",
              "    }\n",
              "    30% {\n",
              "      border-color: transparent;\n",
              "      border-left-color: var(--fill-color);\n",
              "      border-top-color: var(--fill-color);\n",
              "      border-right-color: var(--fill-color);\n",
              "    }\n",
              "    40% {\n",
              "      border-color: transparent;\n",
              "      border-right-color: var(--fill-color);\n",
              "      border-top-color: var(--fill-color);\n",
              "    }\n",
              "    60% {\n",
              "      border-color: transparent;\n",
              "      border-right-color: var(--fill-color);\n",
              "    }\n",
              "    80% {\n",
              "      border-color: transparent;\n",
              "      border-right-color: var(--fill-color);\n",
              "      border-bottom-color: var(--fill-color);\n",
              "    }\n",
              "    90% {\n",
              "      border-color: transparent;\n",
              "      border-bottom-color: var(--fill-color);\n",
              "    }\n",
              "  }\n",
              "</style>\n",
              "\n",
              "      <script>\n",
              "        async function quickchart(key) {\n",
              "          const quickchartButtonEl =\n",
              "            document.querySelector('#' + key + ' button');\n",
              "          quickchartButtonEl.disabled = true;  // To prevent multiple clicks.\n",
              "          quickchartButtonEl.classList.add('colab-df-spinner');\n",
              "          try {\n",
              "            const charts = await google.colab.kernel.invokeFunction(\n",
              "                'suggestCharts', [key], {});\n",
              "          } catch (error) {\n",
              "            console.error('Error during call to suggestCharts:', error);\n",
              "          }\n",
              "          quickchartButtonEl.classList.remove('colab-df-spinner');\n",
              "          quickchartButtonEl.classList.add('colab-df-quickchart-complete');\n",
              "        }\n",
              "        (() => {\n",
              "          let quickchartButtonEl =\n",
              "            document.querySelector('#df-7edecc62-43f7-4c78-8433-e34e3a6b2089 button');\n",
              "          quickchartButtonEl.style.display =\n",
              "            google.colab.kernel.accessAllowed ? 'block' : 'none';\n",
              "        })();\n",
              "      </script>\n",
              "    </div>\n",
              "\n",
              "  <div id=\"id_e5d4f0db-273d-44f7-9389-8f5a16dab702\">\n",
              "    <style>\n",
              "      .colab-df-generate {\n",
              "        background-color: #E8F0FE;\n",
              "        border: none;\n",
              "        border-radius: 50%;\n",
              "        cursor: pointer;\n",
              "        display: none;\n",
              "        fill: #1967D2;\n",
              "        height: 32px;\n",
              "        padding: 0 0 0 0;\n",
              "        width: 32px;\n",
              "      }\n",
              "\n",
              "      .colab-df-generate:hover {\n",
              "        background-color: #E2EBFA;\n",
              "        box-shadow: 0px 1px 2px rgba(60, 64, 67, 0.3), 0px 1px 3px 1px rgba(60, 64, 67, 0.15);\n",
              "        fill: #174EA6;\n",
              "      }\n",
              "\n",
              "      [theme=dark] .colab-df-generate {\n",
              "        background-color: #3B4455;\n",
              "        fill: #D2E3FC;\n",
              "      }\n",
              "\n",
              "      [theme=dark] .colab-df-generate:hover {\n",
              "        background-color: #434B5C;\n",
              "        box-shadow: 0px 1px 3px 1px rgba(0, 0, 0, 0.15);\n",
              "        filter: drop-shadow(0px 1px 2px rgba(0, 0, 0, 0.3));\n",
              "        fill: #FFFFFF;\n",
              "      }\n",
              "    </style>\n",
              "    <button class=\"colab-df-generate\" onclick=\"generateWithVariable('binary_df')\"\n",
              "            title=\"Generate code using this dataframe.\"\n",
              "            style=\"display:none;\">\n",
              "\n",
              "  <svg xmlns=\"http://www.w3.org/2000/svg\" height=\"24px\"viewBox=\"0 0 24 24\"\n",
              "       width=\"24px\">\n",
              "    <path d=\"M7,19H8.4L18.45,9,17,7.55,7,17.6ZM5,21V16.75L18.45,3.32a2,2,0,0,1,2.83,0l1.4,1.43a1.91,1.91,0,0,1,.58,1.4,1.91,1.91,0,0,1-.58,1.4L9.25,21ZM18.45,9,17,7.55Zm-12,3A5.31,5.31,0,0,0,4.9,8.1,5.31,5.31,0,0,0,1,6.5,5.31,5.31,0,0,0,4.9,4.9,5.31,5.31,0,0,0,6.5,1,5.31,5.31,0,0,0,8.1,4.9,5.31,5.31,0,0,0,12,6.5,5.46,5.46,0,0,0,6.5,12Z\"/>\n",
              "  </svg>\n",
              "    </button>\n",
              "    <script>\n",
              "      (() => {\n",
              "      const buttonEl =\n",
              "        document.querySelector('#id_e5d4f0db-273d-44f7-9389-8f5a16dab702 button.colab-df-generate');\n",
              "      buttonEl.style.display =\n",
              "        google.colab.kernel.accessAllowed ? 'block' : 'none';\n",
              "\n",
              "      buttonEl.onclick = () => {\n",
              "        google.colab.notebook.generateWithVariable('binary_df');\n",
              "      }\n",
              "      })();\n",
              "    </script>\n",
              "  </div>\n",
              "\n",
              "    </div>\n",
              "  </div>\n"
            ],
            "text/plain": [
              "              precision    recall  f1-score  support\n",
              "Healthy        1.000000  0.714286  0.833333      7.0\n",
              "Mci            0.875000  0.875000  0.875000      8.0\n",
              "micro avg      0.923077  0.800000  0.857143     15.0\n",
              "macro avg      0.937500  0.794643  0.854167     15.0\n",
              "weighted avg   0.933333  0.800000  0.855556     15.0"
            ]
          },
          "metadata": {},
          "output_type": "display_data"
        }
      ],
      "source": [
        "# 2. Classification Report (Healthy vs MCI only)\n",
        "binary_report = classification_report(\n",
        "    y_true, y_pred, labels=[\"Healthy\", \"Mci\"], output_dict=True, zero_division=0\n",
        ")\n",
        "binary_df = pd.DataFrame(binary_report).transpose()\n",
        "display(binary_df)"
      ]
    },
    {
      "cell_type": "markdown",
      "metadata": {
        "id": "jMIvi9hJvZ57"
      },
      "source": [
        "## Decision Distribution Chart"
      ]
    },
    {
      "cell_type": "code",
      "execution_count": null,
      "metadata": {
        "colab": {
          "base_uri": "https://localhost:8080/",
          "height": 407
        },
        "id": "--QyXkLruXAV",
        "outputId": "aee94b81-e990-4a12-91c0-2ab9b5e3b05d"
      },
      "outputs": [
        {
          "data": {
            "image/png": "[encoded data removed]",
            "text/plain": [
              "<Figure size 600x400 with 1 Axes>"
            ]
          },
          "metadata": {},
          "output_type": "display_data"
        }
      ],
      "source": [
        "# 3. Decision Distribution Chart\n",
        "decision_counts = df[\"LLM Decision\"].value_counts().reindex(labels, fill_value=0)\n",
        "\n",
        "plt.figure(figsize=(6, 4))\n",
        "sns.barplot(\n",
        "    x=decision_counts.index,\n",
        "    y=decision_counts.values,\n",
        "    hue=decision_counts.index,\n",
        "    palette=\"mako\",\n",
        "    legend=False\n",
        ")\n",
        "plt.ylabel(\"Count\")\n",
        "plt.title(\"LLM Decision Distribution\")\n",
        "plt.tight_layout()\n",
        "plt.show()\n"
      ]
    }
  ],
  "metadata": {
    "colab": {
      "provenance": []
    },
    "kernelspec": {
      "display_name": ".venv",
      "language": "python",
      "name": "python3"
    },
    "language_info": {
      "codemirror_mode": {
        "name": "ipython",
        "version": 3
      },
      "file_extension": ".py",
      "mimetype": "text/x-python",
      "name": "python",
      "nbconvert_exporter": "python",
      "pygments_lexer": "ipython3",
      "version": "3.10.4"
    }
  },
  "nbformat": 4,
  "nbformat_minor": 0
}
